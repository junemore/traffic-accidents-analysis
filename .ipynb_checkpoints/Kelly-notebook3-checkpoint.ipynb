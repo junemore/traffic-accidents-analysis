{
 "cells": [
  {
   "cell_type": "code",
   "execution_count": null,
   "metadata": {
    "collapsed": true
   },
   "outputs": [],
   "source": [
    "#the total accidents number each year, analysis the difference between every year\n",
    "year_acci=fatal_crashs[['YEAR','CASE_NUM']].groupby('YEAR').count()\n",
    "month_acci=fatal_crashs[['MONTH','CASE_NUM']].groupby('MONTH').count()\n",
    "day_acci=fatal_crashs[['DAY_WEEK','CASE_NUM']].groupby('DAY_WEEK').count()\n",
    "hour_acci=fatal_crashs[['HOUR','CASE_NUM']].groupby('HOUR').count()\n",
    "hour_acci=hour_acci.drop(hour_acci.index[-1])\n",
    "hour_acci.iloc[0]=hour_acci.iloc[0]+hour_acci.iloc[-1]\n",
    "hour_acci=hour_acci.drop(hour_acci.index[-1])\n",
    "day_acci.index = pd.CategoricalIndex(day_acci.index, \n",
    "                               categories=['Monday', 'Tuesday', 'Wednesday', 'Thursday','Friday','Saturday', 'Sunday'], \n",
    "                               sorted=True)\n",
    "day_acci = day_acci.sort_index()\n",
    "month_acci.index=pd.CategoricalIndex(month_acci.index, \n",
    "                               categories=['January', 'February', 'March', 'April','May','June', 'July','August','September','October','November','December'], \n",
    "                               sorted=True)\n",
    "month_acci=month_acci.sort_index()"
   ]
  },
  {
   "cell_type": "code",
   "execution_count": null,
   "metadata": {
    "collapsed": true
   },
   "outputs": [],
   "source": [
    "import matplotlib.pyplot as plt\n",
    "f1,axarr = plt.subplots(2,2)\n",
    "f1.set_figwidth(15)\n",
    "f1.set_figheight(9)\n",
    "\n",
    "axarr[0,0].set_ylabel(\"count\")\n",
    "axarr[0,0].set_title(\"the total accidents number each year\")\n",
    "axarr[0,0].bar(year_acci.index,year_acci['CASE_NUM'])\n",
    "\n",
    "\n",
    "objects1=np.array(month_acci.index)\n",
    "x1=np.arange(len(objects1))\n",
    "axarr[0,1].set_ylabel(\"count\")\n",
    "axarr[0,1].set_title(\"the total accidents number every month\")\n",
    "axarr[0,1].bar(x1,month_acci['CASE_NUM'])\n",
    "axarr[0,1].set_xticks(x1)\n",
    "axarr[0,1].set_xticklabels(objects1)\n",
    "\n",
    "axarr[1,0].set_ylabel(\"count\")\n",
    "axarr[1,0].set_title(\"the total accidents number every hour\")\n",
    "axarr[1,0].bar(hour_acci.index,hour_acci['CASE_NUM'])\n",
    "axarr[1,0].set_xticks(np.arange(0,24))\n",
    "\n",
    "objects2=np.array(day_acci.index)\n",
    "x2=np.arange(len(objects2))\n",
    "axarr[1,1].set_ylabel(\"count\")\n",
    "axarr[1,1].set_title(\"the total accidents number every week\")\n",
    "axarr[1,1].bar(x2,day_acci['CASE_NUM'])\n",
    "axarr[1,1].set_xticks(x2)\n",
    "axarr[1,1].set_xticklabels(objects2)\n",
    "f1\n",
    "#f1.savefig(\"fig/time_relate_count.png\")"
   ]
  },
  {
   "cell_type": "code",
   "execution_count": null,
   "metadata": {
    "collapsed": true
   },
   "outputs": [],
   "source": [
    "all.to_hdf('results/df1.h5', 'all')\n",
    "\n",
    "#with shelve.open('results/vars2') as db:\n",
    "    #db['speech_words'] = speech_words\n",
    "    #db['speeches_cleaned'] = speeches_cleaned"
   ]
  }
 ],
 "metadata": {
  "kernelspec": {
   "display_name": "Python 3",
   "language": "python",
   "name": "python3"
  },
  "language_info": {
   "codemirror_mode": {
    "name": "ipython",
    "version": 3
   },
   "file_extension": ".py",
   "mimetype": "text/x-python",
   "name": "python",
   "nbconvert_exporter": "python",
   "pygments_lexer": "ipython3",
   "version": "3.6.2"
  }
 },
 "nbformat": 4,
 "nbformat_minor": 2
}
