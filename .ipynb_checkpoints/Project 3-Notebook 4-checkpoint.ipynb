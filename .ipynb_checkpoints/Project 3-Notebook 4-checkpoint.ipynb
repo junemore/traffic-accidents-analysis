{
 "cells": [
  {
   "cell_type": "code",
   "execution_count": 94,
   "metadata": {
    "collapsed": true
   },
   "outputs": [],
   "source": [
    "from dbfread import DBF\n",
    "import pandas as pd\n",
    "from pandas import DataFrame\n",
    "import matplotlib \n",
    "import numpy as np\n",
    "import matplotlib.pyplot as plt\n",
    "import seaborn as sns\n",
    "\n",
    "from bokeh.charts import HeatMap, output_file, show\n",
    "from bokeh.charts import HeatMap, bins, output_file, show\n",
    "from bokeh.layouts import column, gridplot"
   ]
  },
  {
   "cell_type": "markdown",
   "metadata": {},
   "source": [
    "# Notebook 4\n",
    "In this notebook, we are going to explore some of the non human-factors that lead to accidents and fatal death."
   ]
  },
  {
   "cell_type": "markdown",
   "metadata": {},
   "source": [
    "## Load 10 years of accident data, from 2007 to 2016"
   ]
  },
  {
   "cell_type": "code",
   "execution_count": 2,
   "metadata": {
    "collapsed": true
   },
   "outputs": [],
   "source": [
    "dbf07= DBF('accident/accident2007.dbf')\n",
    "dbf08= DBF('accident/accident2008.dbf')\n",
    "dbf09= DBF('accident/accident2009.dbf')\n",
    "dbf10= DBF('accident/accident2010.dbf')\n",
    "dbf11 = DBF('accident/accident2011.dbf')\n",
    "dbf12 = DBF('accident/accident2012.dbf')\n",
    "dbf13 = DBF('accident/accident2013.dbf')\n",
    "dbf14 = DBF('accident/accident2014.dbf')\n",
    "dbf15 = DBF('accident/accident2015.dbf')\n",
    "dbf16 = DBF('accident/accident2016.dbf')\n",
    "accidents07 = DataFrame(iter(dbf07))\n",
    "accidents08 = DataFrame(iter(dbf08))\n",
    "accidents09 = DataFrame(iter(dbf09))\n",
    "accidents10 = DataFrame(iter(dbf10))\n",
    "accidents11 = DataFrame(iter(dbf11))\n",
    "accidents12 = DataFrame(iter(dbf12))\n",
    "accidents13 = DataFrame(iter(dbf13))\n",
    "accidents14 = DataFrame(iter(dbf14))\n",
    "accidents15 = DataFrame(iter(dbf15))\n",
    "accidents16 = DataFrame(iter(dbf16))\n"
   ]
  },
  {
   "cell_type": "markdown",
   "metadata": {},
   "source": [
    "First, we want to combine accidents10 ~ accidents16 to one dataframe. Since not all of the accident data downloaded from the U.S. Department of Transportation have the same features, by using the `jion:inner` option in `pd.concat` function, we can get the intersection of features."
   ]
  },
  {
   "cell_type": "code",
   "execution_count": 3,
   "metadata": {
    "collapsed": true
   },
   "outputs": [],
   "source": [
    "# rename column name in frame07 so that columns names are the same with other frames\n",
    "accidents07.rename(columns={'latitude': 'LATITUDE', 'longitud': 'LONGITUD'}, inplace=True)"
   ]
  },
  {
   "cell_type": "code",
   "execution_count": 4,
   "metadata": {
    "collapsed": true
   },
   "outputs": [],
   "source": [
    "# take a look inside how the accident data file looks like\n",
    "allaccidents = pd.concat([accidents07,accidents08,accidents09,accidents10,accidents11,accidents12,accidents13,accidents14,accidents15,accidents16], axis=0,join='inner')\n",
    "pd.set_option('display.max_columns', 100)"
   ]
  },
  {
   "cell_type": "code",
   "execution_count": 42,
   "metadata": {},
   "outputs": [
    {
     "data": {
      "text/plain": [
       "(320874, 42)"
      ]
     },
     "execution_count": 42,
     "metadata": {},
     "output_type": "execute_result"
    }
   ],
   "source": [
    "allaccidents.shape"
   ]
  },
  {
   "cell_type": "code",
   "execution_count": 53,
   "metadata": {},
   "outputs": [
    {
     "ename": "NameError",
     "evalue": "name 'accidents17' is not defined",
     "output_type": "error",
     "traceback": [
      "\u001b[0;31m---------------------------------------------------------------------------\u001b[0m",
      "\u001b[0;31mNameError\u001b[0m                                 Traceback (most recent call last)",
      "\u001b[0;32m<ipython-input-53-4528d3c08c69>\u001b[0m in \u001b[0;36m<module>\u001b[0;34m()\u001b[0m\n\u001b[0;32m----> 1\u001b[0;31m \u001b[0maccidents17\u001b[0m\u001b[0;34m[\u001b[0m\u001b[0;34m'TYP_INT'\u001b[0m\u001b[0;34m]\u001b[0m\u001b[0;34m\u001b[0m\u001b[0m\n\u001b[0m",
      "\u001b[0;31mNameError\u001b[0m: name 'accidents17' is not defined"
     ]
    }
   ],
   "source": []
  },
  {
   "cell_type": "markdown",
   "metadata": {},
   "source": [
    "## Select variables and rename variables"
   ]
  },
  {
   "cell_type": "markdown",
   "metadata": {},
   "source": [
    "Observed from the table above, some of the variables in the table are not very readable. Therefore, in order to make it easier to understand the variables,we renamed some of the variables according to `FARS Analytical User’s Manual`  downloaded from the  `U.S. Department of Transportation`  website."
   ]
  },
  {
   "cell_type": "code",
   "execution_count": 70,
   "metadata": {
    "collapsed": true
   },
   "outputs": [],
   "source": [
    "#combine all vehicle file\n",
    "import warnings\n",
    "warnings.filterwarnings('ignore')\n",
    "\n",
    "#select only necessary variable\n",
    "accidents = allaccidents[['YEAR','ST_CASE','STATE','VE_TOTAL','PERSONS','FATALS','MONTH','DAY_WEEK','HOUR','NHS','LATITUDE','LONGITUD','MAN_COLL','LGT_COND','WEATHER','ARR_HOUR','ARR_MIN','CF1','DRUNK_DR',]]\n",
    "\n",
    "#rename the variable according to FARS Analytical User’s Manual for easy understanding\n",
    "accidents.rename(columns={'ST_CASE':'CASE_NUM','VE_TOTAL':'NUM_VEHICLE','NHS': 'HIGHWAY', 'MAN_COLL': 'COLLISION_TYPE','LGT_COND':'LIGHT_CONDITION','CF1':'CRASH_FACTOR','DRUNK_DR':'DRUNK_DRIVE'}, inplace=True)\n",
    "\n",
    "#match month, weekday, weekends, highway or not, collision and light condition to its meaning\n",
    "accidents['MONTH'] = accidents['MONTH'].map({1.0:'January', 2.0:'February', 3.0: 'March', 4.0:'April', 5.0:'May', 6.0:'June', 7.0:'July', 8.0:'August',9.0: 'September', 10.0:'October', 11.0:'November', 12.0:'December'})\n",
    "accidents['DAY_WEEK']= accidents['DAY_WEEK'].map({1.0:'Sunday',2.0:'Monday', 3.0:'Tuesday', 4.0: 'Wednesday', 5.0:'Thursday', 6.0:'Friday', 7.0:'Saturday'})\n",
    "accidents['HIGHWAY'] = accidents['HIGHWAY'].map({1.0:'On',0.0:'Off',9.0:'Unknow'})\n",
    "accidents['COLLISION_TYPE'] = accidents['COLLISION_TYPE'].map({0.0:'Not Collision',1.0:'Rear-End',2.0:'Head-On',3.0:'Rear-to-Rear',4.0:'Angle',5.0:'Sideswipe, Same Direction',6.0:'Sideswipe, Opposite Direction',7.0:'Sideswipe, Unknown Direction',9.0:'Unknown'})\n",
    "accidents['LIGHT_CONDITION'] = accidents['LIGHT_CONDITION'].map({1.0:'Daylight',2.0:'Dark' ,3.0:'Dark',5.0:'Dusk',6.0:'Dark',4.0:'Dawn', 7.0:'Other',8.0 :'Not Report', 9.0:'Not Report'})\n"
   ]
  },
  {
   "cell_type": "code",
   "execution_count": 7,
   "metadata": {
    "collapsed": true
   },
   "outputs": [],
   "source": [
    "#match Weather code to its meaning\n",
    "accidents['WEATHER'] = accidents['WEATHER'].map({0.0:'Normal',1.0:'Clear',2.0:'Rain', 3.0: 'Sleet,Hail', 4.0:'Snow', 5.0:'Fog, Smog, Smoke',6.0:'Severe Crosswinds',7.0:'Blowing Sand, Soil, Dirt',8.0:'other',10.0:'Cloudy',11.0:'Blowing Snow',12.0:'Freezing Rain or Drizzle',98.0:'Not Reported', 99.0:'Unkown' })"
   ]
  },
  {
   "cell_type": "code",
   "execution_count": 8,
   "metadata": {
    "collapsed": true
   },
   "outputs": [],
   "source": [
    "accidents['STATE']=accidents['STATE'].astype(int)\n",
    "accidents['CASE_NUM']=accidents['CASE_NUM'].astype(int)\n",
    "accidents['YEAR']=accidents['YEAR'].astype(object)"
   ]
  },
  {
   "cell_type": "code",
   "execution_count": 9,
   "metadata": {},
   "outputs": [
    {
     "data": {
      "text/plain": [
       "(320874, 19)"
      ]
     },
     "execution_count": 9,
     "metadata": {},
     "output_type": "execute_result"
    }
   ],
   "source": [
    "accidents.index = list(accidents['YEAR'].astype(str) + accidents['CASE_NUM'].astype(str))\n",
    "accidents.shape"
   ]
  },
  {
   "cell_type": "code",
   "execution_count": 10,
   "metadata": {},
   "outputs": [
    {
     "data": {
      "text/html": [
       "<div>\n",
       "<style>\n",
       "    .dataframe thead tr:only-child th {\n",
       "        text-align: right;\n",
       "    }\n",
       "\n",
       "    .dataframe thead th {\n",
       "        text-align: left;\n",
       "    }\n",
       "\n",
       "    .dataframe tbody tr th {\n",
       "        vertical-align: top;\n",
       "    }\n",
       "</style>\n",
       "<table border=\"1\" class=\"dataframe\">\n",
       "  <thead>\n",
       "    <tr style=\"text-align: right;\">\n",
       "      <th></th>\n",
       "      <th>YEAR</th>\n",
       "      <th>CASE_NUM</th>\n",
       "      <th>STATE</th>\n",
       "      <th>NUM_VEHICLE</th>\n",
       "      <th>PERSONS</th>\n",
       "      <th>FATALS</th>\n",
       "      <th>MONTH</th>\n",
       "      <th>DAY_WEEK</th>\n",
       "      <th>HOUR</th>\n",
       "      <th>HIGHWAY</th>\n",
       "      <th>LATITUDE</th>\n",
       "      <th>LONGITUD</th>\n",
       "      <th>COLLISION_TYPE</th>\n",
       "      <th>LIGHT_CONDITION</th>\n",
       "      <th>WEATHER</th>\n",
       "      <th>ARR_HOUR</th>\n",
       "      <th>ARR_MIN</th>\n",
       "      <th>CRASH_FACTOR</th>\n",
       "      <th>DRUNK_DRIVE</th>\n",
       "    </tr>\n",
       "  </thead>\n",
       "  <tbody>\n",
       "    <tr>\n",
       "      <th>2007.010001</th>\n",
       "      <td>2007</td>\n",
       "      <td>10001</td>\n",
       "      <td>1</td>\n",
       "      <td>1.0</td>\n",
       "      <td>1.0</td>\n",
       "      <td>1.0</td>\n",
       "      <td>January</td>\n",
       "      <td>Tuesday</td>\n",
       "      <td>23.0</td>\n",
       "      <td>Off</td>\n",
       "      <td>33.455839</td>\n",
       "      <td>-87.017928</td>\n",
       "      <td>Not Collision</td>\n",
       "      <td>Dark</td>\n",
       "      <td>Clear</td>\n",
       "      <td>23.0</td>\n",
       "      <td>20.0</td>\n",
       "      <td>0.0</td>\n",
       "      <td>0.0</td>\n",
       "    </tr>\n",
       "    <tr>\n",
       "      <th>2007.010002</th>\n",
       "      <td>2007</td>\n",
       "      <td>10002</td>\n",
       "      <td>1</td>\n",
       "      <td>3.0</td>\n",
       "      <td>4.0</td>\n",
       "      <td>2.0</td>\n",
       "      <td>January</td>\n",
       "      <td>Tuesday</td>\n",
       "      <td>13.0</td>\n",
       "      <td>Off</td>\n",
       "      <td>34.160597</td>\n",
       "      <td>-85.678075</td>\n",
       "      <td>Sideswipe, Same Direction</td>\n",
       "      <td>Daylight</td>\n",
       "      <td>Clear</td>\n",
       "      <td>13.0</td>\n",
       "      <td>11.0</td>\n",
       "      <td>0.0</td>\n",
       "      <td>0.0</td>\n",
       "    </tr>\n",
       "    <tr>\n",
       "      <th>2007.010003</th>\n",
       "      <td>2007</td>\n",
       "      <td>10003</td>\n",
       "      <td>1</td>\n",
       "      <td>2.0</td>\n",
       "      <td>5.0</td>\n",
       "      <td>1.0</td>\n",
       "      <td>January</td>\n",
       "      <td>Sunday</td>\n",
       "      <td>12.0</td>\n",
       "      <td>Off</td>\n",
       "      <td>33.975717</td>\n",
       "      <td>-86.496347</td>\n",
       "      <td>Sideswipe, Unknown Direction</td>\n",
       "      <td>Daylight</td>\n",
       "      <td>Clear</td>\n",
       "      <td>12.0</td>\n",
       "      <td>18.0</td>\n",
       "      <td>0.0</td>\n",
       "      <td>0.0</td>\n",
       "    </tr>\n",
       "    <tr>\n",
       "      <th>2007.010004</th>\n",
       "      <td>2007</td>\n",
       "      <td>10004</td>\n",
       "      <td>1</td>\n",
       "      <td>2.0</td>\n",
       "      <td>2.0</td>\n",
       "      <td>1.0</td>\n",
       "      <td>January</td>\n",
       "      <td>Monday</td>\n",
       "      <td>15.0</td>\n",
       "      <td>On</td>\n",
       "      <td>33.853258</td>\n",
       "      <td>-85.915622</td>\n",
       "      <td>Angle</td>\n",
       "      <td>Daylight</td>\n",
       "      <td>Clear</td>\n",
       "      <td>15.0</td>\n",
       "      <td>5.0</td>\n",
       "      <td>0.0</td>\n",
       "      <td>0.0</td>\n",
       "    </tr>\n",
       "    <tr>\n",
       "      <th>2007.010005</th>\n",
       "      <td>2007</td>\n",
       "      <td>10005</td>\n",
       "      <td>1</td>\n",
       "      <td>2.0</td>\n",
       "      <td>5.0</td>\n",
       "      <td>1.0</td>\n",
       "      <td>January</td>\n",
       "      <td>Saturday</td>\n",
       "      <td>19.0</td>\n",
       "      <td>Off</td>\n",
       "      <td>32.488833</td>\n",
       "      <td>-86.408936</td>\n",
       "      <td>Sideswipe, Same Direction</td>\n",
       "      <td>Dark</td>\n",
       "      <td>Clear</td>\n",
       "      <td>19.0</td>\n",
       "      <td>41.0</td>\n",
       "      <td>0.0</td>\n",
       "      <td>0.0</td>\n",
       "    </tr>\n",
       "  </tbody>\n",
       "</table>\n",
       "</div>"
      ],
      "text/plain": [
       "             YEAR  CASE_NUM  STATE  NUM_VEHICLE  PERSONS  FATALS    MONTH  \\\n",
       "2007.010001  2007     10001      1          1.0      1.0     1.0  January   \n",
       "2007.010002  2007     10002      1          3.0      4.0     2.0  January   \n",
       "2007.010003  2007     10003      1          2.0      5.0     1.0  January   \n",
       "2007.010004  2007     10004      1          2.0      2.0     1.0  January   \n",
       "2007.010005  2007     10005      1          2.0      5.0     1.0  January   \n",
       "\n",
       "             DAY_WEEK  HOUR HIGHWAY   LATITUDE   LONGITUD  \\\n",
       "2007.010001   Tuesday  23.0     Off  33.455839 -87.017928   \n",
       "2007.010002   Tuesday  13.0     Off  34.160597 -85.678075   \n",
       "2007.010003    Sunday  12.0     Off  33.975717 -86.496347   \n",
       "2007.010004    Monday  15.0      On  33.853258 -85.915622   \n",
       "2007.010005  Saturday  19.0     Off  32.488833 -86.408936   \n",
       "\n",
       "                           COLLISION_TYPE LIGHT_CONDITION WEATHER  ARR_HOUR  \\\n",
       "2007.010001                 Not Collision            Dark   Clear      23.0   \n",
       "2007.010002     Sideswipe, Same Direction        Daylight   Clear      13.0   \n",
       "2007.010003  Sideswipe, Unknown Direction        Daylight   Clear      12.0   \n",
       "2007.010004                         Angle        Daylight   Clear      15.0   \n",
       "2007.010005     Sideswipe, Same Direction            Dark   Clear      19.0   \n",
       "\n",
       "             ARR_MIN  CRASH_FACTOR  DRUNK_DRIVE  \n",
       "2007.010001     20.0           0.0          0.0  \n",
       "2007.010002     11.0           0.0          0.0  \n",
       "2007.010003     18.0           0.0          0.0  \n",
       "2007.010004      5.0           0.0          0.0  \n",
       "2007.010005     41.0           0.0          0.0  "
      ]
     },
     "execution_count": 10,
     "metadata": {},
     "output_type": "execute_result"
    }
   ],
   "source": [
    "accidents.head()"
   ]
  },
  {
   "cell_type": "markdown",
   "metadata": {},
   "source": [
    "# Weather"
   ]
  },
  {
   "cell_type": "markdown",
   "metadata": {},
   "source": [
    "** one of the most important contributing factor to accidetn is weather.**\n",
    "**we want to explore the proportion of eahc weather condition that leads to accident.**\n"
   ]
  },
  {
   "cell_type": "code",
   "execution_count": 15,
   "metadata": {
    "collapsed": true
   },
   "outputs": [],
   "source": [
    "accident_weather = accidents.groupby(\"WEATHER\")[\"WEATHER\"].count().reset_index(name=\"count\").sort_values(\"count\", ascending = False )\n",
    "accident_weather = accident_weather.reset_index(drop=True)"
   ]
  },
  {
   "cell_type": "code",
   "execution_count": 27,
   "metadata": {
    "scrolled": true
   },
   "outputs": [
    {
     "data": {
      "text/html": [
       "<div>\n",
       "<style>\n",
       "    .dataframe thead tr:only-child th {\n",
       "        text-align: right;\n",
       "    }\n",
       "\n",
       "    .dataframe thead th {\n",
       "        text-align: left;\n",
       "    }\n",
       "\n",
       "    .dataframe tbody tr th {\n",
       "        vertical-align: top;\n",
       "    }\n",
       "</style>\n",
       "<table border=\"1\" class=\"dataframe\">\n",
       "  <thead>\n",
       "    <tr style=\"text-align: right;\">\n",
       "      <th></th>\n",
       "      <th>WEATHER</th>\n",
       "      <th>count</th>\n",
       "    </tr>\n",
       "  </thead>\n",
       "  <tbody>\n",
       "    <tr>\n",
       "      <th>0</th>\n",
       "      <td>Clear</td>\n",
       "      <td>250277</td>\n",
       "    </tr>\n",
       "    <tr>\n",
       "      <th>1</th>\n",
       "      <td>Cloudy</td>\n",
       "      <td>33679</td>\n",
       "    </tr>\n",
       "    <tr>\n",
       "      <th>2</th>\n",
       "      <td>Rain</td>\n",
       "      <td>22172</td>\n",
       "    </tr>\n",
       "    <tr>\n",
       "      <th>3</th>\n",
       "      <td>Snow</td>\n",
       "      <td>4687</td>\n",
       "    </tr>\n",
       "    <tr>\n",
       "      <th>4</th>\n",
       "      <td>Fog, Smog, Smoke</td>\n",
       "      <td>3562</td>\n",
       "    </tr>\n",
       "    <tr>\n",
       "      <th>5</th>\n",
       "      <td>Not Reported</td>\n",
       "      <td>2121</td>\n",
       "    </tr>\n",
       "    <tr>\n",
       "      <th>6</th>\n",
       "      <td>Unkown</td>\n",
       "      <td>1208</td>\n",
       "    </tr>\n",
       "    <tr>\n",
       "      <th>7</th>\n",
       "      <td>Sleet,Hail</td>\n",
       "      <td>1166</td>\n",
       "    </tr>\n",
       "    <tr>\n",
       "      <th>8</th>\n",
       "      <td>Severe Crosswinds</td>\n",
       "      <td>492</td>\n",
       "    </tr>\n",
       "    <tr>\n",
       "      <th>9</th>\n",
       "      <td>other</td>\n",
       "      <td>399</td>\n",
       "    </tr>\n",
       "    <tr>\n",
       "      <th>10</th>\n",
       "      <td>Blowing Snow</td>\n",
       "      <td>210</td>\n",
       "    </tr>\n",
       "    <tr>\n",
       "      <th>11</th>\n",
       "      <td>Blowing Sand, Soil, Dirt</td>\n",
       "      <td>118</td>\n",
       "    </tr>\n",
       "    <tr>\n",
       "      <th>12</th>\n",
       "      <td>Freezing Rain or Drizzle</td>\n",
       "      <td>84</td>\n",
       "    </tr>\n",
       "  </tbody>\n",
       "</table>\n",
       "</div>"
      ],
      "text/plain": [
       "                     WEATHER   count\n",
       "0                      Clear  250277\n",
       "1                     Cloudy   33679\n",
       "2                       Rain   22172\n",
       "3                       Snow    4687\n",
       "4           Fog, Smog, Smoke    3562\n",
       "5               Not Reported    2121\n",
       "6                     Unkown    1208\n",
       "7                 Sleet,Hail    1166\n",
       "8          Severe Crosswinds     492\n",
       "9                      other     399\n",
       "10              Blowing Snow     210\n",
       "11  Blowing Sand, Soil, Dirt     118\n",
       "12  Freezing Rain or Drizzle      84"
      ]
     },
     "execution_count": 27,
     "metadata": {},
     "output_type": "execute_result"
    }
   ],
   "source": [
    "accident_weather"
   ]
  },
  {
   "cell_type": "markdown",
   "metadata": {},
   "source": [
    "let's generate a boxplot to visulizaize how many accident happens under each weather condition"
   ]
  },
  {
   "cell_type": "code",
   "execution_count": 29,
   "metadata": {
    "scrolled": false
   },
   "outputs": [
    {
     "data": {
      "image/png": "[encoded data removed]",
      "text/plain": [
       "<matplotlib.figure.Figure at 0x12c79d2e8>"
      ]
     },
     "metadata": {},
     "output_type": "display_data"
    }
   ],
   "source": [
    "sns.barplot(y = 'WEATHER', x = 'count', data = accident_weather)\n",
    "plt.title(\"Number of Weather Related Accident\", fontsize=18)\n",
    "plt.xlabel(\"count\")\n",
    "plt.show()"
   ]
  },
  {
   "cell_type": "code",
   "execution_count": 30,
   "metadata": {
    "collapsed": true
   },
   "outputs": [],
   "source": [
    "#  a function hide any percentage that is less than 1 percent\n",
    "def my_autopct(pct):\n",
    "    return ('%1.1f%%' % pct) if pct > 1 else ''\n",
    "\n",
    "# hide any label with percentage that is less than 1 percent\n",
    "label = []\n",
    "summ = sum(accident_weather['count'])\n",
    "length = len(accident_weather['count'])\n",
    "\n",
    "for i in range(length):\n",
    "    if accident_weather['count'][i]/summ >= 0.01:\n",
    "        label.append(accident_weather['WEATHER'][i])\n",
    "    else:\n",
    "        label.append('')"
   ]
  },
  {
   "cell_type": "code",
   "execution_count": 31,
   "metadata": {
    "scrolled": false
   },
   "outputs": [
    {
     "data": {
      "image/png": "[encoded data removed]",
      "text/plain": [
       "<matplotlib.figure.Figure at 0x1125bfda0>"
      ]
     },
     "metadata": {},
     "output_type": "display_data"
    }
   ],
   "source": [
    "\n",
    "#this is much a better plot than the previous one\n",
    "\n",
    "fig = plt.figure(figsize=[10, 10])\n",
    "ax = fig.add_subplot(111)\n",
    "ax.pie(accident_weather['count'],labels = label,autopct= my_autopct)\n",
    "plt.title(\"Porportion of Weather Related Accidents \", fontsize=18)\n",
    "plt.show()"
   ]
  },
  {
   "cell_type": "markdown",
   "metadata": {},
   "source": [
    "# Light Condtion"
   ]
  },
  {
   "cell_type": "code",
   "execution_count": 33,
   "metadata": {
    "collapsed": true
   },
   "outputs": [],
   "source": [
    "light_accident = accidents.groupby(\"LIGHT_CONDITION\")[\"LIGHT_CONDITION\"].count().reset_index(name=\"count\").sort_values(\"count\", ascending = False )\n",
    "light_accident = light_accident.reset_index(drop=True)"
   ]
  },
  {
   "cell_type": "code",
   "execution_count": 34,
   "metadata": {},
   "outputs": [
    {
     "data": {
      "text/html": [
       "<div>\n",
       "<style>\n",
       "    .dataframe thead tr:only-child th {\n",
       "        text-align: right;\n",
       "    }\n",
       "\n",
       "    .dataframe thead th {\n",
       "        text-align: left;\n",
       "    }\n",
       "\n",
       "    .dataframe tbody tr th {\n",
       "        vertical-align: top;\n",
       "    }\n",
       "</style>\n",
       "<table border=\"1\" class=\"dataframe\">\n",
       "  <thead>\n",
       "    <tr style=\"text-align: right;\">\n",
       "      <th></th>\n",
       "      <th>LIGHT_CONDITION</th>\n",
       "      <th>count</th>\n",
       "    </tr>\n",
       "  </thead>\n",
       "  <tbody>\n",
       "    <tr>\n",
       "      <th>0</th>\n",
       "      <td>Daylight</td>\n",
       "      <td>154868</td>\n",
       "    </tr>\n",
       "    <tr>\n",
       "      <th>1</th>\n",
       "      <td>Dark</td>\n",
       "      <td>151268</td>\n",
       "    </tr>\n",
       "    <tr>\n",
       "      <th>2</th>\n",
       "      <td>Dusk</td>\n",
       "      <td>7238</td>\n",
       "    </tr>\n",
       "    <tr>\n",
       "      <th>3</th>\n",
       "      <td>Dawn</td>\n",
       "      <td>5927</td>\n",
       "    </tr>\n",
       "    <tr>\n",
       "      <th>4</th>\n",
       "      <td>Not Report</td>\n",
       "      <td>1486</td>\n",
       "    </tr>\n",
       "    <tr>\n",
       "      <th>5</th>\n",
       "      <td>Other</td>\n",
       "      <td>87</td>\n",
       "    </tr>\n",
       "  </tbody>\n",
       "</table>\n",
       "</div>"
      ],
      "text/plain": [
       "  LIGHT_CONDITION   count\n",
       "0        Daylight  154868\n",
       "1            Dark  151268\n",
       "2            Dusk    7238\n",
       "3            Dawn    5927\n",
       "4      Not Report    1486\n",
       "5           Other      87"
      ]
     },
     "execution_count": 34,
     "metadata": {},
     "output_type": "execute_result"
    }
   ],
   "source": [
    "light_accident"
   ]
  },
  {
   "cell_type": "code",
   "execution_count": 35,
   "metadata": {},
   "outputs": [
    {
     "data": {
      "image/png": "[encoded data removed]",
      "text/plain": [
       "<matplotlib.figure.Figure at 0x10e74a048>"
      ]
     },
     "metadata": {},
     "output_type": "display_data"
    }
   ],
   "source": [
    "sns.barplot(x = 'LIGHT_CONDITION', y = 'count', data = light_accident)\n",
    "plt.title(\"Accident under Light Condition \", fontsize=18)\n",
    "plt.xlabel(\"count\")\n",
    "plt.show()"
   ]
  },
  {
   "cell_type": "code",
   "execution_count": null,
   "metadata": {
    "collapsed": true
   },
   "outputs": [],
   "source": []
  },
  {
   "cell_type": "markdown",
   "metadata": {},
   "source": [
    "# Intersection "
   ]
  },
  {
   "cell_type": "markdown",
   "metadata": {},
   "source": [
    "**we will explore  how different intersections leads to traffic accidents. Since this data has only been recorded since 2009, we need to create a new data frame from 2009 to 2016.**"
   ]
  },
  {
   "cell_type": "code",
   "execution_count": 80,
   "metadata": {
    "collapsed": true
   },
   "outputs": [],
   "source": [
    "accidents_intersect = pd.concat([accidents10,accidents11,accidents12,accidents13,accidents14,accidents15,accidents16], axis=0,join='inner')"
   ]
  },
  {
   "cell_type": "code",
   "execution_count": 81,
   "metadata": {
    "collapsed": true
   },
   "outputs": [],
   "source": [
    "accidents_intersect['TYP_INT'] = accidents_intersect['TYP_INT'].map({1:'Not an Intersection',2:'Four-Way Intersection',3:'T-Intersection',4:'Y-Intersection',5:'Traffic Circle',6:'Roundabout',7:\"Five-Point, or More\",10:\"L-Intersection\",98:\"Not Reported\",99:\"Unknown\"})"
   ]
  },
  {
   "cell_type": "code",
   "execution_count": 82,
   "metadata": {},
   "outputs": [
    {
     "data": {
      "text/html": [
       "<div>\n",
       "<style>\n",
       "    .dataframe thead tr:only-child th {\n",
       "        text-align: right;\n",
       "    }\n",
       "\n",
       "    .dataframe thead th {\n",
       "        text-align: left;\n",
       "    }\n",
       "\n",
       "    .dataframe tbody tr th {\n",
       "        vertical-align: top;\n",
       "    }\n",
       "</style>\n",
       "<table border=\"1\" class=\"dataframe\">\n",
       "  <thead>\n",
       "    <tr style=\"text-align: right;\">\n",
       "      <th></th>\n",
       "      <th>STATE</th>\n",
       "      <th>ST_CASE</th>\n",
       "      <th>VE_TOTAL</th>\n",
       "      <th>VE_FORMS</th>\n",
       "      <th>PEDS</th>\n",
       "      <th>PERSONS</th>\n",
       "      <th>COUNTY</th>\n",
       "      <th>CITY</th>\n",
       "      <th>DAY</th>\n",
       "      <th>MONTH</th>\n",
       "      <th>YEAR</th>\n",
       "      <th>DAY_WEEK</th>\n",
       "      <th>HOUR</th>\n",
       "      <th>MINUTE</th>\n",
       "      <th>NHS</th>\n",
       "      <th>ROUTE</th>\n",
       "      <th>TWAY_ID</th>\n",
       "      <th>TWAY_ID2</th>\n",
       "      <th>MILEPT</th>\n",
       "      <th>LATITUDE</th>\n",
       "      <th>LONGITUD</th>\n",
       "      <th>SP_JUR</th>\n",
       "      <th>HARM_EV</th>\n",
       "      <th>MAN_COLL</th>\n",
       "      <th>RELJCT1</th>\n",
       "      <th>RELJCT2</th>\n",
       "      <th>TYP_INT</th>\n",
       "      <th>REL_ROAD</th>\n",
       "      <th>WRK_ZONE</th>\n",
       "      <th>LGT_COND</th>\n",
       "      <th>WEATHER1</th>\n",
       "      <th>WEATHER2</th>\n",
       "      <th>WEATHER</th>\n",
       "      <th>SCH_BUS</th>\n",
       "      <th>RAIL</th>\n",
       "      <th>NOT_HOUR</th>\n",
       "      <th>NOT_MIN</th>\n",
       "      <th>ARR_HOUR</th>\n",
       "      <th>ARR_MIN</th>\n",
       "      <th>HOSP_HR</th>\n",
       "      <th>HOSP_MN</th>\n",
       "      <th>CF1</th>\n",
       "      <th>CF2</th>\n",
       "      <th>CF3</th>\n",
       "      <th>FATALS</th>\n",
       "      <th>DRUNK_DR</th>\n",
       "    </tr>\n",
       "  </thead>\n",
       "  <tbody>\n",
       "    <tr>\n",
       "      <th>0</th>\n",
       "      <td>1</td>\n",
       "      <td>10001</td>\n",
       "      <td>1</td>\n",
       "      <td>1</td>\n",
       "      <td>0</td>\n",
       "      <td>2</td>\n",
       "      <td>81</td>\n",
       "      <td>2340</td>\n",
       "      <td>15</td>\n",
       "      <td>1</td>\n",
       "      <td>2010</td>\n",
       "      <td>6</td>\n",
       "      <td>4</td>\n",
       "      <td>10</td>\n",
       "      <td>1</td>\n",
       "      <td>1</td>\n",
       "      <td>I-85</td>\n",
       "      <td></td>\n",
       "      <td>621</td>\n",
       "      <td>32.641064</td>\n",
       "      <td>-85.354692</td>\n",
       "      <td>0</td>\n",
       "      <td>42</td>\n",
       "      <td>0</td>\n",
       "      <td>0</td>\n",
       "      <td>1</td>\n",
       "      <td>Not an Intersection</td>\n",
       "      <td>4</td>\n",
       "      <td>0</td>\n",
       "      <td>3</td>\n",
       "      <td>1</td>\n",
       "      <td>0</td>\n",
       "      <td>1</td>\n",
       "      <td>0</td>\n",
       "      <td>0000000</td>\n",
       "      <td>99</td>\n",
       "      <td>99</td>\n",
       "      <td>4</td>\n",
       "      <td>20</td>\n",
       "      <td>99</td>\n",
       "      <td>99</td>\n",
       "      <td>0</td>\n",
       "      <td>0</td>\n",
       "      <td>0</td>\n",
       "      <td>1</td>\n",
       "      <td>1</td>\n",
       "    </tr>\n",
       "    <tr>\n",
       "      <th>1</th>\n",
       "      <td>1</td>\n",
       "      <td>10002</td>\n",
       "      <td>1</td>\n",
       "      <td>1</td>\n",
       "      <td>0</td>\n",
       "      <td>1</td>\n",
       "      <td>35</td>\n",
       "      <td>1080</td>\n",
       "      <td>11</td>\n",
       "      <td>1</td>\n",
       "      <td>2010</td>\n",
       "      <td>2</td>\n",
       "      <td>6</td>\n",
       "      <td>0</td>\n",
       "      <td>0</td>\n",
       "      <td>6</td>\n",
       "      <td>5010</td>\n",
       "      <td></td>\n",
       "      <td>0</td>\n",
       "      <td>31.430447</td>\n",
       "      <td>-86.956694</td>\n",
       "      <td>0</td>\n",
       "      <td>30</td>\n",
       "      <td>0</td>\n",
       "      <td>0</td>\n",
       "      <td>1</td>\n",
       "      <td>Not an Intersection</td>\n",
       "      <td>4</td>\n",
       "      <td>0</td>\n",
       "      <td>3</td>\n",
       "      <td>1</td>\n",
       "      <td>0</td>\n",
       "      <td>1</td>\n",
       "      <td>0</td>\n",
       "      <td>0000000</td>\n",
       "      <td>99</td>\n",
       "      <td>99</td>\n",
       "      <td>6</td>\n",
       "      <td>9</td>\n",
       "      <td>99</td>\n",
       "      <td>99</td>\n",
       "      <td>0</td>\n",
       "      <td>0</td>\n",
       "      <td>0</td>\n",
       "      <td>1</td>\n",
       "      <td>0</td>\n",
       "    </tr>\n",
       "    <tr>\n",
       "      <th>2</th>\n",
       "      <td>1</td>\n",
       "      <td>10003</td>\n",
       "      <td>3</td>\n",
       "      <td>3</td>\n",
       "      <td>0</td>\n",
       "      <td>3</td>\n",
       "      <td>97</td>\n",
       "      <td>2100</td>\n",
       "      <td>14</td>\n",
       "      <td>1</td>\n",
       "      <td>2010</td>\n",
       "      <td>5</td>\n",
       "      <td>15</td>\n",
       "      <td>10</td>\n",
       "      <td>0</td>\n",
       "      <td>2</td>\n",
       "      <td>US-SR 42</td>\n",
       "      <td>4639</td>\n",
       "      <td>0</td>\n",
       "      <td>30.691631</td>\n",
       "      <td>-88.085778</td>\n",
       "      <td>0</td>\n",
       "      <td>12</td>\n",
       "      <td>11</td>\n",
       "      <td>0</td>\n",
       "      <td>2</td>\n",
       "      <td>T-Intersection</td>\n",
       "      <td>1</td>\n",
       "      <td>0</td>\n",
       "      <td>1</td>\n",
       "      <td>1</td>\n",
       "      <td>0</td>\n",
       "      <td>1</td>\n",
       "      <td>0</td>\n",
       "      <td>0000000</td>\n",
       "      <td>99</td>\n",
       "      <td>99</td>\n",
       "      <td>15</td>\n",
       "      <td>16</td>\n",
       "      <td>99</td>\n",
       "      <td>99</td>\n",
       "      <td>0</td>\n",
       "      <td>0</td>\n",
       "      <td>0</td>\n",
       "      <td>1</td>\n",
       "      <td>0</td>\n",
       "    </tr>\n",
       "    <tr>\n",
       "      <th>3</th>\n",
       "      <td>1</td>\n",
       "      <td>10004</td>\n",
       "      <td>2</td>\n",
       "      <td>2</td>\n",
       "      <td>0</td>\n",
       "      <td>2</td>\n",
       "      <td>115</td>\n",
       "      <td>160</td>\n",
       "      <td>21</td>\n",
       "      <td>1</td>\n",
       "      <td>2010</td>\n",
       "      <td>5</td>\n",
       "      <td>1</td>\n",
       "      <td>16</td>\n",
       "      <td>0</td>\n",
       "      <td>2</td>\n",
       "      <td>US-SR 53</td>\n",
       "      <td></td>\n",
       "      <td>2400</td>\n",
       "      <td>33.868700</td>\n",
       "      <td>-86.291164</td>\n",
       "      <td>0</td>\n",
       "      <td>12</td>\n",
       "      <td>2</td>\n",
       "      <td>0</td>\n",
       "      <td>1</td>\n",
       "      <td>Not an Intersection</td>\n",
       "      <td>1</td>\n",
       "      <td>0</td>\n",
       "      <td>3</td>\n",
       "      <td>2</td>\n",
       "      <td>0</td>\n",
       "      <td>2</td>\n",
       "      <td>0</td>\n",
       "      <td>0000000</td>\n",
       "      <td>99</td>\n",
       "      <td>99</td>\n",
       "      <td>1</td>\n",
       "      <td>16</td>\n",
       "      <td>88</td>\n",
       "      <td>88</td>\n",
       "      <td>0</td>\n",
       "      <td>0</td>\n",
       "      <td>0</td>\n",
       "      <td>1</td>\n",
       "      <td>0</td>\n",
       "    </tr>\n",
       "    <tr>\n",
       "      <th>4</th>\n",
       "      <td>1</td>\n",
       "      <td>10005</td>\n",
       "      <td>2</td>\n",
       "      <td>2</td>\n",
       "      <td>0</td>\n",
       "      <td>2</td>\n",
       "      <td>117</td>\n",
       "      <td>0</td>\n",
       "      <td>4</td>\n",
       "      <td>1</td>\n",
       "      <td>2010</td>\n",
       "      <td>2</td>\n",
       "      <td>6</td>\n",
       "      <td>38</td>\n",
       "      <td>1</td>\n",
       "      <td>1</td>\n",
       "      <td>I-65</td>\n",
       "      <td></td>\n",
       "      <td>2440</td>\n",
       "      <td>33.309742</td>\n",
       "      <td>-86.787222</td>\n",
       "      <td>0</td>\n",
       "      <td>12</td>\n",
       "      <td>7</td>\n",
       "      <td>0</td>\n",
       "      <td>1</td>\n",
       "      <td>Not an Intersection</td>\n",
       "      <td>1</td>\n",
       "      <td>1</td>\n",
       "      <td>4</td>\n",
       "      <td>1</td>\n",
       "      <td>0</td>\n",
       "      <td>1</td>\n",
       "      <td>0</td>\n",
       "      <td>0000000</td>\n",
       "      <td>99</td>\n",
       "      <td>99</td>\n",
       "      <td>6</td>\n",
       "      <td>49</td>\n",
       "      <td>88</td>\n",
       "      <td>88</td>\n",
       "      <td>0</td>\n",
       "      <td>0</td>\n",
       "      <td>0</td>\n",
       "      <td>1</td>\n",
       "      <td>0</td>\n",
       "    </tr>\n",
       "  </tbody>\n",
       "</table>\n",
       "</div>"
      ],
      "text/plain": [
       "   STATE  ST_CASE  VE_TOTAL  VE_FORMS  PEDS  PERSONS  COUNTY  CITY  DAY  \\\n",
       "0      1    10001         1         1     0        2      81  2340   15   \n",
       "1      1    10002         1         1     0        1      35  1080   11   \n",
       "2      1    10003         3         3     0        3      97  2100   14   \n",
       "3      1    10004         2         2     0        2     115   160   21   \n",
       "4      1    10005         2         2     0        2     117     0    4   \n",
       "\n",
       "   MONTH  YEAR  DAY_WEEK  HOUR  MINUTE  NHS  ROUTE   TWAY_ID TWAY_ID2  MILEPT  \\\n",
       "0      1  2010         6     4      10    1      1      I-85              621   \n",
       "1      1  2010         2     6       0    0      6      5010                0   \n",
       "2      1  2010         5    15      10    0      2  US-SR 42     4639       0   \n",
       "3      1  2010         5     1      16    0      2  US-SR 53             2400   \n",
       "4      1  2010         2     6      38    1      1      I-65             2440   \n",
       "\n",
       "    LATITUDE   LONGITUD  SP_JUR  HARM_EV  MAN_COLL  RELJCT1  RELJCT2  \\\n",
       "0  32.641064 -85.354692       0       42         0        0        1   \n",
       "1  31.430447 -86.956694       0       30         0        0        1   \n",
       "2  30.691631 -88.085778       0       12        11        0        2   \n",
       "3  33.868700 -86.291164       0       12         2        0        1   \n",
       "4  33.309742 -86.787222       0       12         7        0        1   \n",
       "\n",
       "               TYP_INT  REL_ROAD  WRK_ZONE  LGT_COND  WEATHER1  WEATHER2  \\\n",
       "0  Not an Intersection         4         0         3         1         0   \n",
       "1  Not an Intersection         4         0         3         1         0   \n",
       "2       T-Intersection         1         0         1         1         0   \n",
       "3  Not an Intersection         1         0         3         2         0   \n",
       "4  Not an Intersection         1         1         4         1         0   \n",
       "\n",
       "   WEATHER  SCH_BUS     RAIL  NOT_HOUR  NOT_MIN  ARR_HOUR  ARR_MIN  HOSP_HR  \\\n",
       "0        1        0  0000000        99       99         4       20       99   \n",
       "1        1        0  0000000        99       99         6        9       99   \n",
       "2        1        0  0000000        99       99        15       16       99   \n",
       "3        2        0  0000000        99       99         1       16       88   \n",
       "4        1        0  0000000        99       99         6       49       88   \n",
       "\n",
       "   HOSP_MN  CF1  CF2  CF3  FATALS  DRUNK_DR  \n",
       "0       99    0    0    0       1         1  \n",
       "1       99    0    0    0       1         0  \n",
       "2       99    0    0    0       1         0  \n",
       "3       88    0    0    0       1         0  \n",
       "4       88    0    0    0       1         0  "
      ]
     },
     "execution_count": 82,
     "metadata": {},
     "output_type": "execute_result"
    }
   ],
   "source": [
    "accidents_intersect.head()"
   ]
  },
  {
   "cell_type": "code",
   "execution_count": 86,
   "metadata": {},
   "outputs": [
    {
     "data": {
      "text/html": [
       "<div>\n",
       "<style>\n",
       "    .dataframe thead tr:only-child th {\n",
       "        text-align: right;\n",
       "    }\n",
       "\n",
       "    .dataframe thead th {\n",
       "        text-align: left;\n",
       "    }\n",
       "\n",
       "    .dataframe tbody tr th {\n",
       "        vertical-align: top;\n",
       "    }\n",
       "</style>\n",
       "<table border=\"1\" class=\"dataframe\">\n",
       "  <thead>\n",
       "    <tr style=\"text-align: right;\">\n",
       "      <th></th>\n",
       "      <th>TYP_INT</th>\n",
       "      <th>count</th>\n",
       "    </tr>\n",
       "  </thead>\n",
       "  <tbody>\n",
       "    <tr>\n",
       "      <th>4</th>\n",
       "      <td>Not an Intersection</td>\n",
       "      <td>166976</td>\n",
       "    </tr>\n",
       "    <tr>\n",
       "      <th>1</th>\n",
       "      <td>Four-Way Intersection</td>\n",
       "      <td>31421</td>\n",
       "    </tr>\n",
       "    <tr>\n",
       "      <th>6</th>\n",
       "      <td>T-Intersection</td>\n",
       "      <td>17530</td>\n",
       "    </tr>\n",
       "    <tr>\n",
       "      <th>9</th>\n",
       "      <td>Y-Intersection</td>\n",
       "      <td>1436</td>\n",
       "    </tr>\n",
       "    <tr>\n",
       "      <th>0</th>\n",
       "      <td>Five-Point, or More</td>\n",
       "      <td>247</td>\n",
       "    </tr>\n",
       "  </tbody>\n",
       "</table>\n",
       "</div>"
      ],
      "text/plain": [
       "                 TYP_INT   count\n",
       "4    Not an Intersection  166976\n",
       "1  Four-Way Intersection   31421\n",
       "6         T-Intersection   17530\n",
       "9         Y-Intersection    1436\n",
       "0    Five-Point, or More     247"
      ]
     },
     "execution_count": 86,
     "metadata": {},
     "output_type": "execute_result"
    }
   ],
   "source": [
    "accidents_intersect_count= accidents_intersect.groupby(\"TYP_INT\")[\"TYP_INT\"].count().reset_index(name=\"count\").sort_values(\"count\", ascending = False )\n",
    "accidents_intersect_count.head()"
   ]
  },
  {
   "cell_type": "code",
   "execution_count": 93,
   "metadata": {},
   "outputs": [
    {
     "data": {
      "image/png": "[encoded data removed]",
      "text/plain": [
       "<matplotlib.figure.Figure at 0x1108f00b8>"
      ]
     },
     "metadata": {},
     "output_type": "display_data"
    }
   ],
   "source": [
    "sns.barplot(data = accidents_intersect_count, y = 'TYP_INT', x = 'count')\n",
    "plt.xlabel(\"count\")\n",
    "plt.ylabel(\"Type of Intersection\")\n",
    "plt.title('Type of Intersection vs. Accidents, 2010-2016', fontsize = 20)\n",
    "plt.show()"
   ]
  },
  {
   "cell_type": "code",
   "execution_count": null,
   "metadata": {
    "collapsed": true
   },
   "outputs": [],
   "source": [
    "feature = ['TYP_INT']\n",
    "accidents_"
   ]
  },
  {
   "cell_type": "code",
   "execution_count": null,
   "metadata": {
    "collapsed": true
   },
   "outputs": [],
   "source": []
  },
  {
   "cell_type": "code",
   "execution_count": null,
   "metadata": {
    "collapsed": true
   },
   "outputs": [],
   "source": []
  },
  {
   "cell_type": "code",
   "execution_count": null,
   "metadata": {
    "collapsed": true
   },
   "outputs": [],
   "source": []
  },
  {
   "cell_type": "code",
   "execution_count": null,
   "metadata": {
    "collapsed": true
   },
   "outputs": [],
   "source": []
  },
  {
   "cell_type": "code",
   "execution_count": null,
   "metadata": {
    "collapsed": true
   },
   "outputs": [],
   "source": []
  },
  {
   "cell_type": "code",
   "execution_count": null,
   "metadata": {
    "collapsed": true
   },
   "outputs": [],
   "source": []
  },
  {
   "cell_type": "code",
   "execution_count": null,
   "metadata": {
    "collapsed": true
   },
   "outputs": [],
   "source": []
  },
  {
   "cell_type": "code",
   "execution_count": null,
   "metadata": {
    "collapsed": true
   },
   "outputs": [],
   "source": []
  },
  {
   "cell_type": "code",
   "execution_count": null,
   "metadata": {
    "collapsed": true
   },
   "outputs": [],
   "source": []
  },
  {
   "cell_type": "markdown",
   "metadata": {},
   "source": [
    "We have generate some visualizations to give you a general idea"
   ]
  },
  {
   "cell_type": "markdown",
   "metadata": {},
   "source": [
    "**First we explore the relationship between month and number of accidents. We can see if there is a general pattern or discrepencies in the trend**"
   ]
  },
  {
   "cell_type": "code",
   "execution_count": 11,
   "metadata": {
    "collapsed": true
   },
   "outputs": [],
   "source": [
    "accident_month = accidents.groupby(\"MONTH\")[\"MONTH\"].count().reset_index(name=\"count\")"
   ]
  },
  {
   "cell_type": "code",
   "execution_count": 12,
   "metadata": {},
   "outputs": [
    {
     "data": {
      "text/html": [
       "<div>\n",
       "<style>\n",
       "    .dataframe thead tr:only-child th {\n",
       "        text-align: right;\n",
       "    }\n",
       "\n",
       "    .dataframe thead th {\n",
       "        text-align: left;\n",
       "    }\n",
       "\n",
       "    .dataframe tbody tr th {\n",
       "        vertical-align: top;\n",
       "    }\n",
       "</style>\n",
       "<table border=\"1\" class=\"dataframe\">\n",
       "  <thead>\n",
       "    <tr style=\"text-align: right;\">\n",
       "      <th></th>\n",
       "      <th>MONTH</th>\n",
       "      <th>count</th>\n",
       "    </tr>\n",
       "  </thead>\n",
       "  <tbody>\n",
       "    <tr>\n",
       "      <th>0</th>\n",
       "      <td>April</td>\n",
       "      <td>25427</td>\n",
       "    </tr>\n",
       "    <tr>\n",
       "      <th>1</th>\n",
       "      <td>August</td>\n",
       "      <td>29686</td>\n",
       "    </tr>\n",
       "    <tr>\n",
       "      <th>2</th>\n",
       "      <td>December</td>\n",
       "      <td>26411</td>\n",
       "    </tr>\n",
       "    <tr>\n",
       "      <th>3</th>\n",
       "      <td>February</td>\n",
       "      <td>21457</td>\n",
       "    </tr>\n",
       "    <tr>\n",
       "      <th>4</th>\n",
       "      <td>January</td>\n",
       "      <td>23269</td>\n",
       "    </tr>\n",
       "  </tbody>\n",
       "</table>\n",
       "</div>"
      ],
      "text/plain": [
       "      MONTH  count\n",
       "0     April  25427\n",
       "1    August  29686\n",
       "2  December  26411\n",
       "3  February  21457\n",
       "4   January  23269"
      ]
     },
     "execution_count": 12,
     "metadata": {},
     "output_type": "execute_result"
    }
   ],
   "source": [
    "accident_month.head()\n"
   ]
  },
  {
   "cell_type": "code",
   "execution_count": 13,
   "metadata": {},
   "outputs": [
    {
     "data": {
      "image/png": "[encoded data removed]",
      "text/plain": [
       "<matplotlib.figure.Figure at 0x10e630fd0>"
      ]
     },
     "metadata": {},
     "output_type": "display_data"
    }
   ],
   "source": [
    "import seaborn as sns\n",
    "index = ['January','February','March', 'April', 'May','June','July','August','September', 'October', 'November', 'December']\n",
    "sns.barplot(x = \"MONTH\" , y = \"count\", data = accident_month, order = index)\n",
    "plt.title(\"Accident Frequency vs. Month\")\n",
    "plt.show()"
   ]
  },
  {
   "cell_type": "markdown",
   "metadata": {},
   "source": [
    "** it can be say that there are relatively less accidents at the start and end of a year than in the middle of the year ***"
   ]
  },
  {
   "cell_type": "code",
   "execution_count": null,
   "metadata": {
    "collapsed": true
   },
   "outputs": [],
   "source": []
  },
  {
   "cell_type": "markdown",
   "metadata": {},
   "source": [
    "**Then, we explore the relationship between Year and num of accidents**"
   ]
  },
  {
   "cell_type": "code",
   "execution_count": 14,
   "metadata": {},
   "outputs": [
    {
     "data": {
      "image/png": "[encoded data removed]",
      "text/plain": [
       "<matplotlib.figure.Figure at 0x10e6ab1d0>"
      ]
     },
     "metadata": {},
     "output_type": "display_data"
    }
   ],
   "source": [
    "accident_year = accidents.groupby(\"YEAR\")[\"YEAR\"].count().reset_index(name=\"count\")\n",
    "sns.barplot(x = \"YEAR\" , y = \"count\", data = accident_year)\n",
    "plt.title(\"Accident Frequency vs. Year\", fontsize=18)\n",
    "plt.show()"
   ]
  },
  {
   "cell_type": "markdown",
   "metadata": {},
   "source": [
    "We also want to study the mortality rate of fatal accidents. The data element “Fatalities in Vehicle” in the Vehicle data file from the `U.S. Department of Transportation` website provides the number of deaths in a vehicle."
   ]
  },
  {
   "cell_type": "code",
   "execution_count": 22,
   "metadata": {
    "collapsed": true
   },
   "outputs": [],
   "source": [
    "vdbf07= DBF('vehicle_deaths/vehicle2007.dbf')\n",
    "vdbf08= DBF('vehicle_deaths/vehicle2008.dbf')\n",
    "vdbf09= DBF('vehicle_deaths/vehicle2009.dbf')\n",
    "vdbf10= DBF('vehicle_deaths/vehicle2010.dbf')\n",
    "vdbf11= DBF('vehicle_deaths/vehicle2011.dbf')\n",
    "vdbf12= DBF('vehicle_deaths/vehicle2012.dbf')\n",
    "vdbf13= DBF('vehicle_deaths/vehicle2013.dbf')\n",
    "vdbf14= DBF('vehicle_deaths/vehicle2014.dbf')\n",
    "# vdbf15= DBF('vehicle_deaths/vehicle2015.csv')\n",
    "vdbf16= DBF('vehicle_deaths/vehicle2016.dbf')\n",
    "vehicle07 = DataFrame(iter(vdbf07))\n",
    "vehicle08 = DataFrame(iter(vdbf08))\n",
    "vehicle09 = DataFrame(iter(vdbf09))\n",
    "vehicle10 = DataFrame(iter(vdbf10))\n",
    "vehicle11 = DataFrame(iter(vdbf11))\n",
    "vehicle12 = DataFrame(iter(vdbf12))\n",
    "vehicle13 = DataFrame(iter(vdbf13))\n",
    "vehicle14 = DataFrame(iter(vdbf14))\n",
    "# vehicle15 = pd.read_csv('vehicle_deaths/vehicle2015.csv')\n",
    "vehicle16 = DataFrame(iter(vdbf16))"
   ]
  },
  {
   "cell_type": "markdown",
   "metadata": {},
   "source": [
    "# Load vehicle data file which contains mortality rate"
   ]
  },
  {
   "cell_type": "code",
   "execution_count": 23,
   "metadata": {
    "collapsed": true
   },
   "outputs": [],
   "source": [
    "vehicle07['YEAR']=2007\n",
    "vehicle08['YEAR']=2008\n",
    "vehicle09['YEAR']=2009\n",
    "vehicle10['YEAR']=2010\n",
    "vehicle11['YEAR']=2011\n",
    "vehicle12['YEAR']=2012\n",
    "vehicle13['YEAR']=2013\n",
    "vehicle14['YEAR']=2014\n",
    "# vehicle15['YEAR']='2015.0'\n",
    "vehicle16['YEAR']=2016"
   ]
  },
  {
   "cell_type": "code",
   "execution_count": 24,
   "metadata": {},
   "outputs": [
    {
     "data": {
      "text/html": [
       "<div>\n",
       "<style>\n",
       "    .dataframe thead tr:only-child th {\n",
       "        text-align: right;\n",
       "    }\n",
       "\n",
       "    .dataframe thead th {\n",
       "        text-align: left;\n",
       "    }\n",
       "\n",
       "    .dataframe tbody tr th {\n",
       "        vertical-align: top;\n",
       "    }\n",
       "</style>\n",
       "<table border=\"1\" class=\"dataframe\">\n",
       "  <thead>\n",
       "    <tr style=\"text-align: right;\">\n",
       "      <th></th>\n",
       "      <th>STATE</th>\n",
       "      <th>YEAR</th>\n",
       "      <th>CASE_NUM</th>\n",
       "      <th>HIT_RUN</th>\n",
       "      <th>SPEED</th>\n",
       "      <th>ROLLOVER</th>\n",
       "      <th>FIRE</th>\n",
       "      <th>SPEEDING</th>\n",
       "      <th>DEATHS</th>\n",
       "    </tr>\n",
       "  </thead>\n",
       "  <tbody>\n",
       "    <tr>\n",
       "      <th>200710001</th>\n",
       "      <td>1</td>\n",
       "      <td>2007</td>\n",
       "      <td>10001</td>\n",
       "      <td>0.0</td>\n",
       "      <td>65.0</td>\n",
       "      <td>0.0</td>\n",
       "      <td>0.0</td>\n",
       "      <td>NaN</td>\n",
       "      <td>1.0</td>\n",
       "    </tr>\n",
       "    <tr>\n",
       "      <th>200710002</th>\n",
       "      <td>1</td>\n",
       "      <td>2007</td>\n",
       "      <td>10002</td>\n",
       "      <td>0.0</td>\n",
       "      <td>10.0</td>\n",
       "      <td>0.0</td>\n",
       "      <td>0.0</td>\n",
       "      <td>NaN</td>\n",
       "      <td>0.0</td>\n",
       "    </tr>\n",
       "    <tr>\n",
       "      <th>200710002</th>\n",
       "      <td>1</td>\n",
       "      <td>2007</td>\n",
       "      <td>10002</td>\n",
       "      <td>0.0</td>\n",
       "      <td>55.0</td>\n",
       "      <td>0.0</td>\n",
       "      <td>0.0</td>\n",
       "      <td>NaN</td>\n",
       "      <td>2.0</td>\n",
       "    </tr>\n",
       "    <tr>\n",
       "      <th>200710002</th>\n",
       "      <td>1</td>\n",
       "      <td>2007</td>\n",
       "      <td>10002</td>\n",
       "      <td>0.0</td>\n",
       "      <td>55.0</td>\n",
       "      <td>0.0</td>\n",
       "      <td>0.0</td>\n",
       "      <td>NaN</td>\n",
       "      <td>0.0</td>\n",
       "    </tr>\n",
       "    <tr>\n",
       "      <th>200710003</th>\n",
       "      <td>1</td>\n",
       "      <td>2007</td>\n",
       "      <td>10003</td>\n",
       "      <td>1.0</td>\n",
       "      <td>55.0</td>\n",
       "      <td>0.0</td>\n",
       "      <td>0.0</td>\n",
       "      <td>NaN</td>\n",
       "      <td>0.0</td>\n",
       "    </tr>\n",
       "  </tbody>\n",
       "</table>\n",
       "</div>"
      ],
      "text/plain": [
       "           STATE  YEAR  CASE_NUM  HIT_RUN  SPEED  ROLLOVER  FIRE  SPEEDING  \\\n",
       "200710001      1  2007     10001      0.0   65.0       0.0   0.0       NaN   \n",
       "200710002      1  2007     10002      0.0   10.0       0.0   0.0       NaN   \n",
       "200710002      1  2007     10002      0.0   55.0       0.0   0.0       NaN   \n",
       "200710002      1  2007     10002      0.0   55.0       0.0   0.0       NaN   \n",
       "200710003      1  2007     10003      1.0   55.0       0.0   0.0       NaN   \n",
       "\n",
       "           DEATHS  \n",
       "200710001     1.0  \n",
       "200710002     0.0  \n",
       "200710002     2.0  \n",
       "200710002     0.0  \n",
       "200710003     0.0  "
      ]
     },
     "execution_count": 24,
     "metadata": {},
     "output_type": "execute_result"
    }
   ],
   "source": [
    "allvehicles=pd.concat([vehicle07,vehicle08,vehicle09,vehicle10,vehicle11,vehicle12,vehicle13,vehicle14,vehicle16], axis=0,join='outer')\n",
    "vehicles = allvehicles[['STATE','YEAR','ST_CASE','HIT_RUN','TRAV_SP','ROLLOVER','FIRE_EXP','SPEEDREL','DEATHS']]\n",
    "vehicles.rename(columns={'ST_CASE':'CASE_NUM','TRAV_SP':'SPEED','FIRE_EXP': 'FIRE','SPEEDREL':'SPEEDING'}, inplace=True)\n",
    "vehicles['STATE']=vehicles['STATE'].astype(int)\n",
    "vehicles['CASE_NUM']=vehicles['CASE_NUM'].astype(int)\n",
    "vehicles['YEAR']=vehicles['YEAR'].astype(int)\n",
    "vehicles.index = list(vehicles['YEAR'].astype(str) + vehicles['CASE_NUM'].astype(str))\n",
    "vehicles.head()"
   ]
  },
  {
   "cell_type": "code",
   "execution_count": 25,
   "metadata": {},
   "outputs": [
    {
     "data": {
      "text/html": [
       "<div>\n",
       "<style>\n",
       "    .dataframe thead tr:only-child th {\n",
       "        text-align: right;\n",
       "    }\n",
       "\n",
       "    .dataframe thead th {\n",
       "        text-align: left;\n",
       "    }\n",
       "\n",
       "    .dataframe tbody tr th {\n",
       "        vertical-align: top;\n",
       "    }\n",
       "</style>\n",
       "<table border=\"1\" class=\"dataframe\">\n",
       "  <thead>\n",
       "    <tr style=\"text-align: right;\">\n",
       "      <th></th>\n",
       "      <th>STATE</th>\n",
       "      <th>YEAR</th>\n",
       "      <th>CASE_NUM</th>\n",
       "      <th>HIT_RUN</th>\n",
       "      <th>SPEED</th>\n",
       "      <th>ROLLOVER</th>\n",
       "      <th>FIRE</th>\n",
       "      <th>SPEEDING</th>\n",
       "      <th>DEATHS</th>\n",
       "      <th>NUM_VEHICLE</th>\n",
       "      <th>PERSONS</th>\n",
       "      <th>FATALS</th>\n",
       "      <th>MONTH</th>\n",
       "      <th>DAY_WEEK</th>\n",
       "      <th>HOUR</th>\n",
       "      <th>HIGHWAY</th>\n",
       "      <th>LATITUDE</th>\n",
       "      <th>LONGITUD</th>\n",
       "      <th>COLLISION_TYPE</th>\n",
       "      <th>LIGHT_CONDITION</th>\n",
       "      <th>WEATHER</th>\n",
       "      <th>ARR_HOUR</th>\n",
       "      <th>ARR_MIN</th>\n",
       "      <th>CRASH_FACTOR</th>\n",
       "      <th>DRUNK_DRIVE</th>\n",
       "    </tr>\n",
       "  </thead>\n",
       "  <tbody>\n",
       "  </tbody>\n",
       "</table>\n",
       "</div>"
      ],
      "text/plain": [
       "Empty DataFrame\n",
       "Columns: [STATE, YEAR, CASE_NUM, HIT_RUN, SPEED, ROLLOVER, FIRE, SPEEDING, DEATHS, NUM_VEHICLE, PERSONS, FATALS, MONTH, DAY_WEEK, HOUR, HIGHWAY, LATITUDE, LONGITUD, COLLISION_TYPE, LIGHT_CONDITION, WEATHER, ARR_HOUR, ARR_MIN, CRASH_FACTOR, DRUNK_DRIVE]\n",
       "Index: []"
      ]
     },
     "execution_count": 25,
     "metadata": {},
     "output_type": "execute_result"
    }
   ],
   "source": [
    "all = pd.merge(vehicles, accidents, left_index=True, right_index=True, how='inner',on=('STATE', 'YEAR','CASE_NUM'))\n",
    "all.index=(all.index).astype(int)\n",
    "all.sort_index()\n",
    "all.head()"
   ]
  },
  {
   "cell_type": "code",
   "execution_count": null,
   "metadata": {
    "collapsed": true
   },
   "outputs": [],
   "source": [
    "year_acci.index"
   ]
  },
  {
   "cell_type": "code",
   "execution_count": null,
   "metadata": {
    "collapsed": true
   },
   "outputs": [],
   "source": [
    "with sns.plotting_context(\"poster\"):\n",
    "    g = sns.FacetGrid(data=accidents, col=\"continent\", col_wrap=4)\n",
    "    g.map(sns.boxplot, 'variable',\"value\")\n",
    "    g.set_axis_labels(\"drinks\", \"consumption value\")"
   ]
  },
  {
   "cell_type": "code",
   "execution_count": null,
   "metadata": {
    "collapsed": true
   },
   "outputs": [],
   "source": []
  }
 ],
 "metadata": {
  "kernelspec": {
   "display_name": "Python 3",
   "language": "python",
   "name": "python3"
  },
  "language_info": {
   "codemirror_mode": {
    "name": "ipython",
    "version": 3
   },
   "file_extension": ".py",
   "mimetype": "text/x-python",
   "name": "python",
   "nbconvert_exporter": "python",
   "pygments_lexer": "ipython3",
   "version": "3.6.2"
  }
 },
 "nbformat": 4,
 "nbformat_minor": 2
}
