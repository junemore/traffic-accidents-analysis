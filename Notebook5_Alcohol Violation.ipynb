{
 "cells": [
  {
   "cell_type": "code",
   "execution_count": 1,
   "metadata": {
    "collapsed": true
   },
   "outputs": [],
   "source": [
    "%matplotlib inline\n",
    "import matplotlib.pyplot as plt\n",
    "from dbfread import DBF\n",
    "import pandas as pd\n",
    "import numpy as np\n",
    "from pandas import DataFrame\n",
    "import shelve\n",
    "import seaborn as sns\n",
    "plt.style.use('seaborn-dark')\n",
    "plt.rcParams['figure.figsize'] = (10, 6)\n",
    "pd.set_option('display.max_columns', 100)"
   ]
  },
  {
   "cell_type": "code",
   "execution_count": 20,
   "metadata": {
    "collapsed": true
   },
   "outputs": [],
   "source": [
    "fatal_crashs = pd.read_hdf('results/fatal_crashs.h5', 'fatal_crashs')\n",
    "accidents = pd.read_hdf('results/accidents.h5', 'accidents')"
   ]
  },
  {
   "cell_type": "code",
   "execution_count": 3,
   "metadata": {},
   "outputs": [
    {
     "data": {
      "text/plain": [
       "0.0    1097422\n",
       "1.0     346693\n",
       "2.0      25999\n",
       "5.0      12758\n",
       "3.0       2149\n",
       "4.0        742\n",
       "6.0         49\n",
       "7.0         23\n",
       "9.0          9\n",
       "Name: DRUNK_DRIVE, dtype: int64"
      ]
     },
     "execution_count": 3,
     "metadata": {},
     "output_type": "execute_result"
    }
   ],
   "source": [
    "fatal_crashs['DRUNK_DRIVE'].value_counts()"
   ]
  },
  {
   "cell_type": "code",
   "execution_count": 4,
   "metadata": {},
   "outputs": [
    {
     "data": {
      "text/plain": [
       "0.0    1097422\n",
       "1.0     388422\n",
       "Name: DRUNK_INDICATOR, dtype: int64"
      ]
     },
     "execution_count": 4,
     "metadata": {},
     "output_type": "execute_result"
    }
   ],
   "source": [
    "fatal_crashs['DRUNK_INDICATOR']=fatal_crashs['DRUNK_DRIVE'].where(fatal_crashs['DRUNK_DRIVE'] <= 1, 1)\n",
    "fatal_crashs['DRUNK_INDICATOR'].value_counts()"
   ]
  },
  {
   "cell_type": "code",
   "execution_count": 106,
   "metadata": {
    "scrolled": true
   },
   "outputs": [
    {
     "data": {
      "text/html": [
       "<div>\n",
       "<style>\n",
       "    .dataframe thead tr:only-child th {\n",
       "        text-align: right;\n",
       "    }\n",
       "\n",
       "    .dataframe thead th {\n",
       "        text-align: left;\n",
       "    }\n",
       "\n",
       "    .dataframe tbody tr th {\n",
       "        vertical-align: top;\n",
       "    }\n",
       "</style>\n",
       "<table border=\"1\" class=\"dataframe\">\n",
       "  <thead>\n",
       "    <tr style=\"text-align: right;\">\n",
       "      <th></th>\n",
       "      <th>YEAR</th>\n",
       "      <th>FATALS</th>\n",
       "      <th>Fatal Involved Alcohol</th>\n",
       "    </tr>\n",
       "  </thead>\n",
       "  <tbody>\n",
       "    <tr>\n",
       "      <th>0</th>\n",
       "      <td>2007</td>\n",
       "      <td>41259.0</td>\n",
       "      <td>15249.0</td>\n",
       "    </tr>\n",
       "    <tr>\n",
       "      <th>1</th>\n",
       "      <td>2008</td>\n",
       "      <td>37423.0</td>\n",
       "      <td>12309.0</td>\n",
       "    </tr>\n",
       "    <tr>\n",
       "      <th>2</th>\n",
       "      <td>2009</td>\n",
       "      <td>33883.0</td>\n",
       "      <td>11194.0</td>\n",
       "    </tr>\n",
       "    <tr>\n",
       "      <th>3</th>\n",
       "      <td>2010</td>\n",
       "      <td>32999.0</td>\n",
       "      <td>10625.0</td>\n",
       "    </tr>\n",
       "    <tr>\n",
       "      <th>4</th>\n",
       "      <td>2011</td>\n",
       "      <td>32479.0</td>\n",
       "      <td>10186.0</td>\n",
       "    </tr>\n",
       "    <tr>\n",
       "      <th>5</th>\n",
       "      <td>2012</td>\n",
       "      <td>33782.0</td>\n",
       "      <td>10553.0</td>\n",
       "    </tr>\n",
       "    <tr>\n",
       "      <th>6</th>\n",
       "      <td>2013</td>\n",
       "      <td>32893.0</td>\n",
       "      <td>10191.0</td>\n",
       "    </tr>\n",
       "    <tr>\n",
       "      <th>7</th>\n",
       "      <td>2014</td>\n",
       "      <td>32744.0</td>\n",
       "      <td>9747.0</td>\n",
       "    </tr>\n",
       "    <tr>\n",
       "      <th>8</th>\n",
       "      <td>2015</td>\n",
       "      <td>35485.0</td>\n",
       "      <td>10245.0</td>\n",
       "    </tr>\n",
       "    <tr>\n",
       "      <th>9</th>\n",
       "      <td>2016</td>\n",
       "      <td>37461.0</td>\n",
       "      <td>9731.0</td>\n",
       "    </tr>\n",
       "  </tbody>\n",
       "</table>\n",
       "</div>"
      ],
      "text/plain": [
       "   YEAR   FATALS  Fatal Involved Alcohol\n",
       "0  2007  41259.0                 15249.0\n",
       "1  2008  37423.0                 12309.0\n",
       "2  2009  33883.0                 11194.0\n",
       "3  2010  32999.0                 10625.0\n",
       "4  2011  32479.0                 10186.0\n",
       "5  2012  33782.0                 10553.0\n",
       "6  2013  32893.0                 10191.0\n",
       "7  2014  32744.0                  9747.0\n",
       "8  2015  35485.0                 10245.0\n",
       "9  2016  37461.0                  9731.0"
      ]
     },
     "execution_count": 106,
     "metadata": {},
     "output_type": "execute_result"
    }
   ],
   "source": [
    "accidents['DRUNK_INDICATOR']=accidents['DRUNK_DRIVE'].where(accidents['DRUNK_DRIVE'] <= 1, 1)\n",
    "Death_by_year=accidents.groupby('YEAR',as_index=False)['FATALS'].sum()\n",
    "Death_by_year_Alcohol =accidents[accidents.DRUNK_INDICATOR >= 1].groupby('YEAR',as_index=False)['FATALS'].sum()\n",
    "Death_by_year['Fatal Involved Alcohol']= Death_by_year_Alcohol['FATALS']\n",
    "Death_by_year"
   ]
  },
  {
   "cell_type": "code",
   "execution_count": 105,
   "metadata": {},
   "outputs": [
    {
     "data": {
      "image/png": "[encoded data removed]",
      "text/plain": [
       "<matplotlib.figure.Figure at 0x12e828550>"
      ]
     },
     "metadata": {},
     "output_type": "display_data"
    }
   ],
   "source": [
    "f, g = plt.subplots(figsize=(10, 8))\n",
    "# Plot the total deadth\n",
    "sns.set_color_codes(\"pastel\")\n",
    "g = sns.barplot(x=\"YEAR\",y=\"FATALS\",data=Death_by_year,label=\"Total\", color=\"b\")\n",
    "# Plot the total deadth where alcohol was involved\n",
    "sns.set_color_codes(\"muted\")\n",
    "g = sns.barplot(x=\"YEAR\", y=\"Fatal Involved Alcohol\", data=Death_by_year,\n",
    "            label=\"Alcohol-involved\", color=\"b\")\n",
    "# Add a legend and informative axis label\n",
    "g.legend(ncol=2, frameon=True)\n",
    "g.set( ylabel=\"Death\",xlabel=\"Automobile collisions per billion miles\")\n",
    "sns.despine(left=True, bottom=True)"
   ]
  },
  {
   "cell_type": "code",
   "execution_count": 5,
   "metadata": {},
   "outputs": [
    {
     "name": "stderr",
     "output_type": "stream",
     "text": [
      "/Users/aitingkuang/anaconda/lib/python3.6/site-packages/ipykernel_launcher.py:3: SettingWithCopyWarning: \n",
      "A value is trying to be set on a copy of a slice from a DataFrame.\n",
      "Try using .loc[row_indexer,col_indexer] = value instead\n",
      "\n",
      "See the caveats in the documentation: http://pandas.pydata.org/pandas-docs/stable/indexing.html#indexing-view-versus-copy\n",
      "  This is separate from the ipykernel package so we can avoid doing imports until\n"
     ]
    },
    {
     "data": {
      "text/plain": [
       "0.0    911165\n",
       "1.0    220549\n",
       "Name: SPEEDING_INDICATOR, dtype: int64"
      ]
     },
     "execution_count": 5,
     "metadata": {},
     "output_type": "execute_result"
    }
   ],
   "source": [
    "#since data before 2009 do not contain information of whether the driver speeding or not, so we select data from after 2009\n",
    "fatal_crashs_since2009=fatal_crashs.loc[fatal_crashs['YEAR'] >= 2009]\n",
    "fatal_crashs_since2009['SPEEDING_INDICATOR']=fatal_crashs_since2009['SPEEDING'].where(fatal_crashs_since2009['SPEEDING'] <= 1, 1)\n",
    "fatal_crashs_since2009['SPEEDING_INDICATOR'].value_counts()"
   ]
  },
  {
   "cell_type": "code",
   "execution_count": 6,
   "metadata": {},
   "outputs": [
    {
     "data": {
      "text/html": [
       "<div>\n",
       "<style>\n",
       "    .dataframe thead tr:only-child th {\n",
       "        text-align: right;\n",
       "    }\n",
       "\n",
       "    .dataframe thead th {\n",
       "        text-align: left;\n",
       "    }\n",
       "\n",
       "    .dataframe tbody tr th {\n",
       "        vertical-align: top;\n",
       "    }\n",
       "</style>\n",
       "<table border=\"1\" class=\"dataframe\">\n",
       "  <thead>\n",
       "    <tr style=\"text-align: right;\">\n",
       "      <th></th>\n",
       "      <th>STATE</th>\n",
       "      <th>YEAR</th>\n",
       "      <th>CASE_NUM</th>\n",
       "      <th>HIT_RUN</th>\n",
       "      <th>SPEED</th>\n",
       "      <th>ROLLOVER</th>\n",
       "      <th>FIRE</th>\n",
       "      <th>SPEEDING</th>\n",
       "      <th>DEATHS</th>\n",
       "      <th>NUM_VEHICLE</th>\n",
       "      <th>PERSONS</th>\n",
       "      <th>FATALS</th>\n",
       "      <th>MONTH</th>\n",
       "      <th>DAY_WEEK</th>\n",
       "      <th>HOUR</th>\n",
       "      <th>HIGHWAY</th>\n",
       "      <th>LATITUDE</th>\n",
       "      <th>LONGITUD</th>\n",
       "      <th>COLLISION_TYPE</th>\n",
       "      <th>LIGHT_CONDITION</th>\n",
       "      <th>WEATHER</th>\n",
       "      <th>ARR_HOUR</th>\n",
       "      <th>ARR_MIN</th>\n",
       "      <th>CRASH_FACTOR</th>\n",
       "      <th>DRUNK_DRIVE</th>\n",
       "      <th>AGE</th>\n",
       "      <th>SEX</th>\n",
       "      <th>RACE</th>\n",
       "      <th>DRUNK_INDICATOR</th>\n",
       "      <th>SPEEDING_INDICATOR</th>\n",
       "    </tr>\n",
       "  </thead>\n",
       "  <tbody>\n",
       "    <tr>\n",
       "      <th>354130</th>\n",
       "      <td>10</td>\n",
       "      <td>2009</td>\n",
       "      <td>100001</td>\n",
       "      <td>0.0</td>\n",
       "      <td>50.0</td>\n",
       "      <td>0.0</td>\n",
       "      <td>0.0</td>\n",
       "      <td>1.0</td>\n",
       "      <td>1.0</td>\n",
       "      <td>1.0</td>\n",
       "      <td>2.0</td>\n",
       "      <td>1.0</td>\n",
       "      <td>January</td>\n",
       "      <td>Saturday</td>\n",
       "      <td>1.0</td>\n",
       "      <td>Off</td>\n",
       "      <td>39.6102</td>\n",
       "      <td>-75.7064</td>\n",
       "      <td>Not Collision</td>\n",
       "      <td>Dark</td>\n",
       "      <td>1.0</td>\n",
       "      <td>2.0</td>\n",
       "      <td>3.0</td>\n",
       "      <td>0.0</td>\n",
       "      <td>0.0</td>\n",
       "      <td>33.0</td>\n",
       "      <td>1.0</td>\n",
       "      <td>1.0</td>\n",
       "      <td>0.0</td>\n",
       "      <td>1.0</td>\n",
       "    </tr>\n",
       "    <tr>\n",
       "      <th>354131</th>\n",
       "      <td>10</td>\n",
       "      <td>2009</td>\n",
       "      <td>100001</td>\n",
       "      <td>0.0</td>\n",
       "      <td>50.0</td>\n",
       "      <td>0.0</td>\n",
       "      <td>0.0</td>\n",
       "      <td>1.0</td>\n",
       "      <td>1.0</td>\n",
       "      <td>1.0</td>\n",
       "      <td>2.0</td>\n",
       "      <td>1.0</td>\n",
       "      <td>January</td>\n",
       "      <td>Saturday</td>\n",
       "      <td>1.0</td>\n",
       "      <td>Off</td>\n",
       "      <td>39.6102</td>\n",
       "      <td>-75.7064</td>\n",
       "      <td>Not Collision</td>\n",
       "      <td>Dark</td>\n",
       "      <td>1.0</td>\n",
       "      <td>2.0</td>\n",
       "      <td>3.0</td>\n",
       "      <td>0.0</td>\n",
       "      <td>0.0</td>\n",
       "      <td>29.0</td>\n",
       "      <td>2.0</td>\n",
       "      <td>0.0</td>\n",
       "      <td>0.0</td>\n",
       "      <td>1.0</td>\n",
       "    </tr>\n",
       "    <tr>\n",
       "      <th>354132</th>\n",
       "      <td>10</td>\n",
       "      <td>2009</td>\n",
       "      <td>100002</td>\n",
       "      <td>0.0</td>\n",
       "      <td>50.0</td>\n",
       "      <td>0.0</td>\n",
       "      <td>0.0</td>\n",
       "      <td>0.0</td>\n",
       "      <td>2.0</td>\n",
       "      <td>2.0</td>\n",
       "      <td>3.0</td>\n",
       "      <td>2.0</td>\n",
       "      <td>January</td>\n",
       "      <td>Saturday</td>\n",
       "      <td>16.0</td>\n",
       "      <td>Off</td>\n",
       "      <td>39.6752</td>\n",
       "      <td>-75.7040</td>\n",
       "      <td>Sideswipe, Same Direction</td>\n",
       "      <td>Daylight</td>\n",
       "      <td>1.0</td>\n",
       "      <td>16.0</td>\n",
       "      <td>34.0</td>\n",
       "      <td>0.0</td>\n",
       "      <td>0.0</td>\n",
       "      <td>71.0</td>\n",
       "      <td>2.0</td>\n",
       "      <td>1.0</td>\n",
       "      <td>0.0</td>\n",
       "      <td>0.0</td>\n",
       "    </tr>\n",
       "    <tr>\n",
       "      <th>354133</th>\n",
       "      <td>10</td>\n",
       "      <td>2009</td>\n",
       "      <td>100002</td>\n",
       "      <td>0.0</td>\n",
       "      <td>50.0</td>\n",
       "      <td>0.0</td>\n",
       "      <td>0.0</td>\n",
       "      <td>0.0</td>\n",
       "      <td>2.0</td>\n",
       "      <td>2.0</td>\n",
       "      <td>3.0</td>\n",
       "      <td>2.0</td>\n",
       "      <td>January</td>\n",
       "      <td>Saturday</td>\n",
       "      <td>16.0</td>\n",
       "      <td>Off</td>\n",
       "      <td>39.6752</td>\n",
       "      <td>-75.7040</td>\n",
       "      <td>Sideswipe, Same Direction</td>\n",
       "      <td>Daylight</td>\n",
       "      <td>1.0</td>\n",
       "      <td>16.0</td>\n",
       "      <td>34.0</td>\n",
       "      <td>0.0</td>\n",
       "      <td>0.0</td>\n",
       "      <td>70.0</td>\n",
       "      <td>1.0</td>\n",
       "      <td>1.0</td>\n",
       "      <td>0.0</td>\n",
       "      <td>0.0</td>\n",
       "    </tr>\n",
       "    <tr>\n",
       "      <th>354134</th>\n",
       "      <td>10</td>\n",
       "      <td>2009</td>\n",
       "      <td>100002</td>\n",
       "      <td>0.0</td>\n",
       "      <td>50.0</td>\n",
       "      <td>0.0</td>\n",
       "      <td>0.0</td>\n",
       "      <td>0.0</td>\n",
       "      <td>2.0</td>\n",
       "      <td>2.0</td>\n",
       "      <td>3.0</td>\n",
       "      <td>2.0</td>\n",
       "      <td>January</td>\n",
       "      <td>Saturday</td>\n",
       "      <td>16.0</td>\n",
       "      <td>Off</td>\n",
       "      <td>39.6752</td>\n",
       "      <td>-75.7040</td>\n",
       "      <td>Sideswipe, Same Direction</td>\n",
       "      <td>Daylight</td>\n",
       "      <td>1.0</td>\n",
       "      <td>16.0</td>\n",
       "      <td>34.0</td>\n",
       "      <td>0.0</td>\n",
       "      <td>0.0</td>\n",
       "      <td>41.0</td>\n",
       "      <td>1.0</td>\n",
       "      <td>0.0</td>\n",
       "      <td>0.0</td>\n",
       "      <td>0.0</td>\n",
       "    </tr>\n",
       "  </tbody>\n",
       "</table>\n",
       "</div>"
      ],
      "text/plain": [
       "        STATE  YEAR  CASE_NUM  HIT_RUN  SPEED  ROLLOVER  FIRE  SPEEDING  \\\n",
       "354130     10  2009    100001      0.0   50.0       0.0   0.0       1.0   \n",
       "354131     10  2009    100001      0.0   50.0       0.0   0.0       1.0   \n",
       "354132     10  2009    100002      0.0   50.0       0.0   0.0       0.0   \n",
       "354133     10  2009    100002      0.0   50.0       0.0   0.0       0.0   \n",
       "354134     10  2009    100002      0.0   50.0       0.0   0.0       0.0   \n",
       "\n",
       "        DEATHS  NUM_VEHICLE  PERSONS  FATALS    MONTH  DAY_WEEK  HOUR HIGHWAY  \\\n",
       "354130     1.0          1.0      2.0     1.0  January  Saturday   1.0     Off   \n",
       "354131     1.0          1.0      2.0     1.0  January  Saturday   1.0     Off   \n",
       "354132     2.0          2.0      3.0     2.0  January  Saturday  16.0     Off   \n",
       "354133     2.0          2.0      3.0     2.0  January  Saturday  16.0     Off   \n",
       "354134     2.0          2.0      3.0     2.0  January  Saturday  16.0     Off   \n",
       "\n",
       "        LATITUDE  LONGITUD             COLLISION_TYPE LIGHT_CONDITION  \\\n",
       "354130   39.6102  -75.7064              Not Collision            Dark   \n",
       "354131   39.6102  -75.7064              Not Collision            Dark   \n",
       "354132   39.6752  -75.7040  Sideswipe, Same Direction        Daylight   \n",
       "354133   39.6752  -75.7040  Sideswipe, Same Direction        Daylight   \n",
       "354134   39.6752  -75.7040  Sideswipe, Same Direction        Daylight   \n",
       "\n",
       "        WEATHER  ARR_HOUR  ARR_MIN  CRASH_FACTOR  DRUNK_DRIVE   AGE  SEX  \\\n",
       "354130      1.0       2.0      3.0           0.0          0.0  33.0  1.0   \n",
       "354131      1.0       2.0      3.0           0.0          0.0  29.0  2.0   \n",
       "354132      1.0      16.0     34.0           0.0          0.0  71.0  2.0   \n",
       "354133      1.0      16.0     34.0           0.0          0.0  70.0  1.0   \n",
       "354134      1.0      16.0     34.0           0.0          0.0  41.0  1.0   \n",
       "\n",
       "        RACE  DRUNK_INDICATOR  SPEEDING_INDICATOR  \n",
       "354130   1.0              0.0                 1.0  \n",
       "354131   0.0              0.0                 1.0  \n",
       "354132   1.0              0.0                 0.0  \n",
       "354133   1.0              0.0                 0.0  \n",
       "354134   0.0              0.0                 0.0  "
      ]
     },
     "execution_count": 6,
     "metadata": {},
     "output_type": "execute_result"
    }
   ],
   "source": [
    "no_trains=fatal_crashs_since2009[(fatal_crashs_since2009.SPEED <= 200)& (fatal_crashs_since2009.SEX <= 2)]\n",
    "no_trains.head()"
   ]
  },
  {
   "cell_type": "code",
   "execution_count": 7,
   "metadata": {},
   "outputs": [
    {
     "data": {
      "text/plain": [
       "1.0    302824\n",
       "2.0    169628\n",
       "Name: SEX, dtype: int64"
      ]
     },
     "execution_count": 7,
     "metadata": {},
     "output_type": "execute_result"
    }
   ],
   "source": [
    "no_trains['SEX'].value_counts()"
   ]
  },
  {
   "cell_type": "code",
   "execution_count": 8,
   "metadata": {},
   "outputs": [
    {
     "data": {
      "image/png": "[encoded data removed]",
      "text/plain": [
       "<matplotlib.figure.Figure at 0x12b498f60>"
      ]
     },
     "metadata": {},
     "output_type": "display_data"
    }
   ],
   "source": [
    "Drunk_Speeding=sns.violinplot(data=no_trains, x=\"DRUNK_INDICATOR\", y=\"SPEED\",\n",
    "               hue=\"SEX\", split=True)\n",
    "medians = no_trains.groupby(['SPEEDING_INDICATOR'])['SPEED'].median().values\n",
    "median_labels = [str(np.round(s, 2)) for s in medians]\n",
    "pos = range(len(medians))\n",
    "for tick,label in zip(pos,Drunk_Speeding.get_xticklabels()):\n",
    "   Drunk_Speeding.text(pos[tick], medians[tick] + 0.05, median_labels[tick], horizontalalignment='center', color='w', weight='semibold')"
   ]
  },
  {
   "cell_type": "code",
   "execution_count": null,
   "metadata": {
    "collapsed": true
   },
   "outputs": [],
   "source": []
  }
 ],
 "metadata": {
  "kernelspec": {
   "display_name": "Python 3",
   "language": "python",
   "name": "python3"
  },
  "language_info": {
   "codemirror_mode": {
    "name": "ipython",
    "version": 3
   },
   "file_extension": ".py",
   "mimetype": "text/x-python",
   "name": "python",
   "nbconvert_exporter": "python",
   "pygments_lexer": "ipython3",
   "version": "3.6.1"
  }
 },
 "nbformat": 4,
 "nbformat_minor": 2
}
