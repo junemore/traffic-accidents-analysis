{
 "cells": [
  {
   "cell_type": "code",
   "execution_count": null,
   "metadata": {
    "collapsed": true
   },
   "outputs": [],
   "source": [
    "%matplotlib inline\n",
    "import matplotlib.pyplot as plt\n",
    "from dbfread import DBF\n",
    "import pandas as pd\n",
    "import numpy as np\n",
    "from pandas import DataFrame\n",
    "import shelve\n",
    "import seaborn as sns\n",
    "plt.style.use('seaborn-dark')\n",
    "plt.rcParams['figure.figsize'] = (10, 6)\n",
    "pd.set_option('display.max_columns', 100)"
   ]
  },
  {
   "cell_type": "code",
   "execution_count": null,
   "metadata": {
    "collapsed": true
   },
   "outputs": [],
   "source": [
    "fatal_crashs['DRUNK_DRIVE'].value_counts()"
   ]
  },
  {
   "cell_type": "code",
   "execution_count": null,
   "metadata": {
    "collapsed": true
   },
   "outputs": [],
   "source": [
    "fatal_crashs['DRUNK_INDICATOR']=fatal_crashs['DRUNK_DRIVE'].where(fatal_crashs['DRUNK_DRIVE'] <= 1, 1)\n",
    "fatal_crashs['DRUNK_INDICATOR'].value_counts()"
   ]
  },
  {
   "cell_type": "code",
   "execution_count": null,
   "metadata": {
    "collapsed": true
   },
   "outputs": [],
   "source": [
    "#since data before 2009 do not contain information of whether the driver speeding or not, so we select data from after 2009\n",
    "fatal_crashs_since2009=fatal_crashs.loc[fatal_crashs['YEAR'] >= 2009]\n",
    "fatal_crashs_since2009['SPEEDING_INDICATOR']=fatal_crashs_since2009['SPEEDING'].where(fatal_crashs_since2009['SPEEDING'] <= 1, 1)\n",
    "fatal_crashs_since2009['SPEEDING_INDICATOR'].value_counts()"
   ]
  },
  {
   "cell_type": "code",
   "execution_count": null,
   "metadata": {
    "collapsed": true
   },
   "outputs": [],
   "source": [
    "no_trains=fatal_crashs_since2009[(fatal_crashs_since2009.SPEED <= 200)& (fatal_crashs_since2009.SEX <= 2)]\n",
    "no_trains.head()"
   ]
  },
  {
   "cell_type": "code",
   "execution_count": null,
   "metadata": {
    "collapsed": true
   },
   "outputs": [],
   "source": [
    "no_trains['SEX'].value_counts()"
   ]
  },
  {
   "cell_type": "code",
   "execution_count": null,
   "metadata": {
    "collapsed": true
   },
   "outputs": [],
   "source": [
    "Drunk_Speeding=sns.violinplot(data=no_trains, x=\"DRUNK_INDICATOR\", y=\"SPEED\",\n",
    "               hue=\"SEX\", split=True)\n",
    "medians = no_trains.groupby(['SPEEDING_INDICATOR'])['SPEED'].median().values\n",
    "median_labels = [str(np.round(s, 2)) for s in medians]\n",
    "pos = range(len(medians))\n",
    "for tick,label in zip(pos,Drunk_Speeding.get_xticklabels()):\n",
    "   Drunk_Speeding.text(pos[tick], medians[tick] + 0.05, median_labels[tick], horizontalalignment='center', color='w', weight='semibold'"
   ]
  }
 ],
 "metadata": {
  "kernelspec": {
   "display_name": "Python 3",
   "language": "python",
   "name": "python3"
  },
  "language_info": {
   "codemirror_mode": {
    "name": "ipython",
    "version": 3
   },
   "file_extension": ".py",
   "mimetype": "text/x-python",
   "name": "python",
   "nbconvert_exporter": "python",
   "pygments_lexer": "ipython3",
   "version": "3.6.1"
  }
 },
 "nbformat": 4,
 "nbformat_minor": 2
}
