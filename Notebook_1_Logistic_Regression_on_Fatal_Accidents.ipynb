{
 "cells": [
  {
   "cell_type": "markdown",
   "metadata": {},
   "source": [
    "# Logistic Regression on Fatal Accidents"
   ]
  },
  {
   "cell_type": "markdown",
   "metadata": {},
   "source": [
    "Fatal accidents take away more than 30,000 lives every year in the U.S.  [(NHTSA)](https://www-fars.nhtsa.dot.gov/Main/index.aspx), and traffic safety have been concern of many people for years. In our final project, we want to identify the most probable factors that affect accident severity. We are not aimming to examinate all fators due to limitation of data obtained from the accident report, but we will explore factors that we believe are more likely to lead to death, such as location, age, time, collision type, and alcohol involvement.\n",
    "<br/>The data we use to perform Logitic Regression are [all traffic accidents happened in Allegheny County, City of Pittsburgh*](data/accident/allegheny-county-crash-data-dictionary.pdf) from 2004-2016. The accidents are classified as either fatal or nonfatal accidents, this binary response variable makes it suitable for logistic regression.\n",
    "\n",
    "Source*: [DATA.GOV](https://catalog.data.gov/dataset/allegheny-county-crash-data)"
   ]
  },
  {
   "cell_type": "code",
   "execution_count": 1,
   "metadata": {},
   "outputs": [
    {
     "name": "stderr",
     "output_type": "stream",
     "text": [
      "/Users/huyuanfeng818/anaconda/lib/python3.6/site-packages/sklearn/cross_validation.py:44: DeprecationWarning: This module was deprecated in version 0.18 in favor of the model_selection module into which all the refactored classes and functions are moved. Also note that the interface of the new CV iterators are different from that of this module. This module will be removed in 0.20.\n",
      "  \"This module will be removed in 0.20.\", DeprecationWarning)\n"
     ]
    }
   ],
   "source": [
    "import pandas as pd\n",
    "import numpy as np\n",
    "import seaborn as sns\n",
    "import matplotlib.pyplot as plt \n",
    "from sklearn.linear_model import LogisticRegression\n",
    "from sklearn.cross_validation import train_test_split\n",
    "pd.set_option('display.max_columns', 200)\n",
    "import warnings\n",
    "warnings.filterwarnings('ignore')"
   ]
  },
  {
   "cell_type": "markdown",
   "metadata": {},
   "source": [
    "First we selected variables that we think are most probable facotrs that will lead to fatal accidents, and change their name and value according to [Allegheny County Crash Data dictionary](data/allegheny-county-crash-data-dictionary.pdf) to make them more readable."
   ]
  },
  {
   "cell_type": "code",
   "execution_count": 15,
   "metadata": {},
   "outputs": [
    {
     "data": {
      "text/html": [
       "<div>\n",
       "<style>\n",
       "    .dataframe thead tr:only-child th {\n",
       "        text-align: right;\n",
       "    }\n",
       "\n",
       "    .dataframe thead th {\n",
       "        text-align: left;\n",
       "    }\n",
       "\n",
       "    .dataframe tbody tr th {\n",
       "        vertical-align: top;\n",
       "    }\n",
       "</style>\n",
       "<table border=\"1\" class=\"dataframe\">\n",
       "  <thead>\n",
       "    <tr style=\"text-align: right;\">\n",
       "      <th></th>\n",
       "      <th>FATAL</th>\n",
       "      <th>FATAL_OR_MAJ_INJ</th>\n",
       "      <th>COLLISION_TYPE</th>\n",
       "      <th>DAY_OF_WEEK</th>\n",
       "      <th>VEHICLE_COUNT</th>\n",
       "      <th>WEATHER</th>\n",
       "      <th>DRIVER_16YR</th>\n",
       "      <th>DRIVER_17YR</th>\n",
       "      <th>DRIVER_65_74YR</th>\n",
       "      <th>DRIVER_75PLUS</th>\n",
       "      <th>AGGRESSIVE_DRIVING</th>\n",
       "      <th>DISTRACTED</th>\n",
       "      <th>DRINKING_DRIVER</th>\n",
       "      <th>HVY_TRUCK_RELATED</th>\n",
       "      <th>INTERSECTION</th>\n",
       "      <th>SPEEDING_RELATED</th>\n",
       "      <th>UNBELTED</th>\n",
       "      <th>FIRE_IN_VEHICLE</th>\n",
       "      <th>CELL_PHONE</th>\n",
       "      <th>ILLUMINATION</th>\n",
       "    </tr>\n",
       "  </thead>\n",
       "  <tbody>\n",
       "    <tr>\n",
       "      <th>0</th>\n",
       "      <td>0</td>\n",
       "      <td>0</td>\n",
       "      <td>Hit_Fixed_Object</td>\n",
       "      <td>Weekday</td>\n",
       "      <td>1</td>\n",
       "      <td>No_adverse_conditions</td>\n",
       "      <td>0</td>\n",
       "      <td>0</td>\n",
       "      <td>0</td>\n",
       "      <td>0</td>\n",
       "      <td>0</td>\n",
       "      <td>1</td>\n",
       "      <td>1</td>\n",
       "      <td>0</td>\n",
       "      <td>0</td>\n",
       "      <td>0</td>\n",
       "      <td>1</td>\n",
       "      <td>0</td>\n",
       "      <td>0</td>\n",
       "      <td>Dark,no_street_lights</td>\n",
       "    </tr>\n",
       "    <tr>\n",
       "      <th>1</th>\n",
       "      <td>0</td>\n",
       "      <td>0</td>\n",
       "      <td>Hit_Fixed_Object</td>\n",
       "      <td>Weekday</td>\n",
       "      <td>1</td>\n",
       "      <td>No_adverse_conditions</td>\n",
       "      <td>0</td>\n",
       "      <td>0</td>\n",
       "      <td>0</td>\n",
       "      <td>0</td>\n",
       "      <td>0</td>\n",
       "      <td>0</td>\n",
       "      <td>0</td>\n",
       "      <td>0</td>\n",
       "      <td>0</td>\n",
       "      <td>0</td>\n",
       "      <td>0</td>\n",
       "      <td>0</td>\n",
       "      <td>0</td>\n",
       "      <td>Daylight</td>\n",
       "    </tr>\n",
       "    <tr>\n",
       "      <th>2</th>\n",
       "      <td>0</td>\n",
       "      <td>0</td>\n",
       "      <td>Hit_Fixed_Object</td>\n",
       "      <td>Weekday</td>\n",
       "      <td>1</td>\n",
       "      <td>No_adverse_conditions</td>\n",
       "      <td>0</td>\n",
       "      <td>0</td>\n",
       "      <td>0</td>\n",
       "      <td>0</td>\n",
       "      <td>1</td>\n",
       "      <td>0</td>\n",
       "      <td>0</td>\n",
       "      <td>0</td>\n",
       "      <td>1</td>\n",
       "      <td>0</td>\n",
       "      <td>0</td>\n",
       "      <td>0</td>\n",
       "      <td>0</td>\n",
       "      <td>Dark,no_street_lights</td>\n",
       "    </tr>\n",
       "    <tr>\n",
       "      <th>3</th>\n",
       "      <td>0</td>\n",
       "      <td>0</td>\n",
       "      <td>Angle</td>\n",
       "      <td>Weekday</td>\n",
       "      <td>2</td>\n",
       "      <td>No_adverse_conditions</td>\n",
       "      <td>0</td>\n",
       "      <td>0</td>\n",
       "      <td>1</td>\n",
       "      <td>0</td>\n",
       "      <td>1</td>\n",
       "      <td>0</td>\n",
       "      <td>0</td>\n",
       "      <td>1</td>\n",
       "      <td>1</td>\n",
       "      <td>0</td>\n",
       "      <td>0</td>\n",
       "      <td>0</td>\n",
       "      <td>0</td>\n",
       "      <td>Daylight</td>\n",
       "    </tr>\n",
       "    <tr>\n",
       "      <th>4</th>\n",
       "      <td>0</td>\n",
       "      <td>0</td>\n",
       "      <td>Rear-End</td>\n",
       "      <td>Weekday</td>\n",
       "      <td>2</td>\n",
       "      <td>No_adverse_conditions</td>\n",
       "      <td>1</td>\n",
       "      <td>0</td>\n",
       "      <td>0</td>\n",
       "      <td>0</td>\n",
       "      <td>0</td>\n",
       "      <td>0</td>\n",
       "      <td>0</td>\n",
       "      <td>0</td>\n",
       "      <td>0</td>\n",
       "      <td>0</td>\n",
       "      <td>0</td>\n",
       "      <td>0</td>\n",
       "      <td>0</td>\n",
       "      <td>Dark,street_lights</td>\n",
       "    </tr>\n",
       "  </tbody>\n",
       "</table>\n",
       "</div>"
      ],
      "text/plain": [
       "   FATAL  FATAL_OR_MAJ_INJ    COLLISION_TYPE DAY_OF_WEEK  VEHICLE_COUNT  \\\n",
       "0      0                 0  Hit_Fixed_Object     Weekday              1   \n",
       "1      0                 0  Hit_Fixed_Object     Weekday              1   \n",
       "2      0                 0  Hit_Fixed_Object     Weekday              1   \n",
       "3      0                 0             Angle     Weekday              2   \n",
       "4      0                 0          Rear-End     Weekday              2   \n",
       "\n",
       "                 WEATHER  DRIVER_16YR  DRIVER_17YR  DRIVER_65_74YR  \\\n",
       "0  No_adverse_conditions            0            0               0   \n",
       "1  No_adverse_conditions            0            0               0   \n",
       "2  No_adverse_conditions            0            0               0   \n",
       "3  No_adverse_conditions            0            0               1   \n",
       "4  No_adverse_conditions            1            0               0   \n",
       "\n",
       "   DRIVER_75PLUS  AGGRESSIVE_DRIVING  DISTRACTED  DRINKING_DRIVER  \\\n",
       "0              0                   0           1                1   \n",
       "1              0                   0           0                0   \n",
       "2              0                   1           0                0   \n",
       "3              0                   1           0                0   \n",
       "4              0                   0           0                0   \n",
       "\n",
       "   HVY_TRUCK_RELATED  INTERSECTION  SPEEDING_RELATED  UNBELTED  \\\n",
       "0                  0             0                 0         1   \n",
       "1                  0             0                 0         0   \n",
       "2                  0             1                 0         0   \n",
       "3                  1             1                 0         0   \n",
       "4                  0             0                 0         0   \n",
       "\n",
       "   FIRE_IN_VEHICLE  CELL_PHONE           ILLUMINATION  \n",
       "0                0           0  Dark,no_street_lights  \n",
       "1                0           0               Daylight  \n",
       "2                0           0  Dark,no_street_lights  \n",
       "3                0           0               Daylight  \n",
       "4                0           0     Dark,street_lights  "
      ]
     },
     "execution_count": 15,
     "metadata": {},
     "output_type": "execute_result"
    }
   ],
   "source": [
    "# load crash data\n",
    "raw = pd.read_csv('data/accident/Allegheny County Crash Data.csv')\n",
    "# select variables \n",
    "crashs = raw[['FATAL','FATAL_OR_MAJ_INJ','COLLISION_TYPE','DAY_OF_WEEK','VEHICLE_COUNT','WEATHER','DRIVER_16YR','DRIVER_17YR','DRIVER_65_74YR','DRIVER_75PLUS','AGGRESSIVE_DRIVING','DISTRACTED','DRINKING_DRIVER','HVY_TRUCK_RELATED','INTERSECTION','SPEEDING_RELATED','UNBELTED','FIRE_IN_VEHICLE','CELL_PHONE','ILLUMINATION']]\n",
    "crashs['COLLISION_TYPE'] = crashs['COLLISION_TYPE'].map({0.0:'Not Collision',1.0:'Rear-End',2.0:'Head-On',3.0:'Rear-to-Rear',4.0:'Angle',5:'Sideswipe',6:'Sideswipe',7:'Hit_Fixed_Object',8:'Hit Pedestrian',9.0:'Unknown'})\n",
    "crashs['ILLUMINATION'] = crashs['ILLUMINATION'].map({1.0:'Daylight',2:'Dark,no_street_lights',3:'Dark,street_lights',4:'Dusk',5:'Dawn', 6:'Dark',8.0:'Not Report',9.0:'Not Report'})\n",
    "crashs['DAY_OF_WEEK']= crashs['DAY_OF_WEEK'].map({1:'Weekend',7:'Weekend',2:'Weekday',3:'Weekday',4:'Weekday',5:'Weekday',6:'Weekday'})\n",
    "crashs['WEATHER']= crashs['WEATHER'].map({1:'No_adverse_conditions',2:'Rain',3:'Sleet',4:'Snow',5:'Fog',6:'Rain_and_fog',7:'Sleet_and_fog',8:'other',9:'other'})\n",
    "# see selected variable in the table\n",
    "crashs.head()"
   ]
  },
  {
   "cell_type": "markdown",
   "metadata": {},
   "source": [
    "### Variables descriptions"
   ]
  },
  {
   "cell_type": "markdown",
   "metadata": {},
   "source": [
    "**Predict variable:**<br/>\n",
    "FATAL_OR_MAJ_INJ (1--Yes, 0--No)<br/>\n",
    "\n",
    "\n",
    "**Input variable:**<br/>\n",
    "`Countinous variables`:<br/>\n",
    "VEHICLE_COUNT<br/>\n",
    "\n",
    "`Non-dummy catagorical variables:`<br/>\n",
    "COLLISION_TYPE<br/>\n",
    "ILLUMINATION: light condition<br/>\n",
    "WEATHER<br/>\n",
    "\n",
    "`Dummy catagorical variables(1--Yes, 0--No):`<br/>\n",
    "DAY_OF_WEEK: Weekday, Weekend<br/>\n",
    "AGGRESSIVE_DRIVING<br/>\n",
    "DISTRACTED<br/>\n",
    "DRINKING_DRIVER<br/>\n",
    "HVY_TRUCK_RELATED<br/>\n",
    "INTERSECTION<br/>\n",
    "SPEEDING_RELATED<br/>\n",
    "UNBELTED<br/>\n",
    "FIRE_IN_VEHICLE<br/>\n",
    "CELL_PHONE<br/>\n",
    "DRIVER_16YR: 16-year old driver<br/>\n",
    "DRIVER_17YR: 17-year old driver<br/>\n",
    "DRIVER_65_74YR: drivers that are between 65 and 74 years old"
   ]
  },
  {
   "cell_type": "markdown",
   "metadata": {},
   "source": [
    "## Explore Predict Variable (Fatality)"
   ]
  },
  {
   "cell_type": "code",
   "execution_count": 16,
   "metadata": {},
   "outputs": [
    {
     "data": {
      "text/plain": [
       "0    156963\n",
       "1       858\n",
       "Name: FATAL, dtype: int64"
      ]
     },
     "execution_count": 16,
     "metadata": {},
     "output_type": "execute_result"
    }
   ],
   "source": [
    "crashs['FATAL'].value_counts()"
   ]
  },
  {
   "cell_type": "markdown",
   "metadata": {},
   "source": [
    "From 2004-2016, there were 156,963 nonfatal accidents, and 858 fatal accidents happened in  Allegheny County. The following pie graph shows that the proportion of accidents that case fatality and major injury among all accidents. "
   ]
  },
  {
   "cell_type": "code",
   "execution_count": 17,
   "metadata": {},
   "outputs": [
    {
     "data": {
      "image/png": "[encoded data removed]",
      "text/plain": [
       "<matplotlib.figure.Figure at 0x1174d27f0>"
      ]
     },
     "metadata": {},
     "output_type": "display_data"
    }
   ],
   "source": [
    "labels = 'Unharmed or Lightly Injured', 'Fatality','Fatality or major injury'\n",
    "colors = [ 'blue','gold','orange']\n",
    "explode = (0.1,0.15, 0)  # explode 1st slice\n",
    "sizes = [crashs.loc[crashs.FATAL == 0, 'FATAL'].count(),crashs.loc[crashs.FATAL == 1, 'FATAL'].count(),crashs.loc[crashs.FATAL_OR_MAJ_INJ == 1, 'FATAL_OR_MAJ_INJ'].count()]\n",
    " \n",
    "# Plot\n",
    "plt.pie(sizes, explode=explode, labels=labels, colors=colors,autopct='%1.1f%%', shadow=True, startangle=140)\n",
    "plt.rc(\"font\", size=18) \n",
    "plt.axis('equal')\n",
    "plt.savefig(\"fig/percentage_of_fatal_accident.png\")\n",
    "plt.show()"
   ]
  },
  {
   "cell_type": "markdown",
   "metadata": {},
   "source": [
    "Among all the accidents happened in Allegheny County from 2004 to 2016, about 2.4% accidents cause fatality or major injury, and about 0.5% accidents involved fatality. In other word, every 200 crash happens, there will be at least one live being taken away. "
   ]
  },
  {
   "cell_type": "markdown",
   "metadata": {},
   "source": [
    "## Create dummy variables"
   ]
  },
  {
   "cell_type": "code",
   "execution_count": 18,
   "metadata": {},
   "outputs": [
    {
     "data": {
      "text/html": [
       "<div>\n",
       "<style>\n",
       "    .dataframe thead tr:only-child th {\n",
       "        text-align: right;\n",
       "    }\n",
       "\n",
       "    .dataframe thead th {\n",
       "        text-align: left;\n",
       "    }\n",
       "\n",
       "    .dataframe tbody tr th {\n",
       "        vertical-align: top;\n",
       "    }\n",
       "</style>\n",
       "<table border=\"1\" class=\"dataframe\">\n",
       "  <thead>\n",
       "    <tr style=\"text-align: right;\">\n",
       "      <th></th>\n",
       "      <th>FATAL</th>\n",
       "      <th>FATAL_OR_MAJ_INJ</th>\n",
       "      <th>VEHICLE_COUNT</th>\n",
       "      <th>DRIVER_16YR</th>\n",
       "      <th>DRIVER_17YR</th>\n",
       "      <th>DRIVER_65_74YR</th>\n",
       "      <th>DRIVER_75PLUS</th>\n",
       "      <th>AGGRESSIVE_DRIVING</th>\n",
       "      <th>DISTRACTED</th>\n",
       "      <th>DRINKING_DRIVER</th>\n",
       "      <th>HVY_TRUCK_RELATED</th>\n",
       "      <th>INTERSECTION</th>\n",
       "      <th>SPEEDING_RELATED</th>\n",
       "      <th>UNBELTED</th>\n",
       "      <th>FIRE_IN_VEHICLE</th>\n",
       "      <th>CELL_PHONE</th>\n",
       "      <th>['Coll']_Angle</th>\n",
       "      <th>['Coll']_Head-On</th>\n",
       "      <th>['Coll']_Hit Pedestrian</th>\n",
       "      <th>['Coll']_Hit_Fixed_Object</th>\n",
       "      <th>['Coll']_Not Collision</th>\n",
       "      <th>['Coll']_Rear-End</th>\n",
       "      <th>['Coll']_Rear-to-Rear</th>\n",
       "      <th>['Coll']_Sideswipe</th>\n",
       "      <th>['Coll']_Unknown</th>\n",
       "      <th>['Weekday']_Weekday</th>\n",
       "      <th>['Weekday']_Weekend</th>\n",
       "      <th>['ILLUMINATION']_Dark</th>\n",
       "      <th>['ILLUMINATION']_Dark,no_street_lights</th>\n",
       "      <th>['ILLUMINATION']_Dark,street_lights</th>\n",
       "      <th>['ILLUMINATION']_Dawn</th>\n",
       "      <th>['ILLUMINATION']_Daylight</th>\n",
       "      <th>['ILLUMINATION']_Dusk</th>\n",
       "      <th>['ILLUMINATION']_Not Report</th>\n",
       "      <th>['WEATHER']_Fog</th>\n",
       "      <th>['WEATHER']_No_adverse_conditions</th>\n",
       "      <th>['WEATHER']_Rain</th>\n",
       "      <th>['WEATHER']_Rain_and_fog</th>\n",
       "      <th>['WEATHER']_Sleet</th>\n",
       "      <th>['WEATHER']_Sleet_and_fog</th>\n",
       "      <th>['WEATHER']_Snow</th>\n",
       "      <th>['WEATHER']_other</th>\n",
       "    </tr>\n",
       "  </thead>\n",
       "  <tbody>\n",
       "    <tr>\n",
       "      <th>0</th>\n",
       "      <td>0</td>\n",
       "      <td>0</td>\n",
       "      <td>1</td>\n",
       "      <td>0</td>\n",
       "      <td>0</td>\n",
       "      <td>0</td>\n",
       "      <td>0</td>\n",
       "      <td>0</td>\n",
       "      <td>1</td>\n",
       "      <td>1</td>\n",
       "      <td>0</td>\n",
       "      <td>0</td>\n",
       "      <td>0</td>\n",
       "      <td>1</td>\n",
       "      <td>0</td>\n",
       "      <td>0</td>\n",
       "      <td>0</td>\n",
       "      <td>0</td>\n",
       "      <td>0</td>\n",
       "      <td>1</td>\n",
       "      <td>0</td>\n",
       "      <td>0</td>\n",
       "      <td>0</td>\n",
       "      <td>0</td>\n",
       "      <td>0</td>\n",
       "      <td>1</td>\n",
       "      <td>0</td>\n",
       "      <td>0</td>\n",
       "      <td>1</td>\n",
       "      <td>0</td>\n",
       "      <td>0</td>\n",
       "      <td>0</td>\n",
       "      <td>0</td>\n",
       "      <td>0</td>\n",
       "      <td>0</td>\n",
       "      <td>1</td>\n",
       "      <td>0</td>\n",
       "      <td>0</td>\n",
       "      <td>0</td>\n",
       "      <td>0</td>\n",
       "      <td>0</td>\n",
       "      <td>0</td>\n",
       "    </tr>\n",
       "    <tr>\n",
       "      <th>1</th>\n",
       "      <td>0</td>\n",
       "      <td>0</td>\n",
       "      <td>1</td>\n",
       "      <td>0</td>\n",
       "      <td>0</td>\n",
       "      <td>0</td>\n",
       "      <td>0</td>\n",
       "      <td>0</td>\n",
       "      <td>0</td>\n",
       "      <td>0</td>\n",
       "      <td>0</td>\n",
       "      <td>0</td>\n",
       "      <td>0</td>\n",
       "      <td>0</td>\n",
       "      <td>0</td>\n",
       "      <td>0</td>\n",
       "      <td>0</td>\n",
       "      <td>0</td>\n",
       "      <td>0</td>\n",
       "      <td>1</td>\n",
       "      <td>0</td>\n",
       "      <td>0</td>\n",
       "      <td>0</td>\n",
       "      <td>0</td>\n",
       "      <td>0</td>\n",
       "      <td>1</td>\n",
       "      <td>0</td>\n",
       "      <td>0</td>\n",
       "      <td>0</td>\n",
       "      <td>0</td>\n",
       "      <td>0</td>\n",
       "      <td>1</td>\n",
       "      <td>0</td>\n",
       "      <td>0</td>\n",
       "      <td>0</td>\n",
       "      <td>1</td>\n",
       "      <td>0</td>\n",
       "      <td>0</td>\n",
       "      <td>0</td>\n",
       "      <td>0</td>\n",
       "      <td>0</td>\n",
       "      <td>0</td>\n",
       "    </tr>\n",
       "    <tr>\n",
       "      <th>2</th>\n",
       "      <td>0</td>\n",
       "      <td>0</td>\n",
       "      <td>1</td>\n",
       "      <td>0</td>\n",
       "      <td>0</td>\n",
       "      <td>0</td>\n",
       "      <td>0</td>\n",
       "      <td>1</td>\n",
       "      <td>0</td>\n",
       "      <td>0</td>\n",
       "      <td>0</td>\n",
       "      <td>1</td>\n",
       "      <td>0</td>\n",
       "      <td>0</td>\n",
       "      <td>0</td>\n",
       "      <td>0</td>\n",
       "      <td>0</td>\n",
       "      <td>0</td>\n",
       "      <td>0</td>\n",
       "      <td>1</td>\n",
       "      <td>0</td>\n",
       "      <td>0</td>\n",
       "      <td>0</td>\n",
       "      <td>0</td>\n",
       "      <td>0</td>\n",
       "      <td>1</td>\n",
       "      <td>0</td>\n",
       "      <td>0</td>\n",
       "      <td>1</td>\n",
       "      <td>0</td>\n",
       "      <td>0</td>\n",
       "      <td>0</td>\n",
       "      <td>0</td>\n",
       "      <td>0</td>\n",
       "      <td>0</td>\n",
       "      <td>1</td>\n",
       "      <td>0</td>\n",
       "      <td>0</td>\n",
       "      <td>0</td>\n",
       "      <td>0</td>\n",
       "      <td>0</td>\n",
       "      <td>0</td>\n",
       "    </tr>\n",
       "    <tr>\n",
       "      <th>3</th>\n",
       "      <td>0</td>\n",
       "      <td>0</td>\n",
       "      <td>2</td>\n",
       "      <td>0</td>\n",
       "      <td>0</td>\n",
       "      <td>1</td>\n",
       "      <td>0</td>\n",
       "      <td>1</td>\n",
       "      <td>0</td>\n",
       "      <td>0</td>\n",
       "      <td>1</td>\n",
       "      <td>1</td>\n",
       "      <td>0</td>\n",
       "      <td>0</td>\n",
       "      <td>0</td>\n",
       "      <td>0</td>\n",
       "      <td>1</td>\n",
       "      <td>0</td>\n",
       "      <td>0</td>\n",
       "      <td>0</td>\n",
       "      <td>0</td>\n",
       "      <td>0</td>\n",
       "      <td>0</td>\n",
       "      <td>0</td>\n",
       "      <td>0</td>\n",
       "      <td>1</td>\n",
       "      <td>0</td>\n",
       "      <td>0</td>\n",
       "      <td>0</td>\n",
       "      <td>0</td>\n",
       "      <td>0</td>\n",
       "      <td>1</td>\n",
       "      <td>0</td>\n",
       "      <td>0</td>\n",
       "      <td>0</td>\n",
       "      <td>1</td>\n",
       "      <td>0</td>\n",
       "      <td>0</td>\n",
       "      <td>0</td>\n",
       "      <td>0</td>\n",
       "      <td>0</td>\n",
       "      <td>0</td>\n",
       "    </tr>\n",
       "    <tr>\n",
       "      <th>4</th>\n",
       "      <td>0</td>\n",
       "      <td>0</td>\n",
       "      <td>2</td>\n",
       "      <td>1</td>\n",
       "      <td>0</td>\n",
       "      <td>0</td>\n",
       "      <td>0</td>\n",
       "      <td>0</td>\n",
       "      <td>0</td>\n",
       "      <td>0</td>\n",
       "      <td>0</td>\n",
       "      <td>0</td>\n",
       "      <td>0</td>\n",
       "      <td>0</td>\n",
       "      <td>0</td>\n",
       "      <td>0</td>\n",
       "      <td>0</td>\n",
       "      <td>0</td>\n",
       "      <td>0</td>\n",
       "      <td>0</td>\n",
       "      <td>0</td>\n",
       "      <td>1</td>\n",
       "      <td>0</td>\n",
       "      <td>0</td>\n",
       "      <td>0</td>\n",
       "      <td>1</td>\n",
       "      <td>0</td>\n",
       "      <td>0</td>\n",
       "      <td>0</td>\n",
       "      <td>1</td>\n",
       "      <td>0</td>\n",
       "      <td>0</td>\n",
       "      <td>0</td>\n",
       "      <td>0</td>\n",
       "      <td>0</td>\n",
       "      <td>1</td>\n",
       "      <td>0</td>\n",
       "      <td>0</td>\n",
       "      <td>0</td>\n",
       "      <td>0</td>\n",
       "      <td>0</td>\n",
       "      <td>0</td>\n",
       "    </tr>\n",
       "  </tbody>\n",
       "</table>\n",
       "</div>"
      ],
      "text/plain": [
       "   FATAL  FATAL_OR_MAJ_INJ  VEHICLE_COUNT  DRIVER_16YR  DRIVER_17YR  \\\n",
       "0      0                 0              1            0            0   \n",
       "1      0                 0              1            0            0   \n",
       "2      0                 0              1            0            0   \n",
       "3      0                 0              2            0            0   \n",
       "4      0                 0              2            1            0   \n",
       "\n",
       "   DRIVER_65_74YR  DRIVER_75PLUS  AGGRESSIVE_DRIVING  DISTRACTED  \\\n",
       "0               0              0                   0           1   \n",
       "1               0              0                   0           0   \n",
       "2               0              0                   1           0   \n",
       "3               1              0                   1           0   \n",
       "4               0              0                   0           0   \n",
       "\n",
       "   DRINKING_DRIVER  HVY_TRUCK_RELATED  INTERSECTION  SPEEDING_RELATED  \\\n",
       "0                1                  0             0                 0   \n",
       "1                0                  0             0                 0   \n",
       "2                0                  0             1                 0   \n",
       "3                0                  1             1                 0   \n",
       "4                0                  0             0                 0   \n",
       "\n",
       "   UNBELTED  FIRE_IN_VEHICLE  CELL_PHONE  ['Coll']_Angle  ['Coll']_Head-On  \\\n",
       "0         1                0           0               0                 0   \n",
       "1         0                0           0               0                 0   \n",
       "2         0                0           0               0                 0   \n",
       "3         0                0           0               1                 0   \n",
       "4         0                0           0               0                 0   \n",
       "\n",
       "   ['Coll']_Hit Pedestrian  ['Coll']_Hit_Fixed_Object  ['Coll']_Not Collision  \\\n",
       "0                        0                          1                       0   \n",
       "1                        0                          1                       0   \n",
       "2                        0                          1                       0   \n",
       "3                        0                          0                       0   \n",
       "4                        0                          0                       0   \n",
       "\n",
       "   ['Coll']_Rear-End  ['Coll']_Rear-to-Rear  ['Coll']_Sideswipe  \\\n",
       "0                  0                      0                   0   \n",
       "1                  0                      0                   0   \n",
       "2                  0                      0                   0   \n",
       "3                  0                      0                   0   \n",
       "4                  1                      0                   0   \n",
       "\n",
       "   ['Coll']_Unknown  ['Weekday']_Weekday  ['Weekday']_Weekend  \\\n",
       "0                 0                    1                    0   \n",
       "1                 0                    1                    0   \n",
       "2                 0                    1                    0   \n",
       "3                 0                    1                    0   \n",
       "4                 0                    1                    0   \n",
       "\n",
       "   ['ILLUMINATION']_Dark  ['ILLUMINATION']_Dark,no_street_lights  \\\n",
       "0                      0                                       1   \n",
       "1                      0                                       0   \n",
       "2                      0                                       1   \n",
       "3                      0                                       0   \n",
       "4                      0                                       0   \n",
       "\n",
       "   ['ILLUMINATION']_Dark,street_lights  ['ILLUMINATION']_Dawn  \\\n",
       "0                                    0                      0   \n",
       "1                                    0                      0   \n",
       "2                                    0                      0   \n",
       "3                                    0                      0   \n",
       "4                                    1                      0   \n",
       "\n",
       "   ['ILLUMINATION']_Daylight  ['ILLUMINATION']_Dusk  \\\n",
       "0                          0                      0   \n",
       "1                          1                      0   \n",
       "2                          0                      0   \n",
       "3                          1                      0   \n",
       "4                          0                      0   \n",
       "\n",
       "   ['ILLUMINATION']_Not Report  ['WEATHER']_Fog  \\\n",
       "0                            0                0   \n",
       "1                            0                0   \n",
       "2                            0                0   \n",
       "3                            0                0   \n",
       "4                            0                0   \n",
       "\n",
       "   ['WEATHER']_No_adverse_conditions  ['WEATHER']_Rain  \\\n",
       "0                                  1                 0   \n",
       "1                                  1                 0   \n",
       "2                                  1                 0   \n",
       "3                                  1                 0   \n",
       "4                                  1                 0   \n",
       "\n",
       "   ['WEATHER']_Rain_and_fog  ['WEATHER']_Sleet  ['WEATHER']_Sleet_and_fog  \\\n",
       "0                         0                  0                          0   \n",
       "1                         0                  0                          0   \n",
       "2                         0                  0                          0   \n",
       "3                         0                  0                          0   \n",
       "4                         0                  0                          0   \n",
       "\n",
       "   ['WEATHER']_Snow  ['WEATHER']_other  \n",
       "0                 0                  0  \n",
       "1                 0                  0  \n",
       "2                 0                  0  \n",
       "3                 0                  0  \n",
       "4                 0                  0  "
      ]
     },
     "execution_count": 18,
     "metadata": {},
     "output_type": "execute_result"
    }
   ],
   "source": [
    "Collision_dummy = pd.get_dummies(crashs['COLLISION_TYPE'], prefix=['Coll'])\n",
    "Weekday_dummy = pd.get_dummies(crashs['DAY_OF_WEEK'], prefix=['Weekday'])\n",
    "ILLUMINATION_dummy =pd.get_dummies(crashs['ILLUMINATION'],prefix=['ILLUMINATION'])\n",
    "WEATHER_dummy = pd.get_dummies(crashs['WEATHER'],prefix=['WEATHER'])\n",
    "crashs_reg = pd.concat([crashs, Collision_dummy,Weekday_dummy,ILLUMINATION_dummy,WEATHER_dummy], axis=1).drop(['COLLISION_TYPE','DAY_OF_WEEK','ILLUMINATION','WEATHER'],axis=1)\n",
    "crashs_reg.head()"
   ]
  },
  {
   "cell_type": "markdown",
   "metadata": {},
   "source": [
    "After turnning catagorical variable into dummy variable, we drop one of the dummy variable in each catogory to aviod multi-colinnearity, and also drop 'FATAL_OR_MAJ_INJ' and 'FATAL' since they are not input variable."
   ]
  },
  {
   "cell_type": "markdown",
   "metadata": {},
   "source": [
    "## Feature Selection"
   ]
  },
  {
   "cell_type": "markdown",
   "metadata": {},
   "source": [
    "### Drop Highly Correlated Variable\n",
    "Firstly, we dropped 'FATAL' and 'FATAL_OR_MAJ_INJ' becuase 'FATAL' is the response variable, and 'FATAL_OR_MAJ_INJ' contians simmilar information as 'FATAL' so we are not using it.<br/>\n",
    "And also we dropped \"['Coll']_Unknown\",\"['ILLUMINATION']_Not Report\",\"['Weekday']_Weekend\",\"['WEATHER']_other\"] to aviod multi-colinnearity."
   ]
  },
  {
   "cell_type": "code",
   "execution_count": 19,
   "metadata": {},
   "outputs": [
    {
     "data": {
      "image/png": "[encoded data removed]",
      "text/plain": [
       "<matplotlib.figure.Figure at 0x1152ab668>"
      ]
     },
     "metadata": {},
     "output_type": "display_data"
    }
   ],
   "source": [
    "to_be_drop = ['FATAL','FATAL_OR_MAJ_INJ',\"['Coll']_Unknown\",\"['ILLUMINATION']_Not Report\",\"['Weekday']_Weekend\",\"['WEATHER']_other\"]\n",
    "raw_X = crashs_reg.drop(to_be_drop,axis=1)\n",
    "plt.subplots(figsize=(13, 10))\n",
    "sns.heatmap(raw_X.corr()) \n",
    "plt.savefig(\"fig/percentage_of_fatal_accident.png\")\n",
    "plt.show()"
   ]
  },
  {
   "cell_type": "markdown",
   "metadata": {},
   "source": [
    "From the correlation map, we can see that *['ILLUMINATION']_Daylight* and *['ILLUMINATION']_Dark,street lights*, *['COLL']_Hit Fixed Object* and *VECHICLE_COUNT*,*['WEATHER']_No_adverse_conditions* and *['WEATHER']_Rain*, are highly correlated, so we decided to drop *['ILLUMINATION']_Dark,street lights*, *['COLL']_Hit Fixed Object*, and *['WEATHER']_No_adverse_conditions* variable."
   ]
  },
  {
   "cell_type": "code",
   "execution_count": 20,
   "metadata": {
    "collapsed": true
   },
   "outputs": [],
   "source": [
    "drop_highly_corr = [\"['ILLUMINATION']_Dark,street_lights\", \"['WEATHER']_No_adverse_conditions\",\"['Coll']_Hit_Fixed_Object\"] \n",
    "\n",
    "# Now we have our feature matrix X and response variable y\n",
    "X=raw_X.drop(drop_highly_corr ,axis=1)\n",
    "y = crashs_reg['FATAL_OR_MAJ_INJ']"
   ]
  },
  {
   "cell_type": "markdown",
   "metadata": {},
   "source": [
    "## Logistic Regression Model Fitting"
   ]
  },
  {
   "cell_type": "code",
   "execution_count": 21,
   "metadata": {},
   "outputs": [
    {
     "name": "stdout",
     "output_type": "stream",
     "text": [
      "Optimization terminated successfully.\n",
      "         Current function value: 0.111945\n",
      "         Iterations 9\n",
      "                           Logit Regression Results                           \n",
      "==============================================================================\n",
      "Dep. Variable:       FATAL_OR_MAJ_INJ   No. Observations:               157821\n",
      "Model:                          Logit   Df Residuals:                   157788\n",
      "Method:                           MLE   Df Model:                           32\n",
      "Date:                Wed, 13 Dec 2017   Pseudo R-squ.:                 0.01482\n",
      "Time:                        07:42:55   Log-Likelihood:                -17667.\n",
      "converged:                       True   LL-Null:                       -17933.\n",
      "                                        LLR p-value:                 7.633e-92\n",
      "==========================================================================================================\n",
      "                                             coef    std err          z      P>|z|      [0.025      0.975]\n",
      "----------------------------------------------------------------------------------------------------------\n",
      "VEHICLE_COUNT                             -2.1001      0.035    -59.574      0.000      -2.169      -2.031\n",
      "DRIVER_16YR                               -0.5669      0.187     -3.028      0.002      -0.934      -0.200\n",
      "DRIVER_17YR                               -0.3640      0.110     -3.297      0.001      -0.580      -0.148\n",
      "DRIVER_65_74YR                             0.4165      0.060      6.892      0.000       0.298       0.535\n",
      "DRIVER_75PLUS                              0.5133      0.066      7.767      0.000       0.384       0.643\n",
      "AGGRESSIVE_DRIVING                        -0.4799      0.050     -9.663      0.000      -0.577      -0.383\n",
      "DISTRACTED                                -0.6068      0.068     -8.865      0.000      -0.741      -0.473\n",
      "DRINKING_DRIVER                            0.2180      0.043      5.119      0.000       0.135       0.301\n",
      "HVY_TRUCK_RELATED                          0.9232      0.078     11.850      0.000       0.771       1.076\n",
      "INTERSECTION                              -0.6318      0.036    -17.451      0.000      -0.703      -0.561\n",
      "SPEEDING_RELATED                           0.6584      0.057     11.545      0.000       0.547       0.770\n",
      "UNBELTED                                   0.9004      0.036     24.792      0.000       0.829       0.972\n",
      "FIRE_IN_VEHICLE                           -0.2249      0.208     -1.083      0.279      -0.632       0.182\n",
      "CELL_PHONE                                -0.1656      0.191     -0.869      0.385      -0.539       0.208\n",
      "['Coll']_Angle                             1.6634      0.065     25.601      0.000       1.536       1.791\n",
      "['Coll']_Head-On                           2.5349      0.072     35.248      0.000       2.394       2.676\n",
      "['Coll']_Hit Pedestrian                    1.2968      0.056     23.294      0.000       1.188       1.406\n",
      "['Coll']_Not Collision                     0.2267      0.082      2.757      0.006       0.066       0.388\n",
      "['Coll']_Rear-End                          1.0672      0.072     14.727      0.000       0.925       1.209\n",
      "['Coll']_Rear-to-Rear                      1.2775      0.460      2.778      0.005       0.376       2.179\n",
      "['Coll']_Sideswipe                         1.1106      0.094     11.867      0.000       0.927       1.294\n",
      "['Weekday']_Weekday                       -0.6732      0.031    -21.552      0.000      -0.734      -0.612\n",
      "['ILLUMINATION']_Dark                     -0.5646      0.196     -2.887      0.004      -0.948      -0.181\n",
      "['ILLUMINATION']_Dark,no_street_lights    -0.6685      0.060    -11.189      0.000      -0.786      -0.551\n",
      "['ILLUMINATION']_Dawn                     -0.5877      0.140     -4.190      0.000      -0.863      -0.313\n",
      "['ILLUMINATION']_Daylight                 -0.7110      0.035    -20.358      0.000      -0.779      -0.643\n",
      "['ILLUMINATION']_Dusk                     -0.4461      0.125     -3.573      0.000      -0.691      -0.201\n",
      "['WEATHER']_Fog                           -0.5038      0.330     -1.528      0.126      -1.150       0.142\n",
      "['WEATHER']_Rain                          -0.7614      0.058    -13.127      0.000      -0.875      -0.648\n",
      "['WEATHER']_Rain_and_fog                  -0.5820      0.420     -1.384      0.166      -1.406       0.242\n",
      "['WEATHER']_Sleet                         -1.0713      0.241     -4.436      0.000      -1.545      -0.598\n",
      "['WEATHER']_Sleet_and_fog                 -1.5703      1.011     -1.553      0.120      -3.552       0.411\n",
      "['WEATHER']_Snow                          -1.4736      0.089    -16.478      0.000      -1.649      -1.298\n",
      "==========================================================================================================\n"
     ]
    }
   ],
   "source": [
    "import statsmodels.api as sm\n",
    "logit_model=sm.Logit(y,X)\n",
    "result=logit_model.fit()\n",
    "print(result.summary())"
   ]
  },
  {
   "cell_type": "markdown",
   "metadata": {},
   "source": [
    "If we set alpha = 0.05, most variables in the regression are statistically significant, besides 16,17-year-old drivers, CELL_PHONE, ['Coll']_Rear-to-Rear, ['ILLUMINATION']_Dark, ['WEATHER']_Sleet_and_fog sincr they have p-value that is more than 0.05. <br/>\n",
    "To summarize, from the logistic regression, we find the following factors have significant impact on fatal accident <br/>\n",
    "\n",
    "*human error:*\n",
    "- use of alcohol\n",
    "- wheather drivers involve in agressive driving behavior, like speeding\n",
    "- wheather drivers were distracted\n",
    "- wheather drivers were unbelted\n",
    "\n",
    "<br/>*enviorment/other factors:*\n",
    "\n",
    "- location of crash, such as intersection\n",
    "- light and weather condition \n",
    "- time of crash\n",
    "- number of vehicle involved\n",
    "- age of drivers"
   ]
  },
  {
   "cell_type": "markdown",
   "metadata": {},
   "source": [
    "## Evaluate Model using cross validation and confusion matrix"
   ]
  },
  {
   "cell_type": "markdown",
   "metadata": {},
   "source": [
    "From previous analysis, we found that the fatality rate of car accident is roughly 0.5%, so we decided to randonly select 1/100 of nonfatal accidents to get samples which nonfatal accidents: fatal accident = 3 : 1"
   ]
  },
  {
   "cell_type": "code",
   "execution_count": 22,
   "metadata": {
    "collapsed": true
   },
   "outputs": [],
   "source": [
    "from sklearn.utils import shuffle\n",
    "# select 1/100 nonfatal accidents\n",
    "np.random.seed(1600)\n",
    "nonfatal_sample= crashs_reg[crashs_reg.FATAL == 0].sample(frac=0.01, replace=True)\n",
    "# select all fatal accidents\n",
    "fatal_sample = crashs_reg[crashs_reg.FATAL == 1]\n",
    "# merge nonfatal samples and fatal samples\n",
    "sample= pd.concat([nonfatal_sample,fatal_sample],axis=0)\n",
    "# get response variable ysample and regression matrix Xsample\n",
    "ysample = sample['FATAL']\n",
    "Xsample = sample.drop(to_be_drop,axis=1).drop(drop_highly_corr,axis=1)"
   ]
  },
  {
   "cell_type": "markdown",
   "metadata": {},
   "source": [
    "After getting response variable ysample and regression matrix Xsample, we will split samples into trianning set and testing set, and then use confusion matrix to evaluate the accuracy of our model' prediction."
   ]
  },
  {
   "cell_type": "code",
   "execution_count": 23,
   "metadata": {},
   "outputs": [
    {
     "name": "stdout",
     "output_type": "stream",
     "text": [
      "Accuracy of logistic regression classifier on test set: 0.82\n"
     ]
    }
   ],
   "source": [
    "X_train, X_test, y_train, y_test = train_test_split(Xsample, ysample, test_size=0.1, random_state=0)\n",
    "LogReg = LogisticRegression()\n",
    "LogReg.fit(X_train, y_train)\n",
    "y_pred = LogReg.predict(X_test)\n",
    "print('Accuracy of logistic regression classifier on test set: {:.2f}'.format(LogReg.score(X_test, y_test)))"
   ]
  },
  {
   "cell_type": "markdown",
   "metadata": {},
   "source": [
    "Cross validation generalize independent dataset, we use cross-validation to \"train\" our data to avoid overfitting."
   ]
  },
  {
   "cell_type": "code",
   "execution_count": 24,
   "metadata": {},
   "outputs": [
    {
     "name": "stdout",
     "output_type": "stream",
     "text": [
      "10-fold cross validation average accuracy: 0.790\n"
     ]
    }
   ],
   "source": [
    "from sklearn import model_selection\n",
    "from sklearn.model_selection import cross_val_score\n",
    "kfold = model_selection.KFold(n_splits=10, random_state=7)\n",
    "scoring = 'accuracy'\n",
    "results = model_selection.cross_val_score(LogReg, X_train, y_train, cv=kfold, scoring=scoring)\n",
    "print(\"10-fold cross validation average accuracy: %.3f\" % (results.mean()))"
   ]
  },
  {
   "cell_type": "markdown",
   "metadata": {},
   "source": [
    "The 10-flod cross validation have similiar accuracy compared to logistic regression classifier, so we concluded that our model do not have the problem of overfitting. Next, we want to use confusion matix to see how accurate our prediction is."
   ]
  },
  {
   "cell_type": "code",
   "execution_count": 25,
   "metadata": {},
   "outputs": [
    {
     "data": {
      "text/plain": [
       "array([[140,  19],\n",
       "       [ 25,  59]])"
      ]
     },
     "execution_count": 25,
     "metadata": {},
     "output_type": "execute_result"
    }
   ],
   "source": [
    "from sklearn.metrics import confusion_matrix\n",
    "confusion_matrix = confusion_matrix(y_test, y_pred)\n",
    "confusion_matrix"
   ]
  },
  {
   "cell_type": "markdown",
   "metadata": {},
   "source": [
    "The first row in the confusion matrix are samples of acutal non-fatal accidents in the testing set, and the second row are samples of fatal accidents. The first row are number of predicted non-fatal accidents, and the seconed row are number of predicted fatal accidents. <br/>\n",
    "That being said, in the testing set, which consists of 243 samples, out of 159 non-fatal accidents, 140 prediction are correct; out of 84 fatal accidents, 59 predictions are correct. 140+ 59=199 out of 243 of our prediction are right."
   ]
  },
  {
   "cell_type": "code",
   "execution_count": 26,
   "metadata": {},
   "outputs": [
    {
     "name": "stdout",
     "output_type": "stream",
     "text": [
      "             precision    recall  f1-score   support\n",
      "\n",
      "          0       0.85      0.88      0.86       159\n",
      "          1       0.76      0.70      0.73        84\n",
      "\n",
      "avg / total       0.82      0.82      0.82       243\n",
      "\n"
     ]
    }
   ],
   "source": [
    "from sklearn.metrics import classification_report\n",
    "print(classification_report(y_test, y_pred))"
   ]
  },
  {
   "cell_type": "markdown",
   "metadata": {},
   "source": [
    "From the classification report, if the model predicted it is a fatal accident, 82% of the time the prediction is right(precision), and if it is actually a fatal accident, 82% of the time it will predict a accident as a fatal accident(recall).  "
   ]
  },
  {
   "cell_type": "markdown",
   "metadata": {},
   "source": [
    "## Summary\n",
    "Logistic regression are usually used for classification and calculate probabilities of a prediction. Although logistic regression models are simple and often insufficient to fully capture relationships between variables in many predictive modeling tasks, it gives us information about which feature in the regression is significant to the reponse variable.\n",
    "<br>\n",
    "In the following notebooks, we will discuss how the features, which we found is significant in fatal accident, affect traffic safty. In notebook 2, we will use 10 year U.S. fatal accidents from NHTSA, and take out the important features that we obtained from this notebook. In notebook 3&4, we will analyze human error and the enviorment of fatal accidents, and in notebook5, we will analyze the role of alcohol in fatal accidents."
   ]
  }
 ],
 "metadata": {
  "kernelspec": {
   "display_name": "Python [default]",
   "language": "python",
   "name": "python3"
  },
  "language_info": {
   "codemirror_mode": {
    "name": "ipython",
    "version": 3
   },
   "file_extension": ".py",
   "mimetype": "text/x-python",
   "name": "python",
   "nbconvert_exporter": "python",
   "pygments_lexer": "ipython3",
   "version": "3.6.1"
  }
 },
 "nbformat": 4,
 "nbformat_minor": 2
}
