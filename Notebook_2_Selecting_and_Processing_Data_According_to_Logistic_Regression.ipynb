{
 "cells": [
  {
   "cell_type": "code",
   "execution_count": 1,
   "metadata": {
    "collapsed": true
   },
   "outputs": [],
   "source": [
    "%matplotlib inline\n",
    "import matplotlib.pyplot as plt\n",
    "from dbfread import DBF\n",
    "import pandas as pd\n",
    "import numpy as np\n",
    "from pandas import DataFrame\n",
    "import shelve\n",
    "import seaborn as sns\n",
    "plt.style.use('seaborn-dark')\n",
    "plt.rcParams['figure.figsize'] = (10, 6)\n",
    "pd.set_option('display.max_columns', 100)\n",
    "import warnings\n",
    "warnings.filterwarnings('ignore')"
   ]
  },
  {
   "cell_type": "code",
   "execution_count": 1,
   "metadata": {
    "collapsed": true
   },
   "outputs": [],
   "source": [
    "load_ext watermark"
   ]
  },
  {
   "cell_type": "code",
   "execution_count": 4,
   "metadata": {},
   "outputs": [
    {
     "name": "stdout",
     "output_type": "stream",
     "text": [
      "CPython 3.6.1\n",
      "IPython 5.3.0\n",
      "\n",
      "numpy 1.11.2\n",
      "pandas 0.20.1\n",
      "seaborn 0.7.1\n",
      "matplotlib 2.0.2\n",
      "sklearn 0.18.1\n",
      "statsmodels 0.8.0\n",
      "dbfread 2.0.7\n",
      "\n",
      "compiler   : GCC 4.2.1 Compatible Apple LLVM 6.0 (clang-600.0.57)\n",
      "system     : Darwin\n",
      "release    : 17.3.0\n",
      "machine    : x86_64\n",
      "processor  : i386\n",
      "CPU cores  : 8\n",
      "interpreter: 64bit\n"
     ]
    }
   ],
   "source": [
    "watermark -v -m -p numpy,pandas,seaborn,matplotlib,sklearn,statsmodels,dbfread"
   ]
  },
  {
   "cell_type": "markdown",
   "metadata": {},
   "source": [
    "## Load 10 years of related data, from 2007 to 2016"
   ]
  },
  {
   "cell_type": "markdown",
   "metadata": {},
   "source": [
    "We also want to study the mortality rate of fatal accidents. The data element “Fatalities in Vehicle” in the Vehicle data file from the `U.S. Department of Transportation` website provides the number of deaths in a vehicle. Load accidents,vehicle data file which contains mortality rate and person data from 2007 to 2016, add a column of YEAR in each vehicle dataframe. The column name 'latitude' and 'longitud' in accidents07 are different from other dataframes, so we rename these 2 columns to match column names in other dataframes."
   ]
  },
  {
   "cell_type": "code",
   "execution_count": 2,
   "metadata": {
    "collapsed": true
   },
   "outputs": [],
   "source": [
    "vehicle=[]\n",
    "accident=[]\n",
    "#person=[]\n",
    "for i,j in zip(range(2007,2017),range(0,10)):\n",
    "    if i==2015:\n",
    "        vehicle.append(pd.read_csv('data/vehicle/vehicle2015.csv',encoding = \"ISO-8859-1\"))   \n",
    "    else:\n",
    "        vehicle.append(DataFrame(iter(DBF('data/vehicle/vehicle{}.dbf'.format(i)))))\n",
    "    vehicle[j]['YEAR']=i\n",
    "    accident.append(DataFrame(iter(DBF('data/accident/accident{}.dbf'.format(i)))))\n",
    "    if i==2007:\n",
    "        accident[j].rename(columns={'latitude': 'LATITUDE', 'longitud': 'LONGITUD'}, inplace=True)\n",
    "    #person.append(DataFrame(iter(DBF(\"data/person/person{}.dbf\".format(i)))))\n",
    "    #person[j]['YEAR']=i\n",
    "all_accidents =pd.concat(accident, axis=0,join='inner')\n",
    "all_vehicle=pd.concat(vehicle, axis=0,join='inner')\n",
    "#all_person =pd.concat(person, axis=0,join='inner')"
   ]
  },
  {
   "cell_type": "markdown",
   "metadata": {},
   "source": [
    "First, we want to combine accidents10 ~ accidents16 to one dataframe. Since not all of the accident data downloaded from the U.S. Department of Transportation have the same features, by using the `jion:inner` option in `pd.concat` function, we can get the intersection of features."
   ]
  },
  {
   "cell_type": "markdown",
   "metadata": {},
   "source": [
    "The allaccidents table recorded 320874 accidents from 2010-2016, and it has 42 features. Here are the meaning of some of the features according to the `FARS Analytical User’s Manual`.\n",
    "\n",
    "### Explaination of variables\n",
    "*VE_TOTAL*: Number of Vehicle in crash <br/>\n",
    "*VE_FORMS*: Number of Motor Vehicles in Transport (MVIT) <br/>\n",
    "*PED*: Number of Persons Not in Motor Vehicles <br/>\n",
    "*NHS*: National Highway System<br/>\n",
    "*ROUTE*: Route Signing <br/>\n",
    "*SP_JUR*: Special Jurisdiction <br/>\n",
    "*HARM_EV*: First Harmful Event<br/>\n",
    "*TWAY_ID , TWAY_ID2* : Trafficway Identifier <br/>\n",
    "*MILEPT*: Milepoint <br/>\n",
    "*SP_JUR*: Special Jurisdiction<br/>\n",
    "*HARM_EV*: injury or damage producing First Harmful Event <br/> \n",
    "*MAN_COLL*:Manner of Collision  <br/> \n",
    "*RELJCT1, RELJCT2*: Relation to Junction- Within Interchange Area, Specific Location. <br/>\n",
    "*TYP_INT*: Type of Intersection <br/>\n",
    "*REL_ROAD*: Relation to Trafficway <br/>\n",
    "*LGT_COND*: Light Condition<br/> \n",
    "*NOT_HOUR,MIN*: Min, Hour of Notification <br/>\n",
    "*ARR_HOUR,MIN*: Hour, Min arrival at scene <br/>\n",
    "*HOSP_HR,MIN*: Hour, Min arrival at hospital <br/>\n",
    "*CF1, CF2, CF3*:Related Factors- Crash Level, factors related to the crash <br/>\n",
    "*FATALS*: Fatalities<br/>\n",
    "*DRUNK_DR*: Number of Drinking Drivers<br/> \n",
    "*RAIL*: Rail Grade Crossing Identifier<br/>\n",
    "\n",
    "For more detailed information, please refer to `FARS Analytical User’s Manual`."
   ]
  },
  {
   "cell_type": "markdown",
   "metadata": {},
   "source": [
    "## Select variables and rename variables\n",
    "Observed from the table above, some of the variables in the table are not very readable. Therefore, in order to make it easier to understand the variables,we renamed some of the variables according to `FARS Analytical User’s Manual`  downloaded from the  `U.S. Department of Transportation`  website. In order to make all column values informative, we selected important column variables from allaccidents, replace numerical number to meaningful character description according to `FARS Analytical User’s Manual`"
   ]
  },
  {
   "cell_type": "markdown",
   "metadata": {},
   "source": [
    " in order to make those dataframe more informative, we replace some columns value by some functions that we have defined."
   ]
  },
  {
   "cell_type": "code",
   "execution_count": 3,
   "metadata": {
    "collapsed": true
   },
   "outputs": [],
   "source": [
    "import calendar\n",
    "def change_body_type_value(x):\n",
    "    if x<20: \n",
    "        return 'Sedan'\n",
    "    elif 20<x<30:\n",
    "        return 'Van'\n",
    "    elif 30<x<70:\n",
    "        return 'Truck'\n",
    "    elif x>70:\n",
    "        return 'Motor'\n",
    "def change_month(x):\n",
    "    for i in range(1,13):\n",
    "        if x==i:\n",
    "            return calendar.month_name[i]\n",
    "def change_light_condition(x):\n",
    "    if x==1:\n",
    "        return 'Daylight'\n",
    "    if x in [2,3,6]:\n",
    "        return 'Dark'\n",
    "    if x==4:\n",
    "        return 'Dawn'\n",
    "    if x==5:\n",
    "        return 'Dusk'\n",
    "    if x in [8,9]:\n",
    "        return 'Not report'\n",
    "    else:\n",
    "        return 'Other'"
   ]
  },
  {
   "cell_type": "code",
   "execution_count": 4,
   "metadata": {
    "collapsed": true
   },
   "outputs": [],
   "source": [
    "accidents = all_accidents[['YEAR','ST_CASE','STATE','VE_TOTAL','FATALS','MONTH','DAY_WEEK','HOUR','NHS','LATITUDE','LONGITUD','MAN_COLL','LGT_COND','WEATHER','CF1','DRUNK_DR']]\n",
    "accidents.rename(columns={'ST_CASE':'CASE_NUM','VE_TOTAL':'NUM_VEHICLE','NHS': 'HIGHWAY', 'MAN_COLL': 'COLLISION_TYPE','LGT_COND':'LIGHT_CONDITION','CF1':'CRASH_FACTOR','DRUNK_DR':'DRUNK_DRIVE'}, inplace=True)\n",
    "accidents['DAY_WEEK']= accidents['DAY_WEEK'].map({1.0:'Sunday',2.0:'Monday', 3.0:'Tuesday', 4.0: 'Wednesday', 5.0:'Thursday', 6.0:'Friday', 7.0:'Saturday'})\n",
    "accidents['HIGHWAY'] = accidents['HIGHWAY'].map({1.0:'On',0.0:'Off',9.0:'Unknow'})\n",
    "accidents['COLLISION_TYPE'] = accidents['COLLISION_TYPE'].map({0.0:'Not Collision',1.0:'Rear-End',2.0:'Head-On',3.0:'Rear-to-Rear',4.0:'Angle',5.0:'Sideswipe, Same Direction',6.0:'Sideswipe, Opposite Direction',7.0:'Sideswipe, Unknown Direction',9.0:'Unknown'})\n",
    "accidents['WEATHER'] = accidents['WEATHER'].map({0.0:'Normal',1.0:'Clear',2.0:'Rain', 3.0: 'Sleet,Hail', 4.0:'Snow', 5.0:'Fog, Smog, Smoke',6.0:'Severe Crosswinds',7.0:'Blowing Sand, Soil, Dirt',8.0:'other',10.0:'Cloudy',11.0:'Blowing Snow',12.0:'Freezing Rain or Drizzle',98.0:'Not Reported', 99.0:'Unkown' })\n",
    "accidents['MONTH']=accidents['MONTH'].apply(change_month)\n",
    "accidents['LIGHT_CONDITION']=accidents['LIGHT_CONDITION'].apply(change_light_condition)"
   ]
  },
  {
   "cell_type": "code",
   "execution_count": 5,
   "metadata": {
    "collapsed": true
   },
   "outputs": [],
   "source": [
    "vehicles = all_vehicle[['STATE','YEAR','ST_CASE','TRAV_SP','ROLLOVER','FIRE_EXP','BODY_TYP','DEATHS','DR_DRINK']]\n",
    "vehicles['BODY_TYP']=vehicles['BODY_TYP'].apply(change_body_type_value)\n",
    "vehicles.rename(columns={'ST_CASE':'CASE_NUM','TRAV_SP':'SPEED','FIRE_EXP': 'FIRE','SPEEDREL':'SPEEDING','DR_DRINK':'DRINKING_INDICATOR'}, inplace=True)"
   ]
  },
  {
   "cell_type": "markdown",
   "metadata": {},
   "source": [
    "combine \"year\" and \"case_num\" to reindex accidents dataframe."
   ]
  },
  {
   "cell_type": "code",
   "execution_count": 6,
   "metadata": {
    "collapsed": true
   },
   "outputs": [],
   "source": [
    "def make_index(df):\n",
    "    df['STATE']=df['STATE'].astype(int)\n",
    "    df['CASE_NUM']=df['CASE_NUM'].astype(int)\n",
    "    df['YEAR']=df['YEAR'].astype(int)\n",
    "    df.index = list(df['YEAR'].astype(str) + df['CASE_NUM'].astype(str))"
   ]
  },
  {
   "cell_type": "code",
   "execution_count": 7,
   "metadata": {
    "collapsed": true
   },
   "outputs": [],
   "source": [
    "df=[accidents,vehicles]\n",
    "for s in df:\n",
    "    make_index(s) "
   ]
  },
  {
   "cell_type": "markdown",
   "metadata": {},
   "source": [
    "take a look at important variables"
   ]
  },
  {
   "cell_type": "code",
   "execution_count": 8,
   "metadata": {},
   "outputs": [
    {
     "data": {
      "text/html": [
       "<div>\n",
       "<style scoped>\n",
       "    .dataframe tbody tr th:only-of-type {\n",
       "        vertical-align: middle;\n",
       "    }\n",
       "\n",
       "    .dataframe tbody tr th {\n",
       "        vertical-align: top;\n",
       "    }\n",
       "\n",
       "    .dataframe thead th {\n",
       "        text-align: right;\n",
       "    }\n",
       "</style>\n",
       "<table border=\"1\" class=\"dataframe\">\n",
       "  <thead>\n",
       "    <tr style=\"text-align: right;\">\n",
       "      <th></th>\n",
       "      <th>YEAR</th>\n",
       "      <th>CASE_NUM</th>\n",
       "      <th>STATE</th>\n",
       "      <th>NUM_VEHICLE</th>\n",
       "      <th>FATALS</th>\n",
       "      <th>MONTH</th>\n",
       "      <th>DAY_WEEK</th>\n",
       "      <th>HOUR</th>\n",
       "      <th>HIGHWAY</th>\n",
       "      <th>LATITUDE</th>\n",
       "      <th>LONGITUD</th>\n",
       "      <th>COLLISION_TYPE</th>\n",
       "      <th>LIGHT_CONDITION</th>\n",
       "      <th>WEATHER</th>\n",
       "      <th>CRASH_FACTOR</th>\n",
       "      <th>DRUNK_DRIVE</th>\n",
       "    </tr>\n",
       "  </thead>\n",
       "  <tbody>\n",
       "    <tr>\n",
       "      <th>200710001</th>\n",
       "      <td>2007</td>\n",
       "      <td>10001</td>\n",
       "      <td>1</td>\n",
       "      <td>1.0</td>\n",
       "      <td>1.0</td>\n",
       "      <td>January</td>\n",
       "      <td>Tuesday</td>\n",
       "      <td>23.0</td>\n",
       "      <td>Off</td>\n",
       "      <td>33.455839</td>\n",
       "      <td>-87.017928</td>\n",
       "      <td>Not Collision</td>\n",
       "      <td>Dark</td>\n",
       "      <td>Clear</td>\n",
       "      <td>0.0</td>\n",
       "      <td>0.0</td>\n",
       "    </tr>\n",
       "    <tr>\n",
       "      <th>200710002</th>\n",
       "      <td>2007</td>\n",
       "      <td>10002</td>\n",
       "      <td>1</td>\n",
       "      <td>3.0</td>\n",
       "      <td>2.0</td>\n",
       "      <td>January</td>\n",
       "      <td>Tuesday</td>\n",
       "      <td>13.0</td>\n",
       "      <td>Off</td>\n",
       "      <td>34.160597</td>\n",
       "      <td>-85.678075</td>\n",
       "      <td>Sideswipe, Same Direction</td>\n",
       "      <td>Daylight</td>\n",
       "      <td>Clear</td>\n",
       "      <td>0.0</td>\n",
       "      <td>0.0</td>\n",
       "    </tr>\n",
       "    <tr>\n",
       "      <th>200710003</th>\n",
       "      <td>2007</td>\n",
       "      <td>10003</td>\n",
       "      <td>1</td>\n",
       "      <td>2.0</td>\n",
       "      <td>1.0</td>\n",
       "      <td>January</td>\n",
       "      <td>Sunday</td>\n",
       "      <td>12.0</td>\n",
       "      <td>Off</td>\n",
       "      <td>33.975717</td>\n",
       "      <td>-86.496347</td>\n",
       "      <td>Sideswipe, Unknown Direction</td>\n",
       "      <td>Daylight</td>\n",
       "      <td>Clear</td>\n",
       "      <td>0.0</td>\n",
       "      <td>0.0</td>\n",
       "    </tr>\n",
       "    <tr>\n",
       "      <th>200710004</th>\n",
       "      <td>2007</td>\n",
       "      <td>10004</td>\n",
       "      <td>1</td>\n",
       "      <td>2.0</td>\n",
       "      <td>1.0</td>\n",
       "      <td>January</td>\n",
       "      <td>Monday</td>\n",
       "      <td>15.0</td>\n",
       "      <td>On</td>\n",
       "      <td>33.853258</td>\n",
       "      <td>-85.915622</td>\n",
       "      <td>Angle</td>\n",
       "      <td>Daylight</td>\n",
       "      <td>Clear</td>\n",
       "      <td>0.0</td>\n",
       "      <td>0.0</td>\n",
       "    </tr>\n",
       "    <tr>\n",
       "      <th>200710005</th>\n",
       "      <td>2007</td>\n",
       "      <td>10005</td>\n",
       "      <td>1</td>\n",
       "      <td>2.0</td>\n",
       "      <td>1.0</td>\n",
       "      <td>January</td>\n",
       "      <td>Saturday</td>\n",
       "      <td>19.0</td>\n",
       "      <td>Off</td>\n",
       "      <td>32.488833</td>\n",
       "      <td>-86.408936</td>\n",
       "      <td>Sideswipe, Same Direction</td>\n",
       "      <td>Dark</td>\n",
       "      <td>Clear</td>\n",
       "      <td>0.0</td>\n",
       "      <td>0.0</td>\n",
       "    </tr>\n",
       "  </tbody>\n",
       "</table>\n",
       "</div>"
      ],
      "text/plain": [
       "           YEAR  CASE_NUM  STATE  NUM_VEHICLE  FATALS    MONTH  DAY_WEEK  \\\n",
       "200710001  2007     10001      1          1.0     1.0  January   Tuesday   \n",
       "200710002  2007     10002      1          3.0     2.0  January   Tuesday   \n",
       "200710003  2007     10003      1          2.0     1.0  January    Sunday   \n",
       "200710004  2007     10004      1          2.0     1.0  January    Monday   \n",
       "200710005  2007     10005      1          2.0     1.0  January  Saturday   \n",
       "\n",
       "           HOUR HIGHWAY   LATITUDE   LONGITUD                COLLISION_TYPE  \\\n",
       "200710001  23.0     Off  33.455839 -87.017928                 Not Collision   \n",
       "200710002  13.0     Off  34.160597 -85.678075     Sideswipe, Same Direction   \n",
       "200710003  12.0     Off  33.975717 -86.496347  Sideswipe, Unknown Direction   \n",
       "200710004  15.0      On  33.853258 -85.915622                         Angle   \n",
       "200710005  19.0     Off  32.488833 -86.408936     Sideswipe, Same Direction   \n",
       "\n",
       "          LIGHT_CONDITION WEATHER  CRASH_FACTOR  DRUNK_DRIVE  \n",
       "200710001            Dark   Clear           0.0          0.0  \n",
       "200710002        Daylight   Clear           0.0          0.0  \n",
       "200710003        Daylight   Clear           0.0          0.0  \n",
       "200710004        Daylight   Clear           0.0          0.0  \n",
       "200710005            Dark   Clear           0.0          0.0  "
      ]
     },
     "execution_count": 8,
     "metadata": {},
     "output_type": "execute_result"
    }
   ],
   "source": [
    "accidents.head()"
   ]
  },
  {
   "cell_type": "code",
   "execution_count": 9,
   "metadata": {},
   "outputs": [
    {
     "data": {
      "text/plain": [
       "(320874, 16)"
      ]
     },
     "execution_count": 9,
     "metadata": {},
     "output_type": "execute_result"
    }
   ],
   "source": [
    "accidents.shape"
   ]
  },
  {
   "cell_type": "code",
   "execution_count": 10,
   "metadata": {},
   "outputs": [
    {
     "data": {
      "text/html": [
       "<div>\n",
       "<style scoped>\n",
       "    .dataframe tbody tr th:only-of-type {\n",
       "        vertical-align: middle;\n",
       "    }\n",
       "\n",
       "    .dataframe tbody tr th {\n",
       "        vertical-align: top;\n",
       "    }\n",
       "\n",
       "    .dataframe thead th {\n",
       "        text-align: right;\n",
       "    }\n",
       "</style>\n",
       "<table border=\"1\" class=\"dataframe\">\n",
       "  <thead>\n",
       "    <tr style=\"text-align: right;\">\n",
       "      <th></th>\n",
       "      <th>STATE</th>\n",
       "      <th>YEAR</th>\n",
       "      <th>CASE_NUM</th>\n",
       "      <th>SPEED</th>\n",
       "      <th>ROLLOVER</th>\n",
       "      <th>FIRE</th>\n",
       "      <th>BODY_TYP</th>\n",
       "      <th>DEATHS</th>\n",
       "      <th>DRINKING_INDICATOR</th>\n",
       "    </tr>\n",
       "  </thead>\n",
       "  <tbody>\n",
       "    <tr>\n",
       "      <th>200710001</th>\n",
       "      <td>1</td>\n",
       "      <td>2007</td>\n",
       "      <td>10001</td>\n",
       "      <td>65.0</td>\n",
       "      <td>0.0</td>\n",
       "      <td>0.0</td>\n",
       "      <td>Sedan</td>\n",
       "      <td>1.0</td>\n",
       "      <td>0.0</td>\n",
       "    </tr>\n",
       "    <tr>\n",
       "      <th>200710002</th>\n",
       "      <td>1</td>\n",
       "      <td>2007</td>\n",
       "      <td>10002</td>\n",
       "      <td>10.0</td>\n",
       "      <td>0.0</td>\n",
       "      <td>0.0</td>\n",
       "      <td>Sedan</td>\n",
       "      <td>0.0</td>\n",
       "      <td>0.0</td>\n",
       "    </tr>\n",
       "    <tr>\n",
       "      <th>200710002</th>\n",
       "      <td>1</td>\n",
       "      <td>2007</td>\n",
       "      <td>10002</td>\n",
       "      <td>55.0</td>\n",
       "      <td>0.0</td>\n",
       "      <td>0.0</td>\n",
       "      <td>Sedan</td>\n",
       "      <td>2.0</td>\n",
       "      <td>0.0</td>\n",
       "    </tr>\n",
       "    <tr>\n",
       "      <th>200710002</th>\n",
       "      <td>1</td>\n",
       "      <td>2007</td>\n",
       "      <td>10002</td>\n",
       "      <td>55.0</td>\n",
       "      <td>0.0</td>\n",
       "      <td>0.0</td>\n",
       "      <td>Truck</td>\n",
       "      <td>0.0</td>\n",
       "      <td>0.0</td>\n",
       "    </tr>\n",
       "    <tr>\n",
       "      <th>200710003</th>\n",
       "      <td>1</td>\n",
       "      <td>2007</td>\n",
       "      <td>10003</td>\n",
       "      <td>55.0</td>\n",
       "      <td>0.0</td>\n",
       "      <td>0.0</td>\n",
       "      <td>Sedan</td>\n",
       "      <td>0.0</td>\n",
       "      <td>0.0</td>\n",
       "    </tr>\n",
       "  </tbody>\n",
       "</table>\n",
       "</div>"
      ],
      "text/plain": [
       "           STATE  YEAR  CASE_NUM  SPEED  ROLLOVER  FIRE BODY_TYP  DEATHS  \\\n",
       "200710001      1  2007     10001   65.0       0.0   0.0    Sedan     1.0   \n",
       "200710002      1  2007     10002   10.0       0.0   0.0    Sedan     0.0   \n",
       "200710002      1  2007     10002   55.0       0.0   0.0    Sedan     2.0   \n",
       "200710002      1  2007     10002   55.0       0.0   0.0    Truck     0.0   \n",
       "200710003      1  2007     10003   55.0       0.0   0.0    Sedan     0.0   \n",
       "\n",
       "           DRINKING_INDICATOR  \n",
       "200710001                 0.0  \n",
       "200710002                 0.0  \n",
       "200710002                 0.0  \n",
       "200710002                 0.0  \n",
       "200710003                 0.0  "
      ]
     },
     "execution_count": 10,
     "metadata": {},
     "output_type": "execute_result"
    }
   ],
   "source": [
    "vehicles.head()"
   ]
  },
  {
   "cell_type": "code",
   "execution_count": 11,
   "metadata": {},
   "outputs": [
    {
     "data": {
      "text/plain": [
       "(479153, 9)"
      ]
     },
     "execution_count": 11,
     "metadata": {},
     "output_type": "execute_result"
    }
   ],
   "source": [
    "vehicles.shape"
   ]
  },
  {
   "cell_type": "code",
   "execution_count": 12,
   "metadata": {
    "collapsed": true
   },
   "outputs": [],
   "source": [
    "#store important dataframe\n",
    "#because the person dataframe has exceeded 600mb, so I split it to 10 part to store.\n",
    "accidents.to_hdf('results/accidents.h5', 'accidents')\n",
    "vehicles.to_hdf('results/vehicles.h5', 'vehicles')\n",
    "#person.to_hdf('results/person.h5', 'person')\n",
    "accidents16=accident[-1]\n",
    "accidents15=accident[-2]\n",
    "accidents16.to_hdf('results/accidents16.h5', 'accidents16')\n",
    "accidents15.to_hdf('results/accidents15.h5', 'accidents15')"
   ]
  },
  {
   "cell_type": "code",
   "execution_count": null,
   "metadata": {
    "collapsed": true
   },
   "outputs": [],
   "source": []
  }
 ],
 "metadata": {
  "kernelspec": {
   "display_name": "Python [default]",
   "language": "python",
   "name": "python3"
  },
  "language_info": {
   "codemirror_mode": {
    "name": "ipython",
    "version": 3
   },
   "file_extension": ".py",
   "mimetype": "text/x-python",
   "name": "python",
   "nbconvert_exporter": "python",
   "pygments_lexer": "ipython3",
   "version": "3.6.1"
  }
 },
 "nbformat": 4,
 "nbformat_minor": 2
}
