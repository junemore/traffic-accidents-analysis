{
 "cells": [
  {
   "cell_type": "markdown",
   "metadata": {},
   "source": [
    "analysis factors of traffic accidents"
   ]
  },
  {
   "cell_type": "code",
   "execution_count": 5,
   "metadata": {
    "collapsed": true
   },
   "outputs": [],
   "source": [
    "# -*- coding: utf-8 -*- \n",
    "%matplotlib inline\n",
    "import matplotlib.pyplot as plt\n",
    "import numpy as np\n",
    "import pandas as pd\n",
    "from pandas import *\n",
    "import seaborn as sns\n",
    "from dbfread import DBF\n",
    "import shelve\n",
    "import warnings\n",
    "warnings.filterwarnings('ignore')\n",
    "\n",
    "plt.style.use('seaborn-dark')\n",
    "plt.rcParams['figure.figsize'] = (10, 6)"
   ]
  },
  {
   "cell_type": "code",
   "execution_count": 2,
   "metadata": {
    "collapsed": true
   },
   "outputs": [],
   "source": [
    "accidents=pd.read_hdf('results/accidents.h5', 'accidents')\n",
    "vehicles=pd.read_hdf('results/vehicles.h5', 'vehicles')"
   ]
  },
  {
   "cell_type": "code",
   "execution_count": 3,
   "metadata": {
    "collapsed": true
   },
   "outputs": [],
   "source": [
    "person=[]\n",
    "for i,j in zip(range(2007,2017),range(0,10)):\n",
    "    person.append(DataFrame(iter(DBF(\"data/person/person{}.dbf\".format(i)))))\n",
    "    person[j]['YEAR']=i\n",
    "all_person =pd.concat(person, axis=0,join='inner')\n",
    "person=all_person[['AGE','SEX','DEATH_YR','ST_CASE','STATE','YEAR']]\n",
    "person.rename(columns={'ST_CASE':'CASE_NUM'},inplace=True)\n",
    "def make_index(df):\n",
    "    df['STATE']=df['STATE'].astype(int)\n",
    "    df['CASE_NUM']=df['CASE_NUM'].astype(int)\n",
    "    df['YEAR']=df['YEAR'].astype(int)\n",
    "    df.index = list(df['YEAR'].astype(str) + df['CASE_NUM'].astype(str))\n",
    "person=make_index(person)"
   ]
  },
  {
   "cell_type": "code",
   "execution_count": 4,
   "metadata": {},
   "outputs": [
    {
     "data": {
      "text/html": [
       "<div>\n",
       "<style scoped>\n",
       "    .dataframe tbody tr th:only-of-type {\n",
       "        vertical-align: middle;\n",
       "    }\n",
       "\n",
       "    .dataframe tbody tr th {\n",
       "        vertical-align: top;\n",
       "    }\n",
       "\n",
       "    .dataframe thead th {\n",
       "        text-align: right;\n",
       "    }\n",
       "</style>\n",
       "<table border=\"1\" class=\"dataframe\">\n",
       "  <thead>\n",
       "    <tr style=\"text-align: right;\">\n",
       "      <th></th>\n",
       "      <th>STATE</th>\n",
       "      <th>YEAR</th>\n",
       "      <th>CASE_NUM</th>\n",
       "      <th>SPEED</th>\n",
       "      <th>ROLLOVER</th>\n",
       "      <th>FIRE</th>\n",
       "      <th>BODY_TYP</th>\n",
       "      <th>DEATHS</th>\n",
       "      <th>DRINKING_INDICATOR</th>\n",
       "    </tr>\n",
       "  </thead>\n",
       "  <tbody>\n",
       "    <tr>\n",
       "      <th>200710001</th>\n",
       "      <td>1</td>\n",
       "      <td>2007</td>\n",
       "      <td>10001</td>\n",
       "      <td>65.0</td>\n",
       "      <td>0.0</td>\n",
       "      <td>0.0</td>\n",
       "      <td>Sedan</td>\n",
       "      <td>1.0</td>\n",
       "      <td>0.0</td>\n",
       "    </tr>\n",
       "    <tr>\n",
       "      <th>200710002</th>\n",
       "      <td>1</td>\n",
       "      <td>2007</td>\n",
       "      <td>10002</td>\n",
       "      <td>10.0</td>\n",
       "      <td>0.0</td>\n",
       "      <td>0.0</td>\n",
       "      <td>Sedan</td>\n",
       "      <td>0.0</td>\n",
       "      <td>0.0</td>\n",
       "    </tr>\n",
       "    <tr>\n",
       "      <th>200710002</th>\n",
       "      <td>1</td>\n",
       "      <td>2007</td>\n",
       "      <td>10002</td>\n",
       "      <td>55.0</td>\n",
       "      <td>0.0</td>\n",
       "      <td>0.0</td>\n",
       "      <td>Sedan</td>\n",
       "      <td>2.0</td>\n",
       "      <td>0.0</td>\n",
       "    </tr>\n",
       "    <tr>\n",
       "      <th>200710002</th>\n",
       "      <td>1</td>\n",
       "      <td>2007</td>\n",
       "      <td>10002</td>\n",
       "      <td>55.0</td>\n",
       "      <td>0.0</td>\n",
       "      <td>0.0</td>\n",
       "      <td>Truck</td>\n",
       "      <td>0.0</td>\n",
       "      <td>0.0</td>\n",
       "    </tr>\n",
       "    <tr>\n",
       "      <th>200710003</th>\n",
       "      <td>1</td>\n",
       "      <td>2007</td>\n",
       "      <td>10003</td>\n",
       "      <td>55.0</td>\n",
       "      <td>0.0</td>\n",
       "      <td>0.0</td>\n",
       "      <td>Sedan</td>\n",
       "      <td>0.0</td>\n",
       "      <td>0.0</td>\n",
       "    </tr>\n",
       "  </tbody>\n",
       "</table>\n",
       "</div>"
      ],
      "text/plain": [
       "           STATE  YEAR  CASE_NUM  SPEED  ROLLOVER  FIRE BODY_TYP  DEATHS  \\\n",
       "200710001      1  2007     10001   65.0       0.0   0.0    Sedan     1.0   \n",
       "200710002      1  2007     10002   10.0       0.0   0.0    Sedan     0.0   \n",
       "200710002      1  2007     10002   55.0       0.0   0.0    Sedan     2.0   \n",
       "200710002      1  2007     10002   55.0       0.0   0.0    Truck     0.0   \n",
       "200710003      1  2007     10003   55.0       0.0   0.0    Sedan     0.0   \n",
       "\n",
       "           DRINKING_INDICATOR  \n",
       "200710001                 0.0  \n",
       "200710002                 0.0  \n",
       "200710002                 0.0  \n",
       "200710002                 0.0  \n",
       "200710003                 0.0  "
      ]
     },
     "execution_count": 4,
     "metadata": {},
     "output_type": "execute_result"
    }
   ],
   "source": [
    "vehicles.head()"
   ]
  },
  {
   "cell_type": "code",
   "execution_count": 4,
   "metadata": {},
   "outputs": [
    {
     "data": {
      "text/html": [
       "<div>\n",
       "<style scoped>\n",
       "    .dataframe tbody tr th:only-of-type {\n",
       "        vertical-align: middle;\n",
       "    }\n",
       "\n",
       "    .dataframe tbody tr th {\n",
       "        vertical-align: top;\n",
       "    }\n",
       "\n",
       "    .dataframe thead th {\n",
       "        text-align: right;\n",
       "    }\n",
       "</style>\n",
       "<table border=\"1\" class=\"dataframe\">\n",
       "  <thead>\n",
       "    <tr style=\"text-align: right;\">\n",
       "      <th></th>\n",
       "      <th>YEAR</th>\n",
       "      <th>CASE_NUM</th>\n",
       "      <th>STATE</th>\n",
       "      <th>NUM_VEHICLE</th>\n",
       "      <th>FATALS</th>\n",
       "      <th>MONTH</th>\n",
       "      <th>DAY_WEEK</th>\n",
       "      <th>HOUR</th>\n",
       "      <th>HIGHWAY</th>\n",
       "      <th>LATITUDE</th>\n",
       "      <th>LONGITUD</th>\n",
       "      <th>COLLISION_TYPE</th>\n",
       "      <th>LIGHT_CONDITION</th>\n",
       "      <th>WEATHER</th>\n",
       "      <th>CRASH_FACTOR</th>\n",
       "      <th>DRUNK_DRIVE</th>\n",
       "      <th>AGE</th>\n",
       "      <th>SEX</th>\n",
       "      <th>RACE</th>\n",
       "    </tr>\n",
       "  </thead>\n",
       "  <tbody>\n",
       "    <tr>\n",
       "      <th>0</th>\n",
       "      <td>2007</td>\n",
       "      <td>10001</td>\n",
       "      <td>1</td>\n",
       "      <td>1.0</td>\n",
       "      <td>1.0</td>\n",
       "      <td>January</td>\n",
       "      <td>Tuesday</td>\n",
       "      <td>23.0</td>\n",
       "      <td>Off</td>\n",
       "      <td>33.455839</td>\n",
       "      <td>-87.017928</td>\n",
       "      <td>Not Collision</td>\n",
       "      <td>Dark</td>\n",
       "      <td>Clear</td>\n",
       "      <td>0.0</td>\n",
       "      <td>0.0</td>\n",
       "      <td>26.0</td>\n",
       "      <td>1.0</td>\n",
       "      <td>1.0</td>\n",
       "    </tr>\n",
       "    <tr>\n",
       "      <th>1</th>\n",
       "      <td>2007</td>\n",
       "      <td>10002</td>\n",
       "      <td>1</td>\n",
       "      <td>3.0</td>\n",
       "      <td>2.0</td>\n",
       "      <td>January</td>\n",
       "      <td>Tuesday</td>\n",
       "      <td>13.0</td>\n",
       "      <td>Off</td>\n",
       "      <td>34.160597</td>\n",
       "      <td>-85.678075</td>\n",
       "      <td>Sideswipe, Same Direction</td>\n",
       "      <td>Daylight</td>\n",
       "      <td>Clear</td>\n",
       "      <td>0.0</td>\n",
       "      <td>0.0</td>\n",
       "      <td>54.0</td>\n",
       "      <td>2.0</td>\n",
       "      <td>0.0</td>\n",
       "    </tr>\n",
       "    <tr>\n",
       "      <th>2</th>\n",
       "      <td>2007</td>\n",
       "      <td>10002</td>\n",
       "      <td>1</td>\n",
       "      <td>3.0</td>\n",
       "      <td>2.0</td>\n",
       "      <td>January</td>\n",
       "      <td>Tuesday</td>\n",
       "      <td>13.0</td>\n",
       "      <td>Off</td>\n",
       "      <td>34.160597</td>\n",
       "      <td>-85.678075</td>\n",
       "      <td>Sideswipe, Same Direction</td>\n",
       "      <td>Daylight</td>\n",
       "      <td>Clear</td>\n",
       "      <td>0.0</td>\n",
       "      <td>0.0</td>\n",
       "      <td>68.0</td>\n",
       "      <td>1.0</td>\n",
       "      <td>1.0</td>\n",
       "    </tr>\n",
       "    <tr>\n",
       "      <th>3</th>\n",
       "      <td>2007</td>\n",
       "      <td>10002</td>\n",
       "      <td>1</td>\n",
       "      <td>3.0</td>\n",
       "      <td>2.0</td>\n",
       "      <td>January</td>\n",
       "      <td>Tuesday</td>\n",
       "      <td>13.0</td>\n",
       "      <td>Off</td>\n",
       "      <td>34.160597</td>\n",
       "      <td>-85.678075</td>\n",
       "      <td>Sideswipe, Same Direction</td>\n",
       "      <td>Daylight</td>\n",
       "      <td>Clear</td>\n",
       "      <td>0.0</td>\n",
       "      <td>0.0</td>\n",
       "      <td>59.0</td>\n",
       "      <td>1.0</td>\n",
       "      <td>1.0</td>\n",
       "    </tr>\n",
       "    <tr>\n",
       "      <th>4</th>\n",
       "      <td>2007</td>\n",
       "      <td>10002</td>\n",
       "      <td>1</td>\n",
       "      <td>3.0</td>\n",
       "      <td>2.0</td>\n",
       "      <td>January</td>\n",
       "      <td>Tuesday</td>\n",
       "      <td>13.0</td>\n",
       "      <td>Off</td>\n",
       "      <td>34.160597</td>\n",
       "      <td>-85.678075</td>\n",
       "      <td>Sideswipe, Same Direction</td>\n",
       "      <td>Daylight</td>\n",
       "      <td>Clear</td>\n",
       "      <td>0.0</td>\n",
       "      <td>0.0</td>\n",
       "      <td>69.0</td>\n",
       "      <td>1.0</td>\n",
       "      <td>0.0</td>\n",
       "    </tr>\n",
       "  </tbody>\n",
       "</table>\n",
       "</div>"
      ],
      "text/plain": [
       "   YEAR  CASE_NUM  STATE  NUM_VEHICLE  FATALS    MONTH DAY_WEEK  HOUR HIGHWAY  \\\n",
       "0  2007     10001      1          1.0     1.0  January  Tuesday  23.0     Off   \n",
       "1  2007     10002      1          3.0     2.0  January  Tuesday  13.0     Off   \n",
       "2  2007     10002      1          3.0     2.0  January  Tuesday  13.0     Off   \n",
       "3  2007     10002      1          3.0     2.0  January  Tuesday  13.0     Off   \n",
       "4  2007     10002      1          3.0     2.0  January  Tuesday  13.0     Off   \n",
       "\n",
       "    LATITUDE   LONGITUD             COLLISION_TYPE LIGHT_CONDITION WEATHER  \\\n",
       "0  33.455839 -87.017928              Not Collision            Dark   Clear   \n",
       "1  34.160597 -85.678075  Sideswipe, Same Direction        Daylight   Clear   \n",
       "2  34.160597 -85.678075  Sideswipe, Same Direction        Daylight   Clear   \n",
       "3  34.160597 -85.678075  Sideswipe, Same Direction        Daylight   Clear   \n",
       "4  34.160597 -85.678075  Sideswipe, Same Direction        Daylight   Clear   \n",
       "\n",
       "   CRASH_FACTOR  DRUNK_DRIVE   AGE  SEX  RACE  \n",
       "0           0.0          0.0  26.0  1.0   1.0  \n",
       "1           0.0          0.0  54.0  2.0   0.0  \n",
       "2           0.0          0.0  68.0  1.0   1.0  \n",
       "3           0.0          0.0  59.0  1.0   1.0  \n",
       "4           0.0          0.0  69.0  1.0   0.0  "
      ]
     },
     "execution_count": 4,
     "metadata": {},
     "output_type": "execute_result"
    }
   ],
   "source": [
    "fatal_crashs_all = pd.merge(accidents, person, how='inner',on=('STATE', 'YEAR','CASE_NUM'))\n",
    "fatal_crashs_all.head()"
   ]
  },
  {
   "cell_type": "code",
   "execution_count": 5,
   "metadata": {
    "collapsed": true
   },
   "outputs": [],
   "source": [
    "#the total accidents number each year, analysis the difference between every year\n",
    "year_acci=accidents[['YEAR','CASE_NUM']].groupby('YEAR').count()\n",
    "month_acci=accidents[['MONTH','CASE_NUM']].groupby('MONTH').count()\n",
    "day_acci=accidents[['DAY_WEEK','CASE_NUM']].groupby('DAY_WEEK').count()\n",
    "hour_acci=accidents[['HOUR','CASE_NUM']].groupby('HOUR').count()\n",
    "hour_acci=hour_acci.drop(hour_acci.index[-1])\n",
    "hour_acci.iloc[0]=hour_acci.iloc[0]+hour_acci.iloc[-1]\n",
    "hour_acci=hour_acci.drop(hour_acci.index[-1])\n",
    "day_acci.index = pd.CategoricalIndex(day_acci.index, \n",
    "                               categories=['Monday', 'Tuesday', 'Wednesday', 'Thursday','Friday','Saturday', 'Sunday'], \n",
    "                               sorted=True)\n",
    "day_acci = day_acci.sort_index()\n",
    "month_acci.index=pd.CategoricalIndex(month_acci.index, \n",
    "                               categories=['January', 'February', 'March', 'April','May','June', 'July','August','September','October','November','December'], \n",
    "                               sorted=True)\n",
    "month_acci=month_acci.sort_index()"
   ]
  },
  {
   "cell_type": "code",
   "execution_count": 6,
   "metadata": {},
   "outputs": [
    {
     "data": {
      "image/png": "[encoded data removed]",
      "text/plain": [
       "<matplotlib.figure.Figure at 0x10e7016a0>"
      ]
     },
     "metadata": {},
     "output_type": "display_data"
    }
   ],
   "source": [
    "import matplotlib.pyplot as plt\n",
    "f1,axarr = plt.subplots(2,2)\n",
    "f1.set_figwidth(15)\n",
    "f1.set_figheight(9)\n",
    "\n",
    "axarr[0,0].set_ylabel(\"count\")\n",
    "axarr[0,0].set_title(\"the total accidents number each year\")\n",
    "axarr[0,0].bar(year_acci.index,year_acci['CASE_NUM'])\n",
    "\n",
    "\n",
    "objects1=np.array(month_acci.index)\n",
    "x1=np.arange(len(objects1))\n",
    "axarr[0,1].set_ylabel(\"count\")\n",
    "axarr[0,1].set_title(\"the total accidents number every month\")\n",
    "axarr[0,1].bar(x1,month_acci['CASE_NUM'])\n",
    "axarr[0,1].set_xticks(x1)\n",
    "axarr[0,1].set_xticklabels(objects1)\n",
    "\n",
    "axarr[1,0].set_ylabel(\"count\")\n",
    "axarr[1,0].set_title(\"the total accidents number every hour\")\n",
    "axarr[1,0].bar(hour_acci.index,hour_acci['CASE_NUM'])\n",
    "axarr[1,0].set_xticks(np.arange(0,24))\n",
    "\n",
    "objects2=np.array(day_acci.index)\n",
    "x2=np.arange(len(objects2))\n",
    "axarr[1,1].set_ylabel(\"count\")\n",
    "axarr[1,1].set_title(\"the total accidents number every week\")\n",
    "axarr[1,1].bar(x2,day_acci['CASE_NUM'])\n",
    "axarr[1,1].set_xticks(x2)\n",
    "axarr[1,1].set_xticklabels(objects2)\n",
    "f1.savefig(\"fig/time_relate_count.png\")"
   ]
  },
  {
   "cell_type": "code",
   "execution_count": 7,
   "metadata": {},
   "outputs": [
    {
     "data": {
      "text/plain": [
       "Index(['YEAR', 'CASE_NUM', 'STATE', 'NUM_VEHICLE', 'FATALS', 'MONTH',\n",
       "       'DAY_WEEK', 'HOUR', 'HIGHWAY', 'LATITUDE', 'LONGITUD', 'COLLISION_TYPE',\n",
       "       'LIGHT_CONDITION', 'WEATHER', 'CRASH_FACTOR', 'DRUNK_DRIVE', 'AGE',\n",
       "       'SEX', 'RACE'],\n",
       "      dtype='object')"
      ]
     },
     "execution_count": 7,
     "metadata": {},
     "output_type": "execute_result"
    }
   ],
   "source": [
    "fatal_crashs_all.columns"
   ]
  },
  {
   "cell_type": "code",
   "execution_count": 8,
   "metadata": {},
   "outputs": [
    {
     "data": {
      "text/plain": [
       "Index(['STATE', 'YEAR', 'CASE_NUM', 'SPEED', 'ROLLOVER', 'FIRE', 'BODY_TYP',\n",
       "       'SPEEDING', 'DEATHS', 'DRINKING_INDICATOR'],\n",
       "      dtype='object')"
      ]
     },
     "execution_count": 8,
     "metadata": {},
     "output_type": "execute_result"
    }
   ],
   "source": [
    "vehicles.columns"
   ]
  },
  {
   "cell_type": "code",
   "execution_count": null,
   "metadata": {
    "collapsed": true
   },
   "outputs": [],
   "source": [
    "import seaborn as sns\n",
    "sns.set(style=\"ticks\")\n",
    "df = sns.load_dataset(\"iris\")\n",
    "sns.pairplot(df, hue=\"species\")\n"
   ]
  },
  {
   "cell_type": "code",
   "execution_count": 6,
   "metadata": {},
   "outputs": [
    {
     "ename": "ValueError",
     "evalue": "Could not interpret input 'LIGHT_CONDITION'",
     "output_type": "error",
     "traceback": [
      "\u001b[0;31m---------------------------------------------------------------------------\u001b[0m",
      "\u001b[0;31mValueError\u001b[0m                                Traceback (most recent call last)",
      "\u001b[0;32m<ipython-input-6-d3d8fb2edf28>\u001b[0m in \u001b[0;36m<module>\u001b[0;34m()\u001b[0m\n\u001b[0;32m----> 1\u001b[0;31m \u001b[0mg\u001b[0m\u001b[0;34m=\u001b[0m\u001b[0msns\u001b[0m\u001b[0;34m.\u001b[0m\u001b[0mfactorplot\u001b[0m\u001b[0;34m(\u001b[0m\u001b[0mx\u001b[0m\u001b[0;34m=\u001b[0m\u001b[0;34m\"LIGHT_CONDITION\"\u001b[0m\u001b[0;34m,\u001b[0m \u001b[0my\u001b[0m\u001b[0;34m=\u001b[0m\u001b[0;34m\"DEATHS\"\u001b[0m\u001b[0;34m,\u001b[0m \u001b[0mhue\u001b[0m\u001b[0;34m=\u001b[0m\u001b[0;34m\"DR_DRINK\"\u001b[0m\u001b[0;34m,\u001b[0m\u001b[0mcol\u001b[0m\u001b[0;34m=\u001b[0m\u001b[0;34m\"YEAR\"\u001b[0m\u001b[0;34m,\u001b[0m\u001b[0mdata\u001b[0m\u001b[0;34m=\u001b[0m\u001b[0mvehicles\u001b[0m\u001b[0;34m,\u001b[0m \u001b[0mkind\u001b[0m\u001b[0;34m=\u001b[0m\u001b[0;34m\"violin\"\u001b[0m\u001b[0;34m,\u001b[0m \u001b[0msplit\u001b[0m\u001b[0;34m=\u001b[0m\u001b[0;32mTrue\u001b[0m\u001b[0;34m,\u001b[0m\u001b[0mcol_wrap\u001b[0m\u001b[0;34m=\u001b[0m\u001b[0;36m3\u001b[0m\u001b[0;34m,\u001b[0m\u001b[0msize\u001b[0m\u001b[0;34m=\u001b[0m\u001b[0;36m3\u001b[0m\u001b[0;34m,\u001b[0m\u001b[0maspect\u001b[0m\u001b[0;34m=\u001b[0m\u001b[0;36m2\u001b[0m\u001b[0;34m)\u001b[0m\u001b[0;34m\u001b[0m\u001b[0m\n\u001b[0m\u001b[1;32m      2\u001b[0m \u001b[0mg\u001b[0m\u001b[0;34m.\u001b[0m\u001b[0mset_axis_labels\u001b[0m\u001b[0;34m(\u001b[0m\u001b[0;34m\"light_condition\"\u001b[0m\u001b[0;34m,\u001b[0m \u001b[0;34m\"deaths\"\u001b[0m\u001b[0;34m)\u001b[0m\u001b[0;34m\u001b[0m\u001b[0m\n",
      "\u001b[0;32m/anaconda3/lib/python3.6/site-packages/seaborn/categorical.py\u001b[0m in \u001b[0;36mfactorplot\u001b[0;34m(x, y, hue, data, row, col, col_wrap, estimator, ci, n_boot, units, order, hue_order, row_order, col_order, kind, size, aspect, orient, color, palette, legend, legend_out, sharex, sharey, margin_titles, facet_kws, **kwargs)\u001b[0m\n\u001b[1;32m   3470\u001b[0m     \u001b[0;31m# facets to ensure representation of all data in the final plot\u001b[0m\u001b[0;34m\u001b[0m\u001b[0;34m\u001b[0m\u001b[0m\n\u001b[1;32m   3471\u001b[0m     \u001b[0mp\u001b[0m \u001b[0;34m=\u001b[0m \u001b[0m_CategoricalPlotter\u001b[0m\u001b[0;34m(\u001b[0m\u001b[0;34m)\u001b[0m\u001b[0;34m\u001b[0m\u001b[0m\n\u001b[0;32m-> 3472\u001b[0;31m     \u001b[0mp\u001b[0m\u001b[0;34m.\u001b[0m\u001b[0mestablish_variables\u001b[0m\u001b[0;34m(\u001b[0m\u001b[0mx_\u001b[0m\u001b[0;34m,\u001b[0m \u001b[0my_\u001b[0m\u001b[0;34m,\u001b[0m \u001b[0mhue\u001b[0m\u001b[0;34m,\u001b[0m \u001b[0mdata\u001b[0m\u001b[0;34m,\u001b[0m \u001b[0morient\u001b[0m\u001b[0;34m,\u001b[0m \u001b[0morder\u001b[0m\u001b[0;34m,\u001b[0m \u001b[0mhue_order\u001b[0m\u001b[0;34m)\u001b[0m\u001b[0;34m\u001b[0m\u001b[0m\n\u001b[0m\u001b[1;32m   3473\u001b[0m     \u001b[0morder\u001b[0m \u001b[0;34m=\u001b[0m \u001b[0mp\u001b[0m\u001b[0;34m.\u001b[0m\u001b[0mgroup_names\u001b[0m\u001b[0;34m\u001b[0m\u001b[0m\n\u001b[1;32m   3474\u001b[0m     \u001b[0mhue_order\u001b[0m \u001b[0;34m=\u001b[0m \u001b[0mp\u001b[0m\u001b[0;34m.\u001b[0m\u001b[0mhue_names\u001b[0m\u001b[0;34m\u001b[0m\u001b[0m\n",
      "\u001b[0;32m/anaconda3/lib/python3.6/site-packages/seaborn/categorical.py\u001b[0m in \u001b[0;36mestablish_variables\u001b[0;34m(self, x, y, hue, data, orient, order, hue_order, units)\u001b[0m\n\u001b[1;32m    149\u001b[0m                 \u001b[0;32mif\u001b[0m \u001b[0misinstance\u001b[0m\u001b[0;34m(\u001b[0m\u001b[0minput\u001b[0m\u001b[0;34m,\u001b[0m \u001b[0mstring_types\u001b[0m\u001b[0;34m)\u001b[0m\u001b[0;34m:\u001b[0m\u001b[0;34m\u001b[0m\u001b[0m\n\u001b[1;32m    150\u001b[0m                     \u001b[0merr\u001b[0m \u001b[0;34m=\u001b[0m \u001b[0;34m\"Could not interpret input '{}'\"\u001b[0m\u001b[0;34m.\u001b[0m\u001b[0mformat\u001b[0m\u001b[0;34m(\u001b[0m\u001b[0minput\u001b[0m\u001b[0;34m)\u001b[0m\u001b[0;34m\u001b[0m\u001b[0m\n\u001b[0;32m--> 151\u001b[0;31m                     \u001b[0;32mraise\u001b[0m \u001b[0mValueError\u001b[0m\u001b[0;34m(\u001b[0m\u001b[0merr\u001b[0m\u001b[0;34m)\u001b[0m\u001b[0;34m\u001b[0m\u001b[0m\n\u001b[0m\u001b[1;32m    152\u001b[0m \u001b[0;34m\u001b[0m\u001b[0m\n\u001b[1;32m    153\u001b[0m             \u001b[0;31m# Figure out the plotting orientation\u001b[0m\u001b[0;34m\u001b[0m\u001b[0;34m\u001b[0m\u001b[0m\n",
      "\u001b[0;31mValueError\u001b[0m: Could not interpret input 'LIGHT_CONDITION'"
     ]
    }
   ],
   "source": [
    "g=sns.factorplot(x=\"LIGHT_CONDITION\", y=\"DEATHS\", hue=\"DR_DRINK\",col=\"YEAR\",data=vehicles, kind=\"violin\", split=True,col_wrap=3,size=3,aspect=2)\n",
    "g.set_axis_labels(\"light_condition\", \"deaths\")\n"
   ]
  },
  {
   "cell_type": "code",
   "execution_count": null,
   "metadata": {
    "collapsed": true
   },
   "outputs": [],
   "source": []
  },
  {
   "cell_type": "code",
   "execution_count": null,
   "metadata": {
    "collapsed": true
   },
   "outputs": [],
   "source": []
  },
  {
   "cell_type": "code",
   "execution_count": null,
   "metadata": {
    "collapsed": true
   },
   "outputs": [],
   "source": []
  },
  {
   "cell_type": "code",
   "execution_count": null,
   "metadata": {
    "collapsed": true
   },
   "outputs": [],
   "source": []
  }
 ],
 "metadata": {
  "kernelspec": {
   "display_name": "Python [default]",
   "language": "python",
   "name": "python3"
  },
  "language_info": {
   "codemirror_mode": {
    "name": "ipython",
    "version": 3
   },
   "file_extension": ".py",
   "mimetype": "text/x-python",
   "name": "python",
   "nbconvert_exporter": "python",
   "pygments_lexer": "ipython3",
   "version": "3.6.1"
  }
 },
 "nbformat": 4,
 "nbformat_minor": 2
}
