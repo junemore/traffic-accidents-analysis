{
 "cells": [
  {
   "cell_type": "code",
   "execution_count": 2,
   "metadata": {},
   "outputs": [],
   "source": [
    "from dbfread import DBF\n",
    "import pandas as pd\n",
    "from pandas import DataFrame\n",
    "import matplotlib \n",
    "import numpy as np\n",
    "import matplotlib.pyplot as plt\n",
    "import seaborn as sns"
   ]
  },
  {
   "cell_type": "markdown",
   "metadata": {},
   "source": [
    "## Load 10 years of accident data, from 2007 to 2016"
   ]
  },
  {
   "cell_type": "code",
   "execution_count": 3,
   "metadata": {},
   "outputs": [],
   "source": [
    "dbf07= DBF('accident/accident2007.dbf')\n",
    "dbf08= DBF('accident/accident2008.dbf')\n",
    "dbf09= DBF('accident/accident2009.dbf')\n",
    "dbf10= DBF('accident/accident2010.dbf')\n",
    "dbf11 = DBF('accident/accident2011.dbf')\n",
    "dbf12 = DBF('accident/accident2012.dbf')\n",
    "dbf13 = DBF('accident/accident2013.dbf')\n",
    "dbf14 = DBF('accident/accident2014.dbf')\n",
    "dbf15 = DBF('accident/accident2015.dbf')\n",
    "dbf16 = DBF('accident/accident2016.dbf')\n",
    "accidents07 = DataFrame(iter(dbf07))\n",
    "accidents08 = DataFrame(iter(dbf08))\n",
    "accidents09 = DataFrame(iter(dbf09))\n",
    "accidents10 = DataFrame(iter(dbf10))\n",
    "accidents11 = DataFrame(iter(dbf11))\n",
    "accidents12 = DataFrame(iter(dbf12))\n",
    "accidents13 = DataFrame(iter(dbf13))\n",
    "accidents14 = DataFrame(iter(dbf14))\n",
    "accidents15 = DataFrame(iter(dbf15))\n",
    "accidents16 = DataFrame(iter(dbf16))\n"
   ]
  },
  {
   "cell_type": "markdown",
   "metadata": {},
   "source": [
    "First, we want to combine accidents10 ~ accidents16 to one dataframe. Since not all of the accident data downloaded from the U.S. Department of Transportation have the same features, by using the `jion:inner` option in `pd.concat` function, we can get the intersection of features."
   ]
  },
  {
   "cell_type": "code",
   "execution_count": 4,
   "metadata": {
    "collapsed": true
   },
   "outputs": [],
   "source": [
    "# rename column name in frame07 so that columns names are the same with other frames\n",
    "accidents07.rename(columns={'latitude': 'LATITUDE', 'longitud': 'LONGITUD'}, inplace=True)"
   ]
  },
  {
   "cell_type": "code",
   "execution_count": 5,
   "metadata": {
    "collapsed": true
   },
   "outputs": [],
   "source": [
    "# take a look inside how the accident data file looks like\n",
    "allaccidents = pd.concat([accidents07,accidents08,accidents09,accidents10,accidents11,accidents12,accidents13,accidents14,accidents15,accidents16], axis=0,join='inner')\n",
    "pd.set_option('display.max_columns', 100)"
   ]
  },
  {
   "cell_type": "code",
   "execution_count": 6,
   "metadata": {},
   "outputs": [
    {
     "data": {
      "text/plain": [
       "(320874, 42)"
      ]
     },
     "execution_count": 6,
     "metadata": {},
     "output_type": "execute_result"
    }
   ],
   "source": [
    "allaccidents.shape"
   ]
  },
  {
   "cell_type": "code",
   "execution_count": 7,
   "metadata": {
    "collapsed": true
   },
   "outputs": [],
   "source": [
    "#import datetime\n",
    "#months = {i :datetime.datetime(2000,i,1).strftime(\"%B\") for i in range(1, 13)}\n",
    "#type(datetime.datetime(2000,1,1).strftime(\"%b\"))\n",
    "#accidents[\"MONTH\"] = accidents[\"MONTH\"].map(months)\n",
    "#accidents[\"MONTH\"]\n",
    "#accidents.head()\n",
    "#df.sort(columns=[...])"
   ]
  },
  {
   "cell_type": "markdown",
   "metadata": {},
   "source": [
    "## Select variables and rename variables"
   ]
  },
  {
   "cell_type": "markdown",
   "metadata": {},
   "source": [
    "Observed from the table above, some of the variables in the table are not very readable. Therefore, in order to make it easier to understand the variables,we renamed some of the variables according to `FARS Analytical User’s Manual`  downloaded from the  `U.S. Department of Transportation`  website."
   ]
  },
  {
   "cell_type": "code",
   "execution_count": 8,
   "metadata": {},
   "outputs": [],
   "source": [
    "#combine all vehicle file\n",
    "import warnings\n",
    "warnings.filterwarnings('ignore')\n",
    "\n",
    "#select only necessary variable\n",
    "accidents = allaccidents[['YEAR','ST_CASE','STATE','VE_TOTAL','PERSONS','FATALS','MONTH','DAY_WEEK','HOUR','NHS','LATITUDE','LONGITUD','MAN_COLL','LGT_COND','WEATHER','ARR_HOUR','ARR_MIN','CF1','DRUNK_DR']]\n",
    "\n",
    "#rename the variable according to FARS Analytical User’s Manual for easy understanding\n",
    "accidents.rename(columns={'ST_CASE':'CASE_NUM','VE_TOTAL':'NUM_VEHICLE','NHS': 'HIGHWAY', 'MAN_COLL': 'COLLISION_TYPE','LGT_COND':'LIGHT_CONDITION','CF1':'CRASH_FACTOR','DRUNK_DR':'DRUNK_DRIVE'}, inplace=True)\n",
    "\n",
    "#match month, weekday, weekends, highway or not, collision and light condition to its meaning\n",
    "accidents['MONTH'] = accidents['MONTH'].map({1.0:'January', 2.0:'February', 3.0: 'March', 4.0:'April', 5.0:'May', 6.0:'June', 7.0:'July', 8.0:'August',9.0: 'September', 10.0:'October', 11.0:'November', 12.0:'December'})\n",
    "accidents['DAY_WEEK']= accidents['DAY_WEEK'].map({1.0:'Sunday',2.0:'Monday', 3.0:'Tuesday', 4.0: 'Wednesday', 5.0:'Thursday', 6.0:'Friday', 7.0:'Saturday'})\n",
    "accidents['HIGHWAY'] = accidents['HIGHWAY'].map({1.0:'On',0.0:'Off',9.0:'Unknow'})\n",
    "accidents['COLLISION_TYPE'] = accidents['COLLISION_TYPE'].map({0.0:'Not Collision',1.0:'Rear-End',2.0:'Head-On',3.0:'Rear-to-Rear',4.0:'Angle',5.0:'Sideswipe, Same Direction',6.0:'Sideswipe, Opposite Direction',7.0:'Sideswipe, Unknown Direction',9.0:'Unknown'})\n",
    "accidents['LIGHT_CONDITION'] = accidents['LIGHT_CONDITION'].map({1.0:'Daylight',2.0:'Dark' ,3.0:'Dark',5.0:'Dusk',6.0:'Dark',4.0:'Dawn', 7.0:'Other',8.0 :'Not Report', 9.0:'Not Report'})\n"
   ]
  },
  {
   "cell_type": "code",
   "execution_count": null,
   "metadata": {
    "collapsed": true
   },
   "outputs": [],
   "source": []
  },
  {
   "cell_type": "code",
   "execution_count": 9,
   "metadata": {},
   "outputs": [],
   "source": [
    "#match Weather code to its meaning\n",
    "accidents['WEATHER'] = accidents['WEATHER'].map({0.0:'Normal',1.0:'Clear',2.0:'Rain', 3.0: 'Sleet,Hail', 4.0:'Snow', 5.0:'Fog, Smog, Smoke',6.0:'Severe Crosswinds',7.0:'Blowing Sand, Soil, Dirt',8.0:'other',10.0:'Cloudy',11.0:'Blowing Snow',12.0:'Freezing Rain or Drizzle',98.0:'Not Reported', 99.0:'Unkown' })"
   ]
  },
  {
   "cell_type": "code",
   "execution_count": null,
   "metadata": {},
   "outputs": [],
   "source": []
  },
  {
   "cell_type": "code",
   "execution_count": 10,
   "metadata": {
    "collapsed": true
   },
   "outputs": [],
   "source": [
    "accidents['STATE']=accidents['STATE'].astype(int)\n",
    "accidents['CASE_NUM']=accidents['CASE_NUM'].astype(int)\n",
    "accidents['YEAR']=accidents['YEAR'].astype(object)"
   ]
  },
  {
   "cell_type": "code",
   "execution_count": 11,
   "metadata": {},
   "outputs": [
    {
     "data": {
      "text/plain": [
       "(320874, 19)"
      ]
     },
     "execution_count": 11,
     "metadata": {},
     "output_type": "execute_result"
    }
   ],
   "source": [
    "accidents.index = list(accidents['YEAR'].astype(str) + accidents['CASE_NUM'].astype(str))\n",
    "accidents.shape"
   ]
  },
  {
   "cell_type": "code",
   "execution_count": 12,
   "metadata": {},
   "outputs": [
    {
     "data": {
      "text/html": [
       "<div>\n",
       "<style>\n",
       "    .dataframe thead tr:only-child th {\n",
       "        text-align: right;\n",
       "    }\n",
       "\n",
       "    .dataframe thead th {\n",
       "        text-align: left;\n",
       "    }\n",
       "\n",
       "    .dataframe tbody tr th {\n",
       "        vertical-align: top;\n",
       "    }\n",
       "</style>\n",
       "<table border=\"1\" class=\"dataframe\">\n",
       "  <thead>\n",
       "    <tr style=\"text-align: right;\">\n",
       "      <th></th>\n",
       "      <th>YEAR</th>\n",
       "      <th>CASE_NUM</th>\n",
       "      <th>STATE</th>\n",
       "      <th>NUM_VEHICLE</th>\n",
       "      <th>PERSONS</th>\n",
       "      <th>FATALS</th>\n",
       "      <th>MONTH</th>\n",
       "      <th>DAY_WEEK</th>\n",
       "      <th>HOUR</th>\n",
       "      <th>HIGHWAY</th>\n",
       "      <th>LATITUDE</th>\n",
       "      <th>LONGITUD</th>\n",
       "      <th>COLLISION_TYPE</th>\n",
       "      <th>LIGHT_CONDITION</th>\n",
       "      <th>WEATHER</th>\n",
       "      <th>ARR_HOUR</th>\n",
       "      <th>ARR_MIN</th>\n",
       "      <th>CRASH_FACTOR</th>\n",
       "      <th>DRUNK_DRIVE</th>\n",
       "    </tr>\n",
       "  </thead>\n",
       "  <tbody>\n",
       "    <tr>\n",
       "      <th>2007.010001</th>\n",
       "      <td>2007</td>\n",
       "      <td>10001</td>\n",
       "      <td>1</td>\n",
       "      <td>1.0</td>\n",
       "      <td>1.0</td>\n",
       "      <td>1.0</td>\n",
       "      <td>January</td>\n",
       "      <td>Tuesday</td>\n",
       "      <td>23.0</td>\n",
       "      <td>Off</td>\n",
       "      <td>33.455839</td>\n",
       "      <td>-87.017928</td>\n",
       "      <td>Not Collision</td>\n",
       "      <td>Dark</td>\n",
       "      <td>Clear</td>\n",
       "      <td>23.0</td>\n",
       "      <td>20.0</td>\n",
       "      <td>0.0</td>\n",
       "      <td>0.0</td>\n",
       "    </tr>\n",
       "    <tr>\n",
       "      <th>2007.010002</th>\n",
       "      <td>2007</td>\n",
       "      <td>10002</td>\n",
       "      <td>1</td>\n",
       "      <td>3.0</td>\n",
       "      <td>4.0</td>\n",
       "      <td>2.0</td>\n",
       "      <td>January</td>\n",
       "      <td>Tuesday</td>\n",
       "      <td>13.0</td>\n",
       "      <td>Off</td>\n",
       "      <td>34.160597</td>\n",
       "      <td>-85.678075</td>\n",
       "      <td>Sideswipe, Same Direction</td>\n",
       "      <td>Daylight</td>\n",
       "      <td>Clear</td>\n",
       "      <td>13.0</td>\n",
       "      <td>11.0</td>\n",
       "      <td>0.0</td>\n",
       "      <td>0.0</td>\n",
       "    </tr>\n",
       "    <tr>\n",
       "      <th>2007.010003</th>\n",
       "      <td>2007</td>\n",
       "      <td>10003</td>\n",
       "      <td>1</td>\n",
       "      <td>2.0</td>\n",
       "      <td>5.0</td>\n",
       "      <td>1.0</td>\n",
       "      <td>January</td>\n",
       "      <td>Sunday</td>\n",
       "      <td>12.0</td>\n",
       "      <td>Off</td>\n",
       "      <td>33.975717</td>\n",
       "      <td>-86.496347</td>\n",
       "      <td>Sideswipe, Unknown Direction</td>\n",
       "      <td>Daylight</td>\n",
       "      <td>Clear</td>\n",
       "      <td>12.0</td>\n",
       "      <td>18.0</td>\n",
       "      <td>0.0</td>\n",
       "      <td>0.0</td>\n",
       "    </tr>\n",
       "    <tr>\n",
       "      <th>2007.010004</th>\n",
       "      <td>2007</td>\n",
       "      <td>10004</td>\n",
       "      <td>1</td>\n",
       "      <td>2.0</td>\n",
       "      <td>2.0</td>\n",
       "      <td>1.0</td>\n",
       "      <td>January</td>\n",
       "      <td>Monday</td>\n",
       "      <td>15.0</td>\n",
       "      <td>On</td>\n",
       "      <td>33.853258</td>\n",
       "      <td>-85.915622</td>\n",
       "      <td>Angle</td>\n",
       "      <td>Daylight</td>\n",
       "      <td>Clear</td>\n",
       "      <td>15.0</td>\n",
       "      <td>5.0</td>\n",
       "      <td>0.0</td>\n",
       "      <td>0.0</td>\n",
       "    </tr>\n",
       "    <tr>\n",
       "      <th>2007.010005</th>\n",
       "      <td>2007</td>\n",
       "      <td>10005</td>\n",
       "      <td>1</td>\n",
       "      <td>2.0</td>\n",
       "      <td>5.0</td>\n",
       "      <td>1.0</td>\n",
       "      <td>January</td>\n",
       "      <td>Saturday</td>\n",
       "      <td>19.0</td>\n",
       "      <td>Off</td>\n",
       "      <td>32.488833</td>\n",
       "      <td>-86.408936</td>\n",
       "      <td>Sideswipe, Same Direction</td>\n",
       "      <td>Dark</td>\n",
       "      <td>Clear</td>\n",
       "      <td>19.0</td>\n",
       "      <td>41.0</td>\n",
       "      <td>0.0</td>\n",
       "      <td>0.0</td>\n",
       "    </tr>\n",
       "  </tbody>\n",
       "</table>\n",
       "</div>"
      ],
      "text/plain": [
       "             YEAR  CASE_NUM  STATE  NUM_VEHICLE  PERSONS  FATALS    MONTH  \\\n",
       "2007.010001  2007     10001      1          1.0      1.0     1.0  January   \n",
       "2007.010002  2007     10002      1          3.0      4.0     2.0  January   \n",
       "2007.010003  2007     10003      1          2.0      5.0     1.0  January   \n",
       "2007.010004  2007     10004      1          2.0      2.0     1.0  January   \n",
       "2007.010005  2007     10005      1          2.0      5.0     1.0  January   \n",
       "\n",
       "             DAY_WEEK  HOUR HIGHWAY   LATITUDE   LONGITUD  \\\n",
       "2007.010001   Tuesday  23.0     Off  33.455839 -87.017928   \n",
       "2007.010002   Tuesday  13.0     Off  34.160597 -85.678075   \n",
       "2007.010003    Sunday  12.0     Off  33.975717 -86.496347   \n",
       "2007.010004    Monday  15.0      On  33.853258 -85.915622   \n",
       "2007.010005  Saturday  19.0     Off  32.488833 -86.408936   \n",
       "\n",
       "                           COLLISION_TYPE LIGHT_CONDITION WEATHER  ARR_HOUR  \\\n",
       "2007.010001                 Not Collision            Dark   Clear      23.0   \n",
       "2007.010002     Sideswipe, Same Direction        Daylight   Clear      13.0   \n",
       "2007.010003  Sideswipe, Unknown Direction        Daylight   Clear      12.0   \n",
       "2007.010004                         Angle        Daylight   Clear      15.0   \n",
       "2007.010005     Sideswipe, Same Direction            Dark   Clear      19.0   \n",
       "\n",
       "             ARR_MIN  CRASH_FACTOR  DRUNK_DRIVE  \n",
       "2007.010001     20.0           0.0          0.0  \n",
       "2007.010002     11.0           0.0          0.0  \n",
       "2007.010003     18.0           0.0          0.0  \n",
       "2007.010004      5.0           0.0          0.0  \n",
       "2007.010005     41.0           0.0          0.0  "
      ]
     },
     "execution_count": 12,
     "metadata": {},
     "output_type": "execute_result"
    }
   ],
   "source": [
    "accidents.head()"
   ]
  },
  {
   "cell_type": "markdown",
   "metadata": {},
   "source": [
    "# General Visualization"
   ]
  },
  {
   "cell_type": "markdown",
   "metadata": {},
   "source": [
    "We have generate some visualizations to give you a general idea"
   ]
  },
  {
   "cell_type": "markdown",
   "metadata": {},
   "source": [
    "**First we explore the relationship between month and number of accidents. We can see if there is a general pattern or discrepencies in the trend**"
   ]
  },
  {
   "cell_type": "code",
   "execution_count": 13,
   "metadata": {},
   "outputs": [],
   "source": [
    "accident_month = accidents.groupby(\"MONTH\")[\"MONTH\"].count().reset_index(name=\"count\")"
   ]
  },
  {
   "cell_type": "code",
   "execution_count": 14,
   "metadata": {},
   "outputs": [
    {
     "data": {
      "text/html": [
       "<div>\n",
       "<style>\n",
       "    .dataframe thead tr:only-child th {\n",
       "        text-align: right;\n",
       "    }\n",
       "\n",
       "    .dataframe thead th {\n",
       "        text-align: left;\n",
       "    }\n",
       "\n",
       "    .dataframe tbody tr th {\n",
       "        vertical-align: top;\n",
       "    }\n",
       "</style>\n",
       "<table border=\"1\" class=\"dataframe\">\n",
       "  <thead>\n",
       "    <tr style=\"text-align: right;\">\n",
       "      <th></th>\n",
       "      <th>MONTH</th>\n",
       "      <th>count</th>\n",
       "    </tr>\n",
       "  </thead>\n",
       "  <tbody>\n",
       "    <tr>\n",
       "      <th>0</th>\n",
       "      <td>April</td>\n",
       "      <td>25427</td>\n",
       "    </tr>\n",
       "    <tr>\n",
       "      <th>1</th>\n",
       "      <td>August</td>\n",
       "      <td>29686</td>\n",
       "    </tr>\n",
       "    <tr>\n",
       "      <th>2</th>\n",
       "      <td>December</td>\n",
       "      <td>26411</td>\n",
       "    </tr>\n",
       "    <tr>\n",
       "      <th>3</th>\n",
       "      <td>February</td>\n",
       "      <td>21457</td>\n",
       "    </tr>\n",
       "    <tr>\n",
       "      <th>4</th>\n",
       "      <td>January</td>\n",
       "      <td>23269</td>\n",
       "    </tr>\n",
       "  </tbody>\n",
       "</table>\n",
       "</div>"
      ],
      "text/plain": [
       "      MONTH  count\n",
       "0     April  25427\n",
       "1    August  29686\n",
       "2  December  26411\n",
       "3  February  21457\n",
       "4   January  23269"
      ]
     },
     "execution_count": 14,
     "metadata": {},
     "output_type": "execute_result"
    }
   ],
   "source": [
    "accident_month.head()\n"
   ]
  },
  {
   "cell_type": "code",
   "execution_count": 16,
   "metadata": {},
   "outputs": [
    {
     "data": {
      "image/png": "[encoded data removed]",
      "text/plain": [
       "<matplotlib.figure.Figure at 0x118095780>"
      ]
     },
     "metadata": {},
     "output_type": "display_data"
    }
   ],
   "source": [
    "import seaborn as sns\n",
    "index = ['January','February','March', 'April', 'May','June','July','August','September', 'October', 'November', 'December']\n",
    "sns.barplot(x = \"MONTH\" , y = \"count\", data = accident_month, order = index)\n",
    "plt.title(\"Accident Frequency vs. Month\")\n",
    "plt.show()"
   ]
  },
  {
   "cell_type": "markdown",
   "metadata": {},
   "source": [
    "** it can be say that there are relatively less accidents at the start and end of a year than in the middle of the year ***"
   ]
  },
  {
   "cell_type": "code",
   "execution_count": null,
   "metadata": {
    "collapsed": true
   },
   "outputs": [],
   "source": []
  },
  {
   "cell_type": "markdown",
   "metadata": {},
   "source": [
    "**Then, we explore the relationship between Year and num of accidents**"
   ]
  },
  {
   "cell_type": "code",
   "execution_count": 28,
   "metadata": {},
   "outputs": [
    {
     "data": {
      "image/png": "[encoded data removed]",
      "text/plain": [
       "<matplotlib.figure.Figure at 0x11f07a630>"
      ]
     },
     "metadata": {},
     "output_type": "display_data"
    }
   ],
   "source": [
    "accident_year = accidents.groupby(\"YEAR\")[\"YEAR\"].count().reset_index(name=\"count\")\n",
    "sns.barplot(x = \"YEAR\" , y = \"count\", data = accident_year)\n",
    "plt.title(\"Accident Frequency vs. Year\", fontsize=18)\n",
    "plt.show()"
   ]
  },
  {
   "cell_type": "markdown",
   "metadata": {},
   "source": [
    "**we also explore the proportion of eahc weather condition that leads to accident. Therefore, we generate a boxplot and pie chart to provide clear visulization***"
   ]
  },
  {
   "cell_type": "code",
   "execution_count": 18,
   "metadata": {},
   "outputs": [],
   "source": [
    "accident_weather = accidents.groupby(\"WEATHER\")[\"WEATHER\"].count().reset_index(name=\"count\").sort_values(\"count\", ascending = False )\n",
    "accident_weather = accident_weather.reset_index(drop=True)\n"
   ]
  },
  {
   "cell_type": "code",
   "execution_count": 19,
   "metadata": {},
   "outputs": [
    {
     "data": {
      "text/html": [
       "<div>\n",
       "<style>\n",
       "    .dataframe thead tr:only-child th {\n",
       "        text-align: right;\n",
       "    }\n",
       "\n",
       "    .dataframe thead th {\n",
       "        text-align: left;\n",
       "    }\n",
       "\n",
       "    .dataframe tbody tr th {\n",
       "        vertical-align: top;\n",
       "    }\n",
       "</style>\n",
       "<table border=\"1\" class=\"dataframe\">\n",
       "  <thead>\n",
       "    <tr style=\"text-align: right;\">\n",
       "      <th></th>\n",
       "      <th>WEATHER</th>\n",
       "      <th>count</th>\n",
       "    </tr>\n",
       "  </thead>\n",
       "  <tbody>\n",
       "    <tr>\n",
       "      <th>0</th>\n",
       "      <td>Clear</td>\n",
       "      <td>250277</td>\n",
       "    </tr>\n",
       "    <tr>\n",
       "      <th>1</th>\n",
       "      <td>Cloudy</td>\n",
       "      <td>33679</td>\n",
       "    </tr>\n",
       "    <tr>\n",
       "      <th>2</th>\n",
       "      <td>Rain</td>\n",
       "      <td>22172</td>\n",
       "    </tr>\n",
       "    <tr>\n",
       "      <th>3</th>\n",
       "      <td>Snow</td>\n",
       "      <td>4687</td>\n",
       "    </tr>\n",
       "    <tr>\n",
       "      <th>4</th>\n",
       "      <td>Fog, Smog, Smoke</td>\n",
       "      <td>3562</td>\n",
       "    </tr>\n",
       "    <tr>\n",
       "      <th>5</th>\n",
       "      <td>Not Reported</td>\n",
       "      <td>2121</td>\n",
       "    </tr>\n",
       "    <tr>\n",
       "      <th>6</th>\n",
       "      <td>Unkown</td>\n",
       "      <td>1208</td>\n",
       "    </tr>\n",
       "    <tr>\n",
       "      <th>7</th>\n",
       "      <td>Sleet,Hail</td>\n",
       "      <td>1166</td>\n",
       "    </tr>\n",
       "    <tr>\n",
       "      <th>8</th>\n",
       "      <td>Severe Crosswinds</td>\n",
       "      <td>492</td>\n",
       "    </tr>\n",
       "    <tr>\n",
       "      <th>9</th>\n",
       "      <td>other</td>\n",
       "      <td>399</td>\n",
       "    </tr>\n",
       "    <tr>\n",
       "      <th>10</th>\n",
       "      <td>Blowing Snow</td>\n",
       "      <td>210</td>\n",
       "    </tr>\n",
       "    <tr>\n",
       "      <th>11</th>\n",
       "      <td>Blowing Sand, Soil, Dirt</td>\n",
       "      <td>118</td>\n",
       "    </tr>\n",
       "    <tr>\n",
       "      <th>12</th>\n",
       "      <td>Freezing Rain or Drizzle</td>\n",
       "      <td>84</td>\n",
       "    </tr>\n",
       "  </tbody>\n",
       "</table>\n",
       "</div>"
      ],
      "text/plain": [
       "                     WEATHER   count\n",
       "0                      Clear  250277\n",
       "1                     Cloudy   33679\n",
       "2                       Rain   22172\n",
       "3                       Snow    4687\n",
       "4           Fog, Smog, Smoke    3562\n",
       "5               Not Reported    2121\n",
       "6                     Unkown    1208\n",
       "7                 Sleet,Hail    1166\n",
       "8          Severe Crosswinds     492\n",
       "9                      other     399\n",
       "10              Blowing Snow     210\n",
       "11  Blowing Sand, Soil, Dirt     118\n",
       "12  Freezing Rain or Drizzle      84"
      ]
     },
     "execution_count": 19,
     "metadata": {},
     "output_type": "execute_result"
    }
   ],
   "source": [
    "accident_weather"
   ]
  },
  {
   "cell_type": "code",
   "execution_count": 27,
   "metadata": {},
   "outputs": [
    {
     "data": {
      "image/png": "[encoded data removed]",
      "text/plain": [
       "<matplotlib.figure.Figure at 0x11f07a3c8>"
      ]
     },
     "metadata": {},
     "output_type": "display_data"
    }
   ],
   "source": [
    "sns.barplot(y = 'WEATHER', x = 'count', data = accident_weather)\n",
    "plt.title(\"Number of Weather Related Accident\", fontsize=18)\n",
    "plt.show()"
   ]
  },
  {
   "cell_type": "code",
   "execution_count": 22,
   "metadata": {},
   "outputs": [],
   "source": [
    "#  a function hide any percentage that is less than 1 percent\n",
    "def my_autopct(pct):\n",
    "    return ('%1.1f%%' % pct) if pct > 1 else ''\n",
    "\n",
    "# hide any label with percentage that is less than 1 percent\n",
    "label = []\n",
    "summ = sum(accident_weather['count'])\n",
    "length = len(accident_weather['count'])\n",
    "\n",
    "for i in range(length):\n",
    "    if accident_weather['count'][i]/summ >= 0.01:\n",
    "        label.append(accident_weather['WEATHER'][i])\n",
    "    else:\n",
    "        label.append('')"
   ]
  },
  {
   "cell_type": "code",
   "execution_count": 23,
   "metadata": {},
   "outputs": [
    {
     "data": {
      "image/png": "[encoded data removed]",
      "text/plain": [
       "<matplotlib.figure.Figure at 0x11c201198>"
      ]
     },
     "metadata": {},
     "output_type": "display_data"
    }
   ],
   "source": [
    "\n",
    "this is much a better plot than the previous one\n",
    "\n",
    "fig = plt.figure(figsize=[10, 10])\n",
    "ax = fig.add_subplot(111)\n",
    "ax.pie(accident_weather['count'],labels = label,autopct= my_autopct)\n",
    "plt.title(\"Porportion of Weather Related Accidents \", fontsize=18)\n",
    "plt.show()"
   ]
  },
  {
   "cell_type": "markdown",
   "metadata": {},
   "source": [
    "We also want to study the mortality rate of fatal accidents. The data element “Fatalities in Vehicle” in the Vehicle data file from the `U.S. Department of Transportation` website provides the number of deaths in a vehicle."
   ]
  },
  {
   "cell_type": "code",
   "execution_count": null,
   "metadata": {
    "collapsed": true
   },
   "outputs": [],
   "source": [
    "vdbf07= DBF('vehicle_deaths/vehicle2007.dbf')\n",
    "vdbf08= DBF('vehicle_deaths/vehicle2008.dbf')\n",
    "vdbf09= DBF('vehicle_deaths/vehicle2009.dbf')\n",
    "vdbf10= DBF('vehicle_deaths/vehicle2010.dbf')\n",
    "vdbf11= DBF('vehicle_deaths/vehicle2011.dbf')\n",
    "vdbf12= DBF('vehicle_deaths/vehicle2012.dbf')\n",
    "vdbf13= DBF('vehicle_deaths/vehicle2013.dbf')\n",
    "vdbf14= DBF('vehicle_deaths/vehicle2014.dbf')\n",
    "# vdbf15= DBF('vehicle_deaths/vehicle2015.csv')\n",
    "vdbf16= DBF('vehicle_deaths/vehicle2016.dbf')\n",
    "vehicle07 = DataFrame(iter(vdbf07))\n",
    "vehicle08 = DataFrame(iter(vdbf08))\n",
    "vehicle09 = DataFrame(iter(vdbf09))\n",
    "vehicle10 = DataFrame(iter(vdbf10))\n",
    "vehicle11 = DataFrame(iter(vdbf11))\n",
    "vehicle12 = DataFrame(iter(vdbf12))\n",
    "vehicle13 = DataFrame(iter(vdbf13))\n",
    "vehicle14 = DataFrame(iter(vdbf14))\n",
    "# vehicle15 = pd.read_csv('vehicle_deaths/vehicle2015.csv')\n",
    "vehicle16 = DataFrame(iter(vdbf16))"
   ]
  },
  {
   "cell_type": "markdown",
   "metadata": {},
   "source": [
    "# Load vehicle data file which contains mortality rate"
   ]
  },
  {
   "cell_type": "code",
   "execution_count": null,
   "metadata": {
    "collapsed": true
   },
   "outputs": [],
   "source": [
    "vehicle07['YEAR']=2007\n",
    "vehicle08['YEAR']=2008\n",
    "vehicle09['YEAR']=2009\n",
    "vehicle10['YEAR']=2010\n",
    "vehicle11['YEAR']=2011\n",
    "vehicle12['YEAR']=2012\n",
    "vehicle13['YEAR']=2013\n",
    "vehicle14['YEAR']=2014\n",
    "# vehicle15['YEAR']='2015.0'\n",
    "vehicle16['YEAR']=2016"
   ]
  },
  {
   "cell_type": "code",
   "execution_count": null,
   "metadata": {},
   "outputs": [],
   "source": [
    "allvehicles=pd.concat([vehicle07,vehicle08,vehicle09,vehicle10,vehicle11,vehicle12,vehicle13,vehicle14,vehicle16], axis=0,join='outer')\n",
    "vehicles = allvehicles[['STATE','YEAR','ST_CASE','HIT_RUN','TRAV_SP','ROLLOVER','FIRE_EXP','SPEEDREL','DEATHS']]\n",
    "vehicles.rename(columns={'ST_CASE':'CASE_NUM','TRAV_SP':'SPEED','FIRE_EXP': 'FIRE','SPEEDREL':'SPEEDING'}, inplace=True)\n",
    "vehicles['STATE']=vehicles['STATE'].astype(int)\n",
    "vehicles['CASE_NUM']=vehicles['CASE_NUM'].astype(int)\n",
    "vehicles['YEAR']=vehicles['YEAR'].astype(int)\n",
    "vehicles.index = list(vehicles['YEAR'].astype(str) + vehicles['CASE_NUM'].astype(str))\n",
    "vehicles.head()"
   ]
  },
  {
   "cell_type": "code",
   "execution_count": null,
   "metadata": {},
   "outputs": [],
   "source": [
    "all = pd.merge(vehicles, accidents, left_index=True, right_index=True, how='inner',on=('STATE', 'YEAR','CASE_NUM'))\n",
    "all.index=(all.index).astype(int)\n",
    "all.sort_index()\n",
    "all.head()"
   ]
  },
  {
   "cell_type": "code",
   "execution_count": null,
   "metadata": {},
   "outputs": [],
   "source": [
    "#the total accidents number each year, analysis the difference between every year\n",
    "year_acci=all[['YEAR','CASE_NUM']].groupby('YEAR').count()\n",
    "month_acci=all[['MONTH','CASE_NUM']].groupby('MONTH').count()\n",
    "day_acci=all[['DAY_WEEK','CASE_NUM']].groupby('DAY_WEEK').count()\n",
    "hour_acci=all[['HOUR','CASE_NUM']].groupby('HOUR').count()\n",
    "time_relate_acci=pd.DataFrame({'year_acci':year_acci,'month_acci':month_acci,'day_acci':day_acci,'hour_acci':hour_acci})\n",
    "time_relate_acci.head()"
   ]
  },
  {
   "cell_type": "code",
   "execution_count": null,
   "metadata": {},
   "outputs": [],
   "source": [
    "year_acci.index"
   ]
  },
  {
   "cell_type": "code",
   "execution_count": null,
   "metadata": {},
   "outputs": [],
   "source": [
    "with sns.plotting_context(\"poster\"):\n",
    "    g = sns.FacetGrid(data=accidents, col=\"continent\", col_wrap=4)\n",
    "    g.map(sns.boxplot, 'variable',\"value\")\n",
    "    g.set_axis_labels(\"drinks\", \"consumption value\")"
   ]
  },
  {
   "cell_type": "code",
   "execution_count": null,
   "metadata": {
    "collapsed": true
   },
   "outputs": [],
   "source": []
  }
 ],
 "metadata": {
  "kernelspec": {
   "display_name": "Python [default]",
   "language": "python",
   "name": "python3"
  },
  "language_info": {
   "codemirror_mode": {
    "name": "ipython",
    "version": 3
   },
   "file_extension": ".py",
   "mimetype": "text/x-python",
   "name": "python",
   "nbconvert_exporter": "python",
   "pygments_lexer": "ipython3",
   "version": "3.6.1"
  }
 },
 "nbformat": 4,
 "nbformat_minor": 2
}
