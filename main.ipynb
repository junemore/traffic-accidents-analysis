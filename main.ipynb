{
 "cells": [
  {
   "cell_type": "markdown",
   "metadata": {},
   "source": [
    "# Analysis of Contributing Factors in Road Accidents Through Accident Analysis\n",
    "\n",
    "**Authors: Yuanfeng Hu, Aiting(Kelly) Kuang, Yuening Zhu**\n"
   ]
  },
  {
   "cell_type": "markdown",
   "metadata": {},
   "source": [
    "## Abstract\n",
    "\n",
    "***In this notebook, we will further explore some results of our research. Our research includes a wide range of field from data analysis, article review research and press search. Our report will be consist of several Parts. The author contribution will be included as the last part.***\n",
    "\n",
    "\n",
    "***Non Human Error Trafic Accidents***\n",
    "\n",
    "Author contribution"
   ]
  },
  {
   "cell_type": "markdown",
   "metadata": {},
   "source": []
  },
  {
   "cell_type": "markdown",
   "metadata": {},
   "source": []
  },
  {
   "cell_type": "markdown",
   "metadata": {},
   "source": []
  },
  {
   "cell_type": "markdown",
   "metadata": {},
   "source": [
    "\n",
    "**Author Contributions**\n",
    "\n",
    "**Yuanfeng Hu**\n",
    "\n",
    "Yuanfeng focused on the  analysis of Non Human Error Trafic Accidents, Notebook4 and give insight for overall structure of the project.  He also made the Makefile, did the environment set-up, licensing, gitignore file and few other writing task,\n",
    "\n",
    "**Aiting(Kelly) Kuang**\n",
    "\n",
    "** Yuening Zhu**\n"
   ]
  },
  {
   "cell_type": "code",
   "execution_count": null,
   "metadata": {
    "collapsed": true
   },
   "outputs": [],
   "source": []
  }
 ],
 "metadata": {
  "kernelspec": {
   "display_name": "Python [default]",
   "language": "python",
   "name": "python3"
  },
  "language_info": {
   "codemirror_mode": {
    "name": "ipython",
    "version": 3
   },
   "file_extension": ".py",
   "mimetype": "text/x-python",
   "name": "python",
   "nbconvert_exporter": "python",
   "pygments_lexer": "ipython3",
   "version": "3.6.1"
  }
 },
 "nbformat": 4,
 "nbformat_minor": 2
}
