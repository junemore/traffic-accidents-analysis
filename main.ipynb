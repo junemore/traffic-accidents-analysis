{
 "cells": [
  {
   "cell_type": "markdown",
   "metadata": {},
   "source": [
    "# Analysis of Contributing Factors in Road Accidents Through Accident Analysis\n",
    "\n",
    "**Authors: Yuanfeng Hu, Aiting(Kelly) Kuang, Yuening Zhu**\n"
   ]
  },
  {
   "cell_type": "markdown",
   "metadata": {},
   "source": [
    "## Abstract\n",
    "\n",
    "***In this notebook, we will further explore some results of our research. Our research includes a wide range of field from data analysis, article review research and press search. Our report will be consist of several Parts. The author contribution will be included as the last part.***\n"
   ]
  },
  {
   "cell_type": "markdown",
   "metadata": {},
   "source": [
    "\n",
    "*** Weather and Accidents***\n",
    "\n",
    "        Road danger is a man-made crisis, with human error accounting for over 90 percent of accidents. More than 90 percent of road accidents are caused by human error. However, with the remaining 10 percent of non human-error accidents, the death could also be substantial. \n",
    "\t\tOne of our focuses of this repository would be to explore this 10 percent. We decided to put our focus of this analysis on three factor: Weather, Light and Intersection. I will mostly discuss the factor of weather here.\n",
    "\tWe first have to do some data exploration. We grouped the data by certain aspect and calculate its total sum and display it in descending order. You can see from the all of the tables in the notebook4. It is best to put the table this way for best visualization.\n",
    "       We have generate most accidents happen during clear day. In my initial thinking, I though that most accident might happen during cloudy day or raining day as the visibility is not as great, but this graph proved me wrong. But, actually it makes sense since in most places, clear day happens most of time. Some of the other weather condition accident is way too small to display on the graph, we would simply have it removed from the plot, otherwise it would make the graph hard to read.\n",
    "         We also did further data exploration to analyze the relationship between death and weather-related accidents. The death per accident is highest in Snow condition, also noticed the second highest is the Blowing Snow Condition. Driving situations that feature rapidly changing weather conditions are particularly hazardous to drivers. A heavy snow squall, dense fog, or blinding rain can reduce visibility from good to just a few feet in front of you in a matter of seconds.Most of all Snow day usually indicates the worst of driving condition: limited visibility, snow blindness and the lost of traction.\n",
    "        The third highest ratio in the graph is the fog, smog and smoke condition. For obvious reasons, we often focus on the deadly potential of excessive rain, cold, even wind. However, the result in the plot comes as a shock to me how deadly fog can be on the roads each year. \n",
    "        To relate to our daily life, fog, smog and smoke condition happened much more that we think: Driving on Golden Gate Bridge or Bay Bridge, the recent Napa and Los Angles Forest Fire, and even driving back to home located north Berkeley at night. Just a side note, It would be best to take extra care driving in any of these extreme weather condition.\n"
   ]
  },
  {
   "cell_type": "markdown",
   "metadata": {},
   "source": []
  },
  {
   "cell_type": "markdown",
   "metadata": {},
   "source": []
  },
  {
   "cell_type": "markdown",
   "metadata": {},
   "source": [
    "\n",
    "**Author Contributions**\n",
    "\n",
    "**Yuanfeng Hu**\n",
    "\n",
    "Yuanfeng focused on the  analysis of Non Human Error Trafic Accidents, Notebook4 and give insight for overall structure of the project.  He also made the Makefile, did the environment set-up, licensing, gitignore file and few other writing task,\n",
    "\n",
    "**Aiting(Kelly) Kuang**\n",
    "\n",
    "** Yuening Zhu**\n"
   ]
  },
  {
   "cell_type": "code",
   "execution_count": null,
   "metadata": {
    "collapsed": true
   },
   "outputs": [],
   "source": []
  }
 ],
 "metadata": {
  "kernelspec": {
   "display_name": "Python [default]",
   "language": "python",
   "name": "python3"
  },
  "language_info": {
   "codemirror_mode": {
    "name": "ipython",
    "version": 3
   },
   "file_extension": ".py",
   "mimetype": "text/x-python",
   "name": "python",
   "nbconvert_exporter": "python",
   "pygments_lexer": "ipython3",
   "version": "3.6.1"
  }
 },
 "nbformat": 4,
 "nbformat_minor": 2
}
