{
 "cells": [
  {
   "cell_type": "markdown",
   "metadata": {},
   "source": [
    "# Analysis of Contributing Factors in Road Accidents Through Accident Analysis\n",
    "\n",
    "**Authors: Yuanfeng Hu, Aiting(Kelly) Kuang, Yuening Zhu**\n"
   ]
  },
  {
   "cell_type": "markdown",
   "metadata": {},
   "source": [
    "## Abstract\n",
    "\n",
    "Fatal accidents take away more than 30,000 lives every year in the U.S. (NHTSA), and traffic safety have been concern of many people for years not only beacuase people want to reduce deaths from traffic accidents, but also reduce accident severity. One way to accomplish reducing fatality from traffice accident is to identify the most probable factors that affect accident severity.<br/>\n",
    "In our final project, we want to identify the most probable factors that affect fatal accidents and accident severity through performing logistic regression, analyzing, and discussing how the important factors obtained from logistic regression affect fatal accidents. Specifically, we will explore how human error, enviorment, and use of alcohol contribute to fatal accidents.\n",
    "\n"
   ]
  },
  {
   "cell_type": "markdown",
   "metadata": {},
   "source": [
    "## Part one -- Logistic Regression on Fatal Accidents\n",
    "The data we used to perform logistic regression are all crashes happened in Allegheny County from 2004 to 2016. The file recorded whether the crashes are fatal or non-fatal. Because of this binary nature of the dependent variable, a logistic regression approach was found suitable.\n",
    "### Theoretical Background of Logistic Regression\n",
    "\n",
    "The goal of using logistic regression to do analysis is the same as using other model-building technique in statistics: to find the best fit and the most parsimonious one. The difference between logistic and linear regression is the response variable of logistic regression is binary. Once this difference is accounted for, the methods employed in an analysis using logistic regression follow the same general principle in linear regression analysis: \n",
    "\n",
    "$$E( y | X )=\\beta_0+\\beta_1X$$\n",
    "\n",
    "where y is response variable, in this case, fatal and non-fatal accidents, and X are marix of features, and $\\beta$ are parameter. <br/>\n",
    "The specific form of logistic regression is: $$\\pi(X)=\\frac{e^{\\beta_0+\\beta_1X}} {1+e^{\\beta_0+\\beta_1X}} $$\n",
    "where $\\pi(X)$ is $y$, the probability of being fatal accident. \n",
    "\n",
    "<br/>\n",
    "Below is the summary of logistic regression from notebook1:"
   ]
  },
  {
   "cell_type": "markdown",
   "metadata": {},
   "source": [
    "### Variable Selection"
   ]
  },
  {
   "cell_type": "code",
   "execution_count": 2,
   "metadata": {},
   "outputs": [
    {
     "name": "stdout",
     "output_type": "stream",
     "text": [
      "                           Logit Regression Results                           \n",
      "==============================================================================\n",
      "Dep. Variable:       FATAL_OR_MAJ_INJ   No. Observations:               157821\n",
      "Model:                          Logit   Df Residuals:                   157788\n",
      "Method:                           MLE   Df Model:                           32\n",
      "Date:                Thu, 14 Dec 2017   Pseudo R-squ.:                 0.01482\n",
      "Time:                        00:21:44   Log-Likelihood:                -17667.\n",
      "converged:                       True   LL-Null:                       -17933.\n",
      "                                        LLR p-value:                 7.633e-92\n",
      "==========================================================================================================\n",
      "                                             coef    std err          z      P>|z|      [0.025      0.975]\n",
      "----------------------------------------------------------------------------------------------------------\n",
      "VEHICLE_COUNT                             -2.1001      0.035    -59.574      0.000      -2.169      -2.031\n",
      "DRIVER_16YR                               -0.5669      0.187     -3.028      0.002      -0.934      -0.200\n",
      "DRIVER_17YR                               -0.3640      0.110     -3.297      0.001      -0.580      -0.148\n",
      "DRIVER_65_74YR                             0.4165      0.060      6.892      0.000       0.298       0.535\n",
      "DRIVER_75PLUS                              0.5133      0.066      7.767      0.000       0.384       0.643\n",
      "AGGRESSIVE_DRIVING                        -0.4799      0.050     -9.663      0.000      -0.577      -0.383\n",
      "DISTRACTED                                -0.6068      0.068     -8.865      0.000      -0.741      -0.473\n",
      "DRINKING_DRIVER                            0.2180      0.043      5.119      0.000       0.135       0.301\n",
      "HVY_TRUCK_RELATED                          0.9232      0.078     11.850      0.000       0.771       1.076\n",
      "INTERSECTION                              -0.6318      0.036    -17.451      0.000      -0.703      -0.561\n",
      "SPEEDING_RELATED                           0.6584      0.057     11.545      0.000       0.547       0.770\n",
      "UNBELTED                                   0.9004      0.036     24.792      0.000       0.829       0.972\n",
      "FIRE_IN_VEHICLE                           -0.2249      0.208     -1.083      0.279      -0.632       0.182\n",
      "CELL_PHONE                                -0.1656      0.191     -0.869      0.385      -0.539       0.208\n",
      "['Coll']_Angle                             1.6634      0.065     25.601      0.000       1.536       1.791\n",
      "['Coll']_Head-On                           2.5349      0.072     35.248      0.000       2.394       2.676\n",
      "['Coll']_Hit Pedestrian                    1.2968      0.056     23.294      0.000       1.188       1.406\n",
      "['Coll']_Not Collision                     0.2267      0.082      2.757      0.006       0.066       0.388\n",
      "['Coll']_Rear-End                          1.0672      0.072     14.727      0.000       0.925       1.209\n",
      "['Coll']_Rear-to-Rear                      1.2775      0.460      2.778      0.005       0.376       2.179\n",
      "['Coll']_Sideswipe                         1.1106      0.094     11.867      0.000       0.927       1.294\n",
      "['Weekday']_Weekday                       -0.6732      0.031    -21.552      0.000      -0.734      -0.612\n",
      "['ILLUMINATION']_Dark                     -0.5646      0.196     -2.887      0.004      -0.948      -0.181\n",
      "['ILLUMINATION']_Dark,no_street_lights    -0.6685      0.060    -11.189      0.000      -0.786      -0.551\n",
      "['ILLUMINATION']_Dawn                     -0.5877      0.140     -4.190      0.000      -0.863      -0.313\n",
      "['ILLUMINATION']_Daylight                 -0.7110      0.035    -20.358      0.000      -0.779      -0.643\n",
      "['ILLUMINATION']_Dusk                     -0.4461      0.125     -3.573      0.000      -0.691      -0.201\n",
      "['WEATHER']_Fog                           -0.5038      0.330     -1.528      0.126      -1.150       0.142\n",
      "['WEATHER']_Rain                          -0.7614      0.058    -13.127      0.000      -0.875      -0.648\n",
      "['WEATHER']_Rain_and_fog                  -0.5820      0.420     -1.384      0.166      -1.406       0.242\n",
      "['WEATHER']_Sleet                         -1.0713      0.241     -4.436      0.000      -1.545      -0.598\n",
      "['WEATHER']_Sleet_and_fog                 -1.5703      1.011     -1.553      0.120      -3.552       0.411\n",
      "['WEATHER']_Snow                          -1.4736      0.089    -16.478      0.000      -1.649      -1.298\n",
      "==========================================================================================================\n"
     ]
    }
   ],
   "source": [
    "import statsmodels.api as sm\n",
    "Log_Reg = sm.load('results/Logistic_Regression_Model_Fitting.pickle')\n",
    "print(Log_Reg.summary())"
   ]
  },
  {
   "cell_type": "markdown",
   "metadata": {},
   "source": [
    "The null hypothesis of testing each parameter of feature is $H_0:\\beta_i=0$. We set the critical value alpha to be 0.05, so for feature which p-value is larger than 0.05, we will fail to reject null hypothesis. In other words, if the p-value of a feature is greater than 0.05, we will drop that feature because it is not statistically significant.\n",
    "Besides FIRE_IN_VEHICLE, CELL_PHONE, ['WEATHER']_Fog, ['WEATHER']_Rain_and_fog,['WEATHER']_Sleet_and_fog , other variables are statistically significant to fatal accident.<br/>\n",
    "That being said, features like time, location, age, dangerous driving behavior such as speeding and useage of alcohol, collision type are signifiant to fatal accidents. Therefore, we will discuss how human error(speeding, collision type), enviorment(weather, lightcondition, type of intersection), useage of alhocal affect traffic safty."
   ]
  },
  {
   "cell_type": "markdown",
   "metadata": {},
   "source": [
    "## Part two -- How Human Error Affect Fatal Accident\n",
    "\n",
    "Road danger is a man-made crisis, with human error accounting for over 90 percent of accidents (Smith). More than 90 percent of road accidents are caused by human error. However, with the remaining 10 percent of non human-error accidents, the death could also be substantial. One of our focuses of this repository would be to explore this 10 percent."
   ]
  },
  {
   "cell_type": "markdown",
   "metadata": {},
   "source": [
    "## Part Three -- How Enviorment Affect Fatal Accident"
   ]
  },
  {
   "cell_type": "markdown",
   "metadata": {},
   "source": [
    "Besides exploring human error, we also did analysis on how enviorment affect Fatal accidents. Specifically, we discussed three factors, Weather, Light and Intersection, which are features that we are interested in and found them siginicant in part one, logistic regression analysis. \n",
    "![](fig/us_highway_map.jpg)"
   ]
  },
  {
   "cell_type": "markdown",
   "metadata": {},
   "source": [
    "\n",
    "        \n",
    "        \n",
    "\t\t#One of our focuses of this repository would be to explore this 10 percent. We decided to put our focus of this analysis on three factor: Weather, Light and Intersection. I will mostly discuss the factor of weather here.\n",
    "\tWe first have to do some data exploration. We grouped the data by certain aspect and calculate its total sum and display it in descending order. You can see from the all of the tables in the notebook4. It is best to put the table this way for best visualization.\n",
    "       We have generate most accidents happen during clear day. In my initial thinking, I though that most accident might happen during cloudy day or raining day as the visibility is not as great, but this graph proved me wrong. But, actually it makes sense since in most places, clear day happens most of time. Some of the other weather condition accident is way too small to display on the graph, we would simply have it removed from the plot, otherwise it would make the graph hard to read.\n",
    "         We also did further data exploration to analyze the relationship between death and weather-related accidents. The death per accident is highest in Snow condition, also noticed the second highest is the Blowing Snow Condition. Driving situations that feature rapidly changing weather conditions are particularly hazardous to drivers. A heavy snow squall, dense fog, or blinding rain can reduce visibility from good to just a few feet in front of you in a matter of seconds.Most of all Snow day usually indicates the worst of driving condition: limited visibility, snow blindness and the lost of traction.\n",
    "        The third highest ratio in the graph is the fog, smog and smoke condition. For obvious reasons, we often focus on the deadly potential of excessive rain, cold, even wind. However, the result in the plot comes as a shock to me how deadly fog can be on the roads each year. \n",
    "        To relate to our daily life, fog, smog and smoke condition happened much more that we think: Driving on Golden Gate Bridge or Bay Bridge, the recent Napa and Los Angles Forest Fire, and even driving back to home located north Berkeley at night. Just a side note, It would be best to take extra care driving in any of these extreme weather condition."
   ]
  },
  {
   "cell_type": "markdown",
   "metadata": {},
   "source": [
    "\n",
    "**Author Contributions**\n",
    "\n",
    "**Yuanfeng Hu**\n",
    "\n",
    "Yuanfeng focused on the  analysis of Non Human Error Trafic Accidents, Notebook4 and give insight for overall structure of the project.  He also made the Makefile, did the environment set-up, licensing, gitignore file and few other writing task,\n",
    "\n",
    "**Aiting(Kelly) Kuang**\n",
    "\n",
    "** Yuening Zhu**\n"
   ]
  },
  {
   "cell_type": "code",
   "execution_count": null,
   "metadata": {
    "collapsed": true
   },
   "outputs": [],
   "source": []
  }
 ],
 "metadata": {
  "kernelspec": {
   "display_name": "Python 3",
   "language": "python",
   "name": "python3"
  },
  "language_info": {
   "codemirror_mode": {
    "name": "ipython",
    "version": 3
   },
   "file_extension": ".py",
   "mimetype": "text/x-python",
   "name": "python",
   "nbconvert_exporter": "python",
   "pygments_lexer": "ipython3",
   "version": "3.6.1"
  }
 },
 "nbformat": 4,
 "nbformat_minor": 2
}
