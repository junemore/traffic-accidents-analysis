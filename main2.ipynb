{
 "cells": [
  {
   "cell_type": "markdown",
   "metadata": {},
   "source": [
    "# Analysis of Contributing Factors in Road Accidents Through Accident Analysis\n",
    "\n",
    "**Authors: Yuanfeng Hu, Aiting(Kelly) Kuang, Yuening Zhu**\n"
   ]
  },
  {
   "cell_type": "markdown",
   "metadata": {},
   "source": [
    "## Abstract\n",
    "\n",
    "Fatal accidents take away more than 30,000 lives every year in the U.S. (NHTSA), and traffic safety have been concern of many people for years not only beacuase people want to reduce deaths from traffic accidents, but also reduce accident severity. One way to accomplish reducing fatality from traffice accident is to identify the most probable factors that affect accident severity.<br/>\n",
    "In our final project, we want to identify the most probable factors that affect fatal accidents and accident severity through performing logistic regression, analyzing, and discussing how the important factors obtained from logistic regression affect fatal accidents. Specifically, we will explore how human error, enviorment, and use of alcohol contribute to fatal accidents.\n",
    "\n"
   ]
  },
  {
   "cell_type": "markdown",
   "metadata": {},
   "source": [
    "## Part one -- Logistic Regression on Fatal Accidents\n",
    "The data we used to perform logistic regression are all crashes happened in Allegheny County from 2004 to 2016. The file recorded whether the crashes are fatal or non-fatal. Because of this binary nature of the dependent variable, a logistic regression approach was found suitable.<br/>\n",
    "\n",
    "**Theoretical Background of Logistic Regression**\n",
    "\n",
    "The goal of using logistic regression to do analysis is the same as using other model-building technique in statistics: to find the best fit and the most parsimonious one. The difference between logistic and linear regression is the response variable of logistic regression is binary. Once this difference is accounted for, the methods employed in an analysis using logistic regression follow the same general principle in linear regression analysis: \n",
    "\n",
    "$$E( y | X )=\\beta_0+\\beta_1X$$\n",
    "\n",
    "where y is response variable, in this case, fatal and non-fatal accidents, and X are marix of features, and $\\beta$ are parameter. <br/>\n",
    "The specific form of logistic regression is: $$\\pi(X)=\\frac{e^{\\beta_0+\\beta_1X}} {1+e^{\\beta_0+\\beta_1X}} $$\n",
    "where $\\pi(X)$ is $y$, the probability of being fatal accident. \n",
    "We used $\\pi(X)$ as an classfier to classify whether a accident fatal accident or non-fatal accidents in notebook1, altough this classification method is sample and have a lot of draw back, it have 90% accuary, which indicates that the feature we selected in the logistic regression is helpful in identify and predict traffic safety.\n",
    "<br/>\n",
    "Below is the summary of logistic regression from notebook1:"
   ]
  },
  {
   "cell_type": "markdown",
   "metadata": {},
   "source": [
    "### Variable Selection"
   ]
  },
  {
   "cell_type": "code",
   "execution_count": 2,
   "metadata": {},
   "outputs": [
    {
     "name": "stdout",
     "output_type": "stream",
     "text": [
      "                           Logit Regression Results                           \n",
      "==============================================================================\n",
      "Dep. Variable:       FATAL_OR_MAJ_INJ   No. Observations:               157821\n",
      "Model:                          Logit   Df Residuals:                   157788\n",
      "Method:                           MLE   Df Model:                           32\n",
      "Date:                Thu, 14 Dec 2017   Pseudo R-squ.:                 0.01482\n",
      "Time:                        00:21:44   Log-Likelihood:                -17667.\n",
      "converged:                       True   LL-Null:                       -17933.\n",
      "                                        LLR p-value:                 7.633e-92\n",
      "==========================================================================================================\n",
      "                                             coef    std err          z      P>|z|      [0.025      0.975]\n",
      "----------------------------------------------------------------------------------------------------------\n",
      "VEHICLE_COUNT                             -2.1001      0.035    -59.574      0.000      -2.169      -2.031\n",
      "DRIVER_16YR                               -0.5669      0.187     -3.028      0.002      -0.934      -0.200\n",
      "DRIVER_17YR                               -0.3640      0.110     -3.297      0.001      -0.580      -0.148\n",
      "DRIVER_65_74YR                             0.4165      0.060      6.892      0.000       0.298       0.535\n",
      "DRIVER_75PLUS                              0.5133      0.066      7.767      0.000       0.384       0.643\n",
      "AGGRESSIVE_DRIVING                        -0.4799      0.050     -9.663      0.000      -0.577      -0.383\n",
      "DISTRACTED                                -0.6068      0.068     -8.865      0.000      -0.741      -0.473\n",
      "DRINKING_DRIVER                            0.2180      0.043      5.119      0.000       0.135       0.301\n",
      "HVY_TRUCK_RELATED                          0.9232      0.078     11.850      0.000       0.771       1.076\n",
      "INTERSECTION                              -0.6318      0.036    -17.451      0.000      -0.703      -0.561\n",
      "SPEEDING_RELATED                           0.6584      0.057     11.545      0.000       0.547       0.770\n",
      "UNBELTED                                   0.9004      0.036     24.792      0.000       0.829       0.972\n",
      "FIRE_IN_VEHICLE                           -0.2249      0.208     -1.083      0.279      -0.632       0.182\n",
      "CELL_PHONE                                -0.1656      0.191     -0.869      0.385      -0.539       0.208\n",
      "['Coll']_Angle                             1.6634      0.065     25.601      0.000       1.536       1.791\n",
      "['Coll']_Head-On                           2.5349      0.072     35.248      0.000       2.394       2.676\n",
      "['Coll']_Hit Pedestrian                    1.2968      0.056     23.294      0.000       1.188       1.406\n",
      "['Coll']_Not Collision                     0.2267      0.082      2.757      0.006       0.066       0.388\n",
      "['Coll']_Rear-End                          1.0672      0.072     14.727      0.000       0.925       1.209\n",
      "['Coll']_Rear-to-Rear                      1.2775      0.460      2.778      0.005       0.376       2.179\n",
      "['Coll']_Sideswipe                         1.1106      0.094     11.867      0.000       0.927       1.294\n",
      "['Weekday']_Weekday                       -0.6732      0.031    -21.552      0.000      -0.734      -0.612\n",
      "['ILLUMINATION']_Dark                     -0.5646      0.196     -2.887      0.004      -0.948      -0.181\n",
      "['ILLUMINATION']_Dark,no_street_lights    -0.6685      0.060    -11.189      0.000      -0.786      -0.551\n",
      "['ILLUMINATION']_Dawn                     -0.5877      0.140     -4.190      0.000      -0.863      -0.313\n",
      "['ILLUMINATION']_Daylight                 -0.7110      0.035    -20.358      0.000      -0.779      -0.643\n",
      "['ILLUMINATION']_Dusk                     -0.4461      0.125     -3.573      0.000      -0.691      -0.201\n",
      "['WEATHER']_Fog                           -0.5038      0.330     -1.528      0.126      -1.150       0.142\n",
      "['WEATHER']_Rain                          -0.7614      0.058    -13.127      0.000      -0.875      -0.648\n",
      "['WEATHER']_Rain_and_fog                  -0.5820      0.420     -1.384      0.166      -1.406       0.242\n",
      "['WEATHER']_Sleet                         -1.0713      0.241     -4.436      0.000      -1.545      -0.598\n",
      "['WEATHER']_Sleet_and_fog                 -1.5703      1.011     -1.553      0.120      -3.552       0.411\n",
      "['WEATHER']_Snow                          -1.4736      0.089    -16.478      0.000      -1.649      -1.298\n",
      "==========================================================================================================\n"
     ]
    }
   ],
   "source": [
    "import statsmodels.api as sm\n",
    "Log_Reg = sm.load('results/Logistic_Regression_Model_Fitting.pickle')\n",
    "print(Log_Reg.summary())"
   ]
  },
  {
   "cell_type": "markdown",
   "metadata": {},
   "source": [
    "The null hypothesis of testing each parameter of feature is $H_0:\\beta_i=0$. We set the critical value alpha to be 0.05, so for feature which p-value is larger than 0.05, we will fail to reject null hypothesis. In other words, if the p-value of a feature is greater than 0.05, we will drop that feature because it is not statistically significant.\n",
    "Besides FIRE_IN_VEHICLE, CELL_PHONE, ['WEATHER']_Fog, ['WEATHER']_Rain_and_fog,['WEATHER']_Sleet_and_fog , other variables are statistically significant to fatal accident.<br/>\n",
    "That being said, features like time, location, age, dangerous driving behavior such as speeding and useage of alcohol, collision type are signifiant to fatal accidents. Therefore, we will discuss how human error(speeding, collision type), enviorment(weather, lightcondition, type of intersection), useage of alhocal affect traffic safty."
   ]
  },
  {
   "cell_type": "markdown",
   "metadata": {},
   "source": [
    "## Part Two -- How Enviorment Affect Fatal Accident"
   ]
  },
  {
   "cell_type": "markdown",
   "metadata": {},
   "source": [
    "Road danger is a man-made crisis, with human error accounting for over 90 percent of accidents (Smith). More than 90 percent of road accidents are caused by human error. However, with the remaining 10 percent of non human-error accidents, the death could also be substantial. One of our focuses of this repository would be to explore this 10 percent.\n",
    "<br/>\n",
    "\n",
    "We ploted the recent 10 years of fatal accident on map in the first grapg, and the seconed graph above is the map of major U.S. highways. We found that the place that were highlighted on the first graph are where place with high population densities. We can see from the fatal accident v.s. location graph, east coast had more fatal accidents than west coast and the central of U.S, and that being said, the higher poplulation density there was, the more fatal accidents tend to happened. And also we have another interesting observation, the distribition of fatal accidents on the map looks very simmilar to the picture below, the U.S. highway map. We can indentify  major highways in the U.S. in the the fatal accident v.s. location graph as they were highlighted in the graph. From data visualization, we can observe that many of fatal accidents happened on major highway in the U.S.\n",
    "![](fig/fatal_accident_location.png)\n",
    "<img src=\"fig/us_highway_map.jpg\" width=\"650\">\n",
    "\n",
    "<br/>\n",
    "\n",
    "\n",
    "We also explore other enviorment factors such as weather, type of intersection, and light condition. And we will mostly discuss the factor of weather here.We first did some data exploration. We grouped the data by certain aspect and calculate its total sum and display it in descending order. You can see from the all of the tables in the notebook4. It is best to put the table this way for best visualization.<br/>\n",
    "<img src=\"fig/Porportion of Weather Related Accidents.png\" width=\"600\">\n",
    "![](fig/Number of Death Per Accident Ratio.png)\n",
    "We have generate most accidents happen during clear day. In our initial thinking, I though that most accident might happen during cloudy day or raining day as the visibility is not as great, but this graph proved me wrong. But, actually it makes sense since in most places, clear day happens most of time. Some of the other weather condition accident is way too small to display on the graph, we would simply have it removed from the plot, otherwise it would make the graph hard to read.<br/>\n",
    "     We also did further data exploration to analyze the relationship between death and weather-related accidents. The death per accident is highest in Snow condition, also noticed the second highest is the Blowing Snow Condition. Driving situations that feature rapidly changing weather conditions are particularly hazardous to drivers. A heavy snow squall, dense fog, or blinding rain can reduce visibility from good to just a few feet in front of you in a matter of seconds.Most of all Snow day usually indicates the worst of driving condition: limited visibility, snow blindness and the lost of traction.\n",
    "    The third highest ratio in the graph is the fog, smog and smoke condition. For obvious reasons, we often focus on the deadly potential of excessive rain, cold, even wind. However, the result in the plot comes as a shock to me how deadly fog can be on the roads each year. \n",
    "    To relate to our daily life, fog, smog and smoke condition happened much more that we think: Driving on Golden Gate Bridge or Bay Bridge, the recent Napa and Los Angles Forest Fire, and even driving back to home located north Berkeley at night. Just a side note, It would be best to take extra care driving in any of these extreme weather condition."
   ]
  },
  {
   "cell_type": "markdown",
   "metadata": {},
   "source": [
    "## Part Three -- How Human Error Affect Fatal Accident\n",
    "\n",
    "As mention before, road danger is a man-made crisis, with human error accounting for over 90 percent of accidents (Smith). More than 90 percent of road accidents are caused by human error. To understand what kind of human behaviors make driving less safe, we studied how speeding and drinking affects traffic safety.\n",
    "\n",
    "Speeding endangers everyone on the road; About 18% of fatal accidents involve speeding or speeding-related agressive driving behavior. We all know the frustrations of modern life and juggling a busy schedule, but speeding not only affects people's own safety, but it also endangers everyone else on the road. Sometime, even when you’re driving the speed limit but too fast for road conditions, for example, during bad weather, or when a road is under repair, it will still endangers your life becuase when you are driving fast, there is less time for you to react when you are in danger. Speed limits are designed to protect everyone on the road, so it is important for people to obey the law. \n",
    "![](fig/percentage_of_speeding.png)![](fig/speeding_age_density.png)\n",
    "Not only did we studied the percentage of fatal accidents which involved speeding, but we also studied which group of people are most likely to speed. We found that within all the people who had engaged in speeding-related activities, men are more likely to speed compared the same-age female before 65 years old; after 65 years old, women are more likely to speed than same-age man. And also, no matter man or women, there is a downward trend in the probability of speeding as age increases. The older and more experience people are, the more they understand the danger of speeding, the less likely will they drive over speed limit. However, Young people who imposive and less experienced, are much more likey to engage in speeding, sepically for young people who are in their 20s. \n",
    "\n",
    "\n",
    "We also looked in to alcohol violation in fatal accidents. While use of alcohol and the risks posed by alcohol for drivers have been well known for many decades, and many effort have been put in educating the public and making policy to prevent people from drunk driving, alcohol involvement is still one of the major factor which causes fatal accidents. Again, we found that in both nondrinking fatal accidents and drinking fatal accidents, young people who in their 20s are the most likely to involve in fatal accidents. \n",
    "However, it is obvious that age group in nondrinking fatal accidents are more spread out, and the proportion of young people involve in drinking fatal accidents is significantly larger than other age group. Therefore, we come to the conclusion that young people who in their 20s are the most likely to involve in both non drinking fatal accidents and drinking fatal accidents. The common explanation for this relationship is the inexperience and risk-taking of youthful drivers and the deterioration of driving skills.\n",
    "In 2015, there are 110,434,119 licensed male drivers and 107,649,686 licensed female drivers in the U.S. In other words, male and female take about 50% of driver population. However, in alcohol-involved fatal accidents, 71.2% of drinking drivers are male, and only 28.8% of drinking drivers are female. These statistic show that male are much more likely to involve in alcohol-related fatal accidents.\n",
    "![](fig/fatality_vs_age.png)![](fig/gender_vs_fatal_accidents.png)\n",
    "\n",
    "After exploring drunk drive and speeding, we wondered if there are any relationship between them, so we groupped drivers who drive after drinking and drivers who did not drink, and calculated the average speed of each group. Surprisingly, we find that drinking drivers have median speed of 65, and the median speed of non-drinking drivers is 45, which is much lower than drinking drivers. However, there is no big different on speeding between male and female, in both drinking and nondrinking case. \n",
    "In order to know whether drinking encourages speeding or not, we performed **two-sample-z-test** .\n",
    "We denoted nondrinking group group1, and drinking group2. We made the null hypothesis as there is no difference between the drinking group and the non drinking group, i.e :\n",
    "\n",
    "$$H_0:\\mu_2-\\mu_1=0$$\n",
    "\n",
    "and we computed test statistic using the mean of speed of the drinking group and non-drinking group. We compared our test statistic $Z=\\frac{(\\overline{X_2}-\\overline{X_1})-(\\mu_2-\\mu_1)} {\\sqrt[2]{(\\hat{\\sigma_2}^2/n_2+ \\hat{\\sigma_1}^2/n_1)}} $ to Z = 1.96, where significant level, alpha is 5%. The test staitstic we got is greater than 1.96, which indicates that there are enough evidence to sugguest that the drinking group and non drinking group are statistically significantly different. In other words, drinking encourage speeding.\n",
    "![](fig/drinking_vs_speeding.png)\n",
    "\n"
   ]
  },
  {
   "cell_type": "markdown",
   "metadata": {},
   "source": [
    "## Conclusion\n",
    "Our fatal accident analysis identifies key features and elements which have significant influence on fatal accidents. Even though we used simple logistic regression, which is not the best model and has a lot of drawbacks, it helped us found factors that are influential to traffice safety. <br/>\n",
    "In our analysis, we found that, the higher population density it is, the more likely to have fatal accidents. And on average, young people who are in their 20s are more likely to involve in drunk drive and speeding, espically for male drivers. Moreover, speeding and drunk drive not only cause a significant share of totoal fatal accidents and increase the possibility of death, but also drunk drive is dangerous becuase it promotes speeding behavior which further enhance the chance of involving in fatal accidents.<br/>\n",
    "We should all be careful, considerate and obey the law when we are driving, no matter how old you are, whether you are a woman or a man, because even if we can \"predict\" the possibility of living or die while driving, it is only a theoretical number.Life is too short to last long, so b"
   ]
  },
  {
   "cell_type": "markdown",
   "metadata": {},
   "source": [
    "\n",
    "**Author Contributions**\n",
    "\n",
    "**Yuanfeng Hu**\n",
    "\n",
    "Yuanfeng focused on the  analysis of Non Human Error Trafic Accidents, Notebook4 and give insight for overall structure of the project.  He also made the Makefile, did the environment set-up, licensing, gitignore file and few other writing task.\n",
    "\n",
    "**Aiting(Kelly) Kuang**\n",
    "Aiting focused on finding data and data processing(notebook2), writing logisitc regresion(notebook1), analyzing effect of drunk drive(notebook5), and other human error such as speeding(notbook4,speeding part). She also wrote the main.\n",
    "\n",
    "** Yuening Zhu**\n",
    "Yueing focused on finding data and data processing(notebook2), analyzing the time and location of fatal accidents (notebook4), and also writing test and enviorment file."
   ]
  },
  {
   "cell_type": "code",
   "execution_count": null,
   "metadata": {
    "collapsed": true
   },
   "outputs": [],
   "source": []
  }
 ],
 "metadata": {
  "kernelspec": {
   "display_name": "Python 3",
   "language": "python",
   "name": "python3"
  },
  "language_info": {
   "codemirror_mode": {
    "name": "ipython",
    "version": 3
   },
   "file_extension": ".py",
   "mimetype": "text/x-python",
   "name": "python",
   "nbconvert_exporter": "python",
   "pygments_lexer": "ipython3",
   "version": "3.6.1"
  }
 },
 "nbformat": 4,
 "nbformat_minor": 2
}
