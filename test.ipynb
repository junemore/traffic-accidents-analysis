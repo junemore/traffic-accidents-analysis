{
 "cells": [
  {
   "cell_type": "code",
   "execution_count": 52,
   "metadata": {},
   "outputs": [],
   "source": [
    "#from Notebook_2_Selecting_and_Processing_Data_According_to_Logistic_Regression import *\n",
    "import pandas as pd\n",
    "import numpy as np\n",
    "\n",
    "def test_make_index():\n",
    "    d = {'STATE': [1,2], 'CASE_NUM': [10001, 100010],'YEAR':[2007,2010]}\n",
    "    df = pd.DataFrame(data=d)\n",
    "    obd=list(make_index(df).index)\n",
    "    exp=['200710001','2010100010']\n",
    "    assert obd[1]==exp[1]\n",
    "\n",
    "def test_change_body_type_value():\n",
    "    a=[16,27,59,79]\n",
    "    obd=list(map(change_body_type_value,a))\n",
    "    exp=['Sedan','Van','Truck','Motor']\n",
    "    assert obd==exp\n",
    "\n"
   ]
  },
  {
   "cell_type": "code",
   "execution_count": 53,
   "metadata": {},
   "outputs": [],
   "source": [
    "test_make_index()"
   ]
  },
  {
   "cell_type": "code",
   "execution_count": null,
   "metadata": {
    "collapsed": true
   },
   "outputs": [],
   "source": []
  }
 ],
 "metadata": {
  "kernelspec": {
   "display_name": "Python 3",
   "language": "python",
   "name": "python3"
  },
  "language_info": {
   "codemirror_mode": {
    "name": "ipython",
    "version": 3
   },
   "file_extension": ".py",
   "mimetype": "text/x-python",
   "name": "python",
   "nbconvert_exporter": "python",
   "pygments_lexer": "ipython3",
   "version": "3.6.2"
  }
 },
 "nbformat": 4,
 "nbformat_minor": 2
}
