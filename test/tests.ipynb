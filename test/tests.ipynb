{
 "cells": [
  {
   "cell_type": "code",
   "execution_count": null,
   "metadata": {
    "collapsed": true
   },
   "outputs": [],
   "source": [
    "from mymean import mean\n",
    "\n",
    "def make_index(df):\n",
    "    df['STATE']=df['STATE'].astype(int)\n",
    "    df['CASE_NUM']=df['CASE_NUM'].astype(int)\n",
    "    df['YEAR']=df['YEAR'].astype(int)\n",
    "    df.index = list(df['YEAR'].astype(str) + df['CASE_NUM'].astype(str))\n",
    "    \n",
    "    \n",
    "    \n",
    "def test_mean():\n",
    "    assert mean([1]) == 1\n",
    "\n",
    "def test_ints():\n",
    "    num_list = [1, 2, 3, 4, 5]\n",
    "    obs = mean(num_list)\n",
    "    exp = 3\n",
    "    assert obs == exp\n",
    "\n",
    "def test_zero():\n",
    "    num_list=[0,2,4,6]\n",
    "    obs = mean(num_list)\n",
    "    exp = 3\n",
    "    assert obs == exp\n",
    "\n",
    "def test_double():\n",
    "    # This one will fail in Python 2\n",
    "    num_list=[1,2,3,4]\n",
    "    obs = mean(num_list)\n",
    "    exp = 2.5\n",
    "    assert obs == exp\n",
    "\n",
    "def test_long():\n",
    "    big = 100000000\n",
    "    obs = mean(range(1,big))\n",
    "    exp = big/2.0\n",
    "    assert obs == exp\n",
    "\n",
    "def test_complex():\n",
    "    # given that complex numbers are an unordered field\n",
    "    # the arithmetic mean of complex numbers is meaningless\n",
    "    num_list = [2 + 3j, 3 + 4j, -32 - 2j]\n",
    "    obs = mean(num_list)\n",
    "    exp = NotImplemented\n",
    "    assert obs == exp"
   ]
  }
 ],
 "metadata": {
  "kernelspec": {
   "display_name": "Python 3",
   "language": "python",
   "name": "python3"
  },
  "language_info": {
   "codemirror_mode": {
    "name": "ipython",
    "version": 3
   },
   "file_extension": ".py",
   "mimetype": "text/x-python",
   "name": "python",
   "nbconvert_exporter": "python",
   "pygments_lexer": "ipython3",
   "version": "3.6.2"
  }
 },
 "nbformat": 4,
 "nbformat_minor": 2
}
